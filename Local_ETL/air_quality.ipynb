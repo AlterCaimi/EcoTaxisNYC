{
 "cells": [
  {
   "cell_type": "markdown",
   "metadata": {},
   "source": [
    "# ETL de Calidad de Aire en NYC"
   ]
  },
  {
   "cell_type": "markdown",
   "metadata": {},
   "source": [
    "Importar librerías"
   ]
  },
  {
   "cell_type": "code",
   "execution_count": 1,
   "metadata": {},
   "outputs": [],
   "source": [
    "import pandas as pd\n",
    "import warnings\n",
    "warnings.filterwarnings('ignore')"
   ]
  },
  {
   "cell_type": "markdown",
   "metadata": {},
   "source": [
    "Cargar dataset y hacer transformaciones"
   ]
  },
  {
   "cell_type": "code",
   "execution_count": 27,
   "metadata": {},
   "outputs": [
    {
     "data": {
      "text/html": [
       "<div>\n",
       "<style scoped>\n",
       "    .dataframe tbody tr th:only-of-type {\n",
       "        vertical-align: middle;\n",
       "    }\n",
       "\n",
       "    .dataframe tbody tr th {\n",
       "        vertical-align: top;\n",
       "    }\n",
       "\n",
       "    .dataframe thead th {\n",
       "        text-align: right;\n",
       "    }\n",
       "</style>\n",
       "<table border=\"1\" class=\"dataframe\">\n",
       "  <thead>\n",
       "    <tr style=\"text-align: right;\">\n",
       "      <th></th>\n",
       "      <th>Año</th>\n",
       "      <th>Distrito</th>\n",
       "      <th>Fine particles (PM 2.5)</th>\n",
       "      <th>Nitrogen dioxide (NO2)</th>\n",
       "      <th>Ozone (O3)</th>\n",
       "    </tr>\n",
       "  </thead>\n",
       "  <tbody>\n",
       "    <tr>\n",
       "      <th>10</th>\n",
       "      <td>2009</td>\n",
       "      <td>Bronx</td>\n",
       "      <td>11.05</td>\n",
       "      <td>24.52</td>\n",
       "      <td>25.3</td>\n",
       "    </tr>\n",
       "    <tr>\n",
       "      <th>11</th>\n",
       "      <td>2009</td>\n",
       "      <td>Brooklyn</td>\n",
       "      <td>10.92</td>\n",
       "      <td>27.17</td>\n",
       "      <td>28.0</td>\n",
       "    </tr>\n",
       "    <tr>\n",
       "      <th>12</th>\n",
       "      <td>2009</td>\n",
       "      <td>Manhattan</td>\n",
       "      <td>12.63</td>\n",
       "      <td>33.89</td>\n",
       "      <td>27.5</td>\n",
       "    </tr>\n",
       "    <tr>\n",
       "      <th>13</th>\n",
       "      <td>2009</td>\n",
       "      <td>Queens</td>\n",
       "      <td>10.27</td>\n",
       "      <td>25.02</td>\n",
       "      <td>28.3</td>\n",
       "    </tr>\n",
       "    <tr>\n",
       "      <th>14</th>\n",
       "      <td>2009</td>\n",
       "      <td>Staten Island</td>\n",
       "      <td>10.50</td>\n",
       "      <td>19.14</td>\n",
       "      <td>30.0</td>\n",
       "    </tr>\n",
       "  </tbody>\n",
       "</table>\n",
       "</div>"
      ],
      "text/plain": [
       "     Año       Distrito  Fine particles (PM 2.5)  Nitrogen dioxide (NO2)  \\\n",
       "10  2009          Bronx                    11.05                   24.52   \n",
       "11  2009       Brooklyn                    10.92                   27.17   \n",
       "12  2009      Manhattan                    12.63                   33.89   \n",
       "13  2009         Queens                    10.27                   25.02   \n",
       "14  2009  Staten Island                    10.50                   19.14   \n",
       "\n",
       "    Ozone (O3)  \n",
       "10        25.3  \n",
       "11        28.0  \n",
       "12        27.5  \n",
       "13        28.3  \n",
       "14        30.0  "
      ]
     },
     "execution_count": 27,
     "metadata": {},
     "output_type": "execute_result"
    }
   ],
   "source": [
    "df = pd.read_csv('../Datasets/Air Quality/Air_Quality.csv')\n",
    "df = df[df['Geo Type Name'].isin(['Borough'])]\n",
    "df = df.pivot_table(index=['Unique ID', 'Indicator ID', 'Measure', 'Measure Info',\n",
    "                                 'Geo Type Name', 'Geo Join ID', 'Geo Place Name',\n",
    "                                 'Time Period', 'Start_Date'],\n",
    "                          columns='Name',\n",
    "                          values='Data Value').reset_index()\n",
    "variables = ['Time Period', 'Geo Place Name', 'Fine particles (PM 2.5)' ,'Nitrogen dioxide (NO2)', 'Ozone (O3)']\n",
    "df = df[variables]\n",
    "df['Time Period'] = df['Time Period'].str.extract(r'(\\d{4})').astype(int)\n",
    "df.rename(columns={'Time Period': 'Año', 'Geo Place Name': 'Distrito' }, inplace=True)\n",
    "df.columns.name = None\n",
    "df = df.groupby(['Año', 'Distrito']).agg('max').reset_index().dropna(how='any')\n",
    "df.head()"
   ]
  }
 ],
 "metadata": {
  "kernelspec": {
   "display_name": "Python 3",
   "language": "python",
   "name": "python3"
  },
  "language_info": {
   "codemirror_mode": {
    "name": "ipython",
    "version": 3
   },
   "file_extension": ".py",
   "mimetype": "text/x-python",
   "name": "python",
   "nbconvert_exporter": "python",
   "pygments_lexer": "ipython3",
   "version": "3.11.5"
  }
 },
 "nbformat": 4,
 "nbformat_minor": 2
}
