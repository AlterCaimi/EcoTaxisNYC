{
 "cells": [
  {
   "cell_type": "code",
   "execution_count": 1,
   "metadata": {},
   "outputs": [
    {
     "name": "stdout",
     "output_type": "stream",
     "text": [
      "Archivo ../../Streamlit/data/ensemble_1_complete.joblib comprimido como ../../Streamlit/data/ensemble_1_complete.tar.gz\n"
     ]
    }
   ],
   "source": [
    "import tarfile\n",
    "import os\n",
    "\n",
    "# Nombre del archivo a comprimir\n",
    "nombre_archivo_joblib = \"../../Streamlit/data/ensemble_1_complete.joblib\"\n",
    "\n",
    "# Nombre del archivo tar.gz comprimido\n",
    "nombre_archivo_comprimido = \"../../Streamlit/data/ensemble_1_complete.tar.gz\"\n",
    "\n",
    "# Abrir el archivo tar.gz en modo de escritura con compresión gzip\n",
    "with tarfile.open(nombre_archivo_comprimido, \"w:gz\") as tar:\n",
    "    # Agregar el archivo .joblib al archivo tar.gz\n",
    "    tar.add(nombre_archivo_joblib)\n",
    "\n",
    "# Eliminar el archivo .joblib original (opcional)\n",
    "os.remove(nombre_archivo_joblib)\n",
    "\n",
    "print(f\"Archivo {nombre_archivo_joblib} comprimido como {nombre_archivo_comprimido}\")\n"
   ]
  }
 ],
 "metadata": {
  "kernelspec": {
   "display_name": "Python 3",
   "language": "python",
   "name": "python3"
  },
  "language_info": {
   "codemirror_mode": {
    "name": "ipython",
    "version": 3
   },
   "file_extension": ".py",
   "mimetype": "text/x-python",
   "name": "python",
   "nbconvert_exporter": "python",
   "pygments_lexer": "ipython3",
   "version": "3.11.5"
  }
 },
 "nbformat": 4,
 "nbformat_minor": 2
}
