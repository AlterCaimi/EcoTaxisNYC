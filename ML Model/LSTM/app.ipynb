{
 "cells": [
  {
   "cell_type": "code",
   "execution_count": 15,
   "metadata": {},
   "outputs": [],
   "source": [
    "import streamlit as st\n",
    "from joblib import load\n",
    "import numpy as np\n",
    "# Cargar el modelo de Joblib\n",
    "modelo = load('test_model.joblib')\n",
    "scaler_X = load('scaler_X.joblib')\n",
    "scaler_Y = load('scaler_Y.joblib')\n"
   ]
  },
  {
   "cell_type": "code",
   "execution_count": 25,
   "metadata": {},
   "outputs": [
    {
     "name": "stderr",
     "output_type": "stream",
     "text": [
      "c:\\Users\\alter\\AppData\\Local\\Programs\\Python\\Python311\\Lib\\site-packages\\sklearn\\base.py:465: UserWarning: X does not have valid feature names, but MinMaxScaler was fitted with feature names\n",
      "  warnings.warn(\n"
     ]
    }
   ],
   "source": [
    "x_test = np.array([2023,\t12,\t19,\t19.0,\t5.0725,\t0.0,\t44.720245,\t0.0]).reshape((1, 8))\n",
    "x_test_scaled = scaler_X.transform(x_test)\n",
    "x_test_reshaped = x_test_scaled.reshape((1, 1, len(x_test_scaled[0])))"
   ]
  },
  {
   "cell_type": "code",
   "execution_count": 27,
   "metadata": {},
   "outputs": [
    {
     "name": "stdout",
     "output_type": "stream",
     "text": [
      "1/1 [==============================] - 0s 67ms/step\n"
     ]
    }
   ],
   "source": [
    "y_pred = modelo.predict(x_test_reshaped)"
   ]
  },
  {
   "cell_type": "code",
   "execution_count": 28,
   "metadata": {},
   "outputs": [],
   "source": [
    "y_pred_scaled = scaler_Y.inverse_transform(y_pred)"
   ]
  },
  {
   "cell_type": "code",
   "execution_count": 29,
   "metadata": {},
   "outputs": [
    {
     "data": {
      "text/plain": [
       "array([[7.6637135e+00, 5.1161983e+01, 7.4259883e+03, 6.1982983e+02,\n",
       "        1.3781972e-02]], dtype=float32)"
      ]
     },
     "execution_count": 29,
     "metadata": {},
     "output_type": "execute_result"
    }
   ],
   "source": [
    "y_pred_scaled"
   ]
  },
  {
   "cell_type": "code",
   "execution_count": 38,
   "metadata": {},
   "outputs": [
    {
     "name": "stdout",
     "output_type": "stream",
     "text": [
      "Bronx: 7\n",
      "Brooklyn: 51\n",
      "Manhattan: 7425\n",
      "Queens: 619\n",
      "Staten Island: 0\n"
     ]
    }
   ],
   "source": [
    "for i, barrio in enumerate(['Bronx', 'Brooklyn', 'Manhattan', 'Queens', 'Staten Island']):\n",
    "    print(f'{barrio}: {int(y_pred_scaled[0][i])}')"
   ]
  }
 ],
 "metadata": {
  "kernelspec": {
   "display_name": "Python 3",
   "language": "python",
   "name": "python3"
  },
  "language_info": {
   "codemirror_mode": {
    "name": "ipython",
    "version": 3
   },
   "file_extension": ".py",
   "mimetype": "text/x-python",
   "name": "python",
   "nbconvert_exporter": "python",
   "pygments_lexer": "ipython3",
   "version": "3.11.5"
  }
 },
 "nbformat": 4,
 "nbformat_minor": 2
}
