{
 "cells": [
  {
   "cell_type": "code",
   "execution_count": 1,
   "metadata": {},
   "outputs": [],
   "source": [
    "import pandas as pd\n",
    "import matplotlib.pyplot as plt\n",
    "import seaborn as sns\n",
    "import warnings\n",
    "warnings.filterwarnings('ignore')"
   ]
  },
  {
   "cell_type": "code",
   "execution_count": 3,
   "metadata": {},
   "outputs": [
    {
     "data": {
      "text/html": [
       "<div>\n",
       "<style scoped>\n",
       "    .dataframe tbody tr th:only-of-type {\n",
       "        vertical-align: middle;\n",
       "    }\n",
       "\n",
       "    .dataframe tbody tr th {\n",
       "        vertical-align: top;\n",
       "    }\n",
       "\n",
       "    .dataframe thead th {\n",
       "        text-align: right;\n",
       "    }\n",
       "</style>\n",
       "<table border=\"1\" class=\"dataframe\">\n",
       "  <thead>\n",
       "    <tr style=\"text-align: right;\">\n",
       "      <th></th>\n",
       "      <th>LocationID</th>\n",
       "      <th>Borough</th>\n",
       "      <th>Zone</th>\n",
       "      <th>service_zone</th>\n",
       "    </tr>\n",
       "  </thead>\n",
       "  <tbody>\n",
       "    <tr>\n",
       "      <th>0</th>\n",
       "      <td>1</td>\n",
       "      <td>EWR</td>\n",
       "      <td>Newark Airport</td>\n",
       "      <td>EWR</td>\n",
       "    </tr>\n",
       "    <tr>\n",
       "      <th>1</th>\n",
       "      <td>2</td>\n",
       "      <td>Queens</td>\n",
       "      <td>Jamaica Bay</td>\n",
       "      <td>Boro Zone</td>\n",
       "    </tr>\n",
       "    <tr>\n",
       "      <th>2</th>\n",
       "      <td>3</td>\n",
       "      <td>Bronx</td>\n",
       "      <td>Allerton/Pelham Gardens</td>\n",
       "      <td>Boro Zone</td>\n",
       "    </tr>\n",
       "    <tr>\n",
       "      <th>3</th>\n",
       "      <td>4</td>\n",
       "      <td>Manhattan</td>\n",
       "      <td>Alphabet City</td>\n",
       "      <td>Yellow Zone</td>\n",
       "    </tr>\n",
       "    <tr>\n",
       "      <th>4</th>\n",
       "      <td>5</td>\n",
       "      <td>Staten Island</td>\n",
       "      <td>Arden Heights</td>\n",
       "      <td>Boro Zone</td>\n",
       "    </tr>\n",
       "  </tbody>\n",
       "</table>\n",
       "</div>"
      ],
      "text/plain": [
       "   LocationID        Borough                     Zone service_zone\n",
       "0           1            EWR           Newark Airport          EWR\n",
       "1           2         Queens              Jamaica Bay    Boro Zone\n",
       "2           3          Bronx  Allerton/Pelham Gardens    Boro Zone\n",
       "3           4      Manhattan            Alphabet City  Yellow Zone\n",
       "4           5  Staten Island            Arden Heights    Boro Zone"
      ]
     },
     "execution_count": 3,
     "metadata": {},
     "output_type": "execute_result"
    }
   ],
   "source": [
    "df = pd.read_csv('../Datasets/taxi+_zone_lookup.csv')\n",
    "df.head()"
   ]
  },
  {
   "cell_type": "code",
   "execution_count": 4,
   "metadata": {},
   "outputs": [
    {
     "data": {
      "text/plain": [
       "array(['EWR', 'Queens', 'Bronx', 'Manhattan', 'Staten Island', 'Brooklyn',\n",
       "       'Unknown'], dtype=object)"
      ]
     },
     "execution_count": 4,
     "metadata": {},
     "output_type": "execute_result"
    }
   ],
   "source": [
    "df['Borough'].unique()"
   ]
  },
  {
   "cell_type": "code",
   "execution_count": 5,
   "metadata": {},
   "outputs": [
    {
     "data": {
      "text/plain": [
       "array(['Newark Airport', 'Jamaica Bay', 'Allerton/Pelham Gardens',\n",
       "       'Alphabet City', 'Arden Heights', 'Arrochar/Fort Wadsworth',\n",
       "       'Astoria', 'Astoria Park', 'Auburndale', 'Baisley Park',\n",
       "       'Bath Beach', 'Battery Park', 'Battery Park City', 'Bay Ridge',\n",
       "       'Bay Terrace/Fort Totten', 'Bayside', 'Bedford', 'Bedford Park',\n",
       "       'Bellerose', 'Belmont', 'Bensonhurst East', 'Bensonhurst West',\n",
       "       'Bloomfield/Emerson Hill', 'Bloomingdale', 'Boerum Hill',\n",
       "       'Borough Park', 'Breezy Point/Fort Tilden/Riis Beach',\n",
       "       'Briarwood/Jamaica Hills', 'Brighton Beach', 'Broad Channel',\n",
       "       'Bronx Park', 'Bronxdale', 'Brooklyn Heights',\n",
       "       'Brooklyn Navy Yard', 'Brownsville', 'Bushwick North',\n",
       "       'Bushwick South', 'Cambria Heights', 'Canarsie', 'Carroll Gardens',\n",
       "       'Central Harlem', 'Central Harlem North', 'Central Park',\n",
       "       'Charleston/Tottenville', 'Chinatown', 'City Island',\n",
       "       'Claremont/Bathgate', 'Clinton East', 'Clinton Hill',\n",
       "       'Clinton West', 'Co-Op City', 'Cobble Hill', 'College Point',\n",
       "       'Columbia Street', 'Coney Island', 'Corona', 'Country Club',\n",
       "       'Crotona Park', 'Crotona Park East', 'Crown Heights North',\n",
       "       'Crown Heights South', 'Cypress Hills', 'Douglaston',\n",
       "       'Downtown Brooklyn/MetroTech', 'DUMBO/Vinegar Hill',\n",
       "       'Dyker Heights', 'East Chelsea',\n",
       "       'East Concourse/Concourse Village', 'East Elmhurst',\n",
       "       'East Flatbush/Farragut', 'East Flatbush/Remsen Village',\n",
       "       'East Flushing', 'East Harlem North', 'East Harlem South',\n",
       "       'East New York', 'East New York/Pennsylvania Avenue',\n",
       "       'East Tremont', 'East Village', 'East Williamsburg', 'Eastchester',\n",
       "       'Elmhurst', 'Elmhurst/Maspeth',\n",
       "       \"Eltingville/Annadale/Prince's Bay\", 'Erasmus', 'Far Rockaway',\n",
       "       'Financial District North', 'Financial District South',\n",
       "       'Flatbush/Ditmas Park', 'Flatiron', 'Flatlands', 'Flushing',\n",
       "       'Flushing Meadows-Corona Park', 'Fordham South', 'Forest Hills',\n",
       "       'Forest Park/Highland Park', 'Fort Greene', 'Fresh Meadows',\n",
       "       'Freshkills Park', 'Garment District', 'Glen Oaks', 'Glendale',\n",
       "       \"Governor's Island/Ellis Island/Liberty Island\", 'Gowanus',\n",
       "       'Gramercy', 'Gravesend', 'Great Kills', 'Great Kills Park',\n",
       "       'Green-Wood Cemetery', 'Greenpoint', 'Greenwich Village North',\n",
       "       'Greenwich Village South', 'Grymes Hill/Clifton',\n",
       "       'Hamilton Heights', 'Hammels/Arverne',\n",
       "       'Heartland Village/Todt Hill', 'Highbridge', 'Highbridge Park',\n",
       "       'Hillcrest/Pomonok', 'Hollis', 'Homecrest', 'Howard Beach',\n",
       "       'Hudson Sq', 'Hunts Point', 'Inwood', 'Inwood Hill Park',\n",
       "       'Jackson Heights', 'Jamaica', 'Jamaica Estates', 'JFK Airport',\n",
       "       'Kensington', 'Kew Gardens', 'Kew Gardens Hills',\n",
       "       'Kingsbridge Heights', 'Kips Bay', 'LaGuardia Airport',\n",
       "       'Laurelton', 'Lenox Hill East', 'Lenox Hill West',\n",
       "       'Lincoln Square East', 'Lincoln Square West',\n",
       "       'Little Italy/NoLiTa', 'Long Island City/Hunters Point',\n",
       "       'Long Island City/Queens Plaza', 'Longwood', 'Lower East Side',\n",
       "       'Madison', 'Manhattan Beach', 'Manhattan Valley', 'Manhattanville',\n",
       "       'Marble Hill', 'Marine Park/Floyd Bennett Field',\n",
       "       'Marine Park/Mill Basin', 'Mariners Harbor', 'Maspeth',\n",
       "       'Meatpacking/West Village West', 'Melrose South', 'Middle Village',\n",
       "       'Midtown Center', 'Midtown East', 'Midtown North', 'Midtown South',\n",
       "       'Midwood', 'Morningside Heights', 'Morrisania/Melrose',\n",
       "       'Mott Haven/Port Morris', 'Mount Hope', 'Murray Hill',\n",
       "       'Murray Hill-Queens', 'New Dorp/Midland Beach', 'North Corona',\n",
       "       'Norwood', 'Oakland Gardens', 'Oakwood', 'Ocean Hill',\n",
       "       'Ocean Parkway South', 'Old Astoria', 'Ozone Park', 'Park Slope',\n",
       "       'Parkchester', 'Pelham Bay', 'Pelham Bay Park', 'Pelham Parkway',\n",
       "       'Penn Station/Madison Sq West', 'Port Richmond',\n",
       "       'Prospect-Lefferts Gardens', 'Prospect Heights', 'Prospect Park',\n",
       "       'Queens Village', 'Queensboro Hill', 'Queensbridge/Ravenswood',\n",
       "       'Randalls Island', 'Red Hook', 'Rego Park', 'Richmond Hill',\n",
       "       'Ridgewood', 'Rikers Island',\n",
       "       'Riverdale/North Riverdale/Fieldston', 'Rockaway Park',\n",
       "       'Roosevelt Island', 'Rosedale', 'Rossville/Woodrow',\n",
       "       'Saint Albans', 'Saint George/New Brighton',\n",
       "       'Saint Michaels Cemetery/Woodside', 'Schuylerville/Edgewater Park',\n",
       "       'Seaport', 'Sheepshead Bay', 'SoHo', 'Soundview/Bruckner',\n",
       "       'Soundview/Castle Hill', 'South Beach/Dongan Hills',\n",
       "       'South Jamaica', 'South Ozone Park', 'South Williamsburg',\n",
       "       'Springfield Gardens North', 'Springfield Gardens South',\n",
       "       'Spuyten Duyvil/Kingsbridge', 'Stapleton', 'Starrett City',\n",
       "       'Steinway', 'Stuy Town/Peter Cooper Village', 'Stuyvesant Heights',\n",
       "       'Sunnyside', 'Sunset Park East', 'Sunset Park West',\n",
       "       'Sutton Place/Turtle Bay North', 'Times Sq/Theatre District',\n",
       "       'TriBeCa/Civic Center', 'Two Bridges/Seward Park',\n",
       "       'UN/Turtle Bay South', 'Union Sq',\n",
       "       'University Heights/Morris Heights', 'Upper East Side North',\n",
       "       'Upper East Side South', 'Upper West Side North',\n",
       "       'Upper West Side South', 'Van Cortlandt Park',\n",
       "       'Van Cortlandt Village', 'Van Nest/Morris Park',\n",
       "       'Washington Heights North', 'Washington Heights South',\n",
       "       'West Brighton', 'West Chelsea/Hudson Yards', 'West Concourse',\n",
       "       'West Farms/Bronx River', 'West Village',\n",
       "       'Westchester Village/Unionport', 'Westerleigh', 'Whitestone',\n",
       "       'Willets Point', 'Williamsbridge/Olinville',\n",
       "       'Williamsburg (North Side)', 'Williamsburg (South Side)',\n",
       "       'Windsor Terrace', 'Woodhaven', 'Woodlawn/Wakefield', 'Woodside',\n",
       "       'World Trade Center', 'Yorkville East', 'Yorkville West', 'NV',\n",
       "       nan], dtype=object)"
      ]
     },
     "execution_count": 5,
     "metadata": {},
     "output_type": "execute_result"
    }
   ],
   "source": [
    "df['Zone'].unique()"
   ]
  },
  {
   "cell_type": "code",
   "execution_count": 7,
   "metadata": {},
   "outputs": [
    {
     "data": {
      "text/plain": [
       "0"
      ]
     },
     "execution_count": 7,
     "metadata": {},
     "output_type": "execute_result"
    }
   ],
   "source": [
    "df.duplicated().sum()"
   ]
  },
  {
   "cell_type": "code",
   "execution_count": 8,
   "metadata": {},
   "outputs": [
    {
     "data": {
      "text/plain": [
       "LocationID      0\n",
       "Borough         0\n",
       "Zone            1\n",
       "service_zone    2\n",
       "dtype: int64"
      ]
     },
     "execution_count": 8,
     "metadata": {},
     "output_type": "execute_result"
    }
   ],
   "source": [
    "df.isna().sum()"
   ]
  }
 ],
 "metadata": {
  "kernelspec": {
   "display_name": "Python 3",
   "language": "python",
   "name": "python3"
  },
  "language_info": {
   "codemirror_mode": {
    "name": "ipython",
    "version": 3
   },
   "file_extension": ".py",
   "mimetype": "text/x-python",
   "name": "python",
   "nbconvert_exporter": "python",
   "pygments_lexer": "ipython3",
   "version": "3.11.5"
  }
 },
 "nbformat": 4,
 "nbformat_minor": 2
}
