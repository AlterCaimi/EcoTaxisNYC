{
 "cells": [
  {
   "cell_type": "code",
   "execution_count": 1,
   "metadata": {},
   "outputs": [],
   "source": [
    "import pandas as pd\n",
    "import warnings\n",
    "warnings.filterwarnings('ignore')"
   ]
  },
  {
   "cell_type": "code",
   "execution_count": 2,
   "metadata": {},
   "outputs": [
    {
     "name": "stdout",
     "output_type": "stream",
     "text": [
      "<class 'pandas.core.frame.DataFrame'>\n",
      "RangeIndex: 27821 entries, 0 to 27820\n",
      "Data columns (total 16 columns):\n",
      " #   Column                    Non-Null Count  Dtype  \n",
      "---  ------                    --------------  -----  \n",
      " 0   Unnamed: 0                27821 non-null  int64  \n",
      " 1   License Number            27821 non-null  object \n",
      " 2   Name                      27821 non-null  object \n",
      " 3   Expiration Date           27821 non-null  object \n",
      " 4   DMV License Plate Number  27821 non-null  object \n",
      " 5   Vehicle VIN Number        27821 non-null  object \n",
      " 6   Vehicle Type              27821 non-null  object \n",
      " 7   Model Year                27821 non-null  int64  \n",
      " 8   Medallion Type            27821 non-null  object \n",
      " 9   Agent Number              24659 non-null  float64\n",
      " 10  Agent Name                17394 non-null  object \n",
      " 11  Agent Telephone Number    17394 non-null  object \n",
      " 12  Agent Website Address     0 non-null      float64\n",
      " 13  Agent Address             17394 non-null  object \n",
      " 14  Last Date Updated         27821 non-null  object \n",
      " 15  Last Time Updated         27821 non-null  object \n",
      "dtypes: float64(2), int64(2), object(12)\n",
      "memory usage: 3.4+ MB\n"
     ]
    }
   ],
   "source": [
    "df = pd.read_csv('../Datasets/medallion_vehicles_unique.csv')\n",
    "df.info()"
   ]
  }
 ],
 "metadata": {
  "kernelspec": {
   "display_name": "Python 3",
   "language": "python",
   "name": "python3"
  },
  "language_info": {
   "codemirror_mode": {
    "name": "ipython",
    "version": 3
   },
   "file_extension": ".py",
   "mimetype": "text/x-python",
   "name": "python",
   "nbconvert_exporter": "python",
   "pygments_lexer": "ipython3",
   "version": "3.11.5"
  }
 },
 "nbformat": 4,
 "nbformat_minor": 2
}
