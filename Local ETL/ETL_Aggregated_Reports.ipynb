{
 "cells": [
  {
   "cell_type": "markdown",
   "metadata": {},
   "source": [
    "## EDA de Reporte Agregado TLC:"
   ]
  },
  {
   "cell_type": "markdown",
   "metadata": {},
   "source": [
    "### 1. Importar librerías:"
   ]
  },
  {
   "cell_type": "code",
   "execution_count": 1,
   "metadata": {},
   "outputs": [],
   "source": [
    "import pandas as pd\n",
    "import seaborn as sns\n",
    "import matplotlib.pyplot as plt\n",
    "import warnings\n",
    "import numpy as np\n",
    "warnings.filterwarnings('ignore')"
   ]
  },
  {
   "cell_type": "markdown",
   "metadata": {},
   "source": [
    "### 2. Abrir documentos y extraerlos de la web:"
   ]
  },
  {
   "cell_type": "code",
   "execution_count": 2,
   "metadata": {},
   "outputs": [],
   "source": [
    "# URL del archivo CSV\n",
    "url = \"https://www.nyc.gov/assets/tlc/downloads/csv/data_reports_monthly.csv\"\n",
    "\n",
    "# Leer el archivo CSV desde la URL\n",
    "Aggregate_Report = pd.read_csv(url)"
   ]
  },
  {
   "cell_type": "markdown",
   "metadata": {},
   "source": [
    "### 3. Renombrar datos y filtrar solo UberLyft, Amarillos y Verdes:"
   ]
  },
  {
   "cell_type": "code",
   "execution_count": 3,
   "metadata": {},
   "outputs": [],
   "source": [
    "# Filtrar el DataFrame por 'License Class' y renombrar valores\n",
    "Aggregate_Report = Aggregate_Report[Aggregate_Report['License Class'].isin(['FHV - High Volume', 'Green', 'Yellow'])]\n",
    "Aggregate_Report['License Class'] = Aggregate_Report['License Class'].replace({'FHV - High Volume': 'UberLyft'})"
   ]
  },
  {
   "cell_type": "markdown",
   "metadata": {},
   "source": [
    "### 4. Corregir formato de valores y disminuir tamaño:"
   ]
  },
  {
   "cell_type": "code",
   "execution_count": 4,
   "metadata": {},
   "outputs": [],
   "source": [
    "# Reemplazar el símbolo \"%\" por una cadena vacía en la columna \"Percent of Trips Paid with Credit Card\"\n",
    "Aggregate_Report['Percent of Trips Paid with Credit Card'] = Aggregate_Report['Percent of Trips Paid with Credit Card'].str.replace('%', '')\n",
    "\n",
    "# Reemplazar los guiones \"-\" con ceros en las columnas que deseas convertir a float32\n",
    "columns_to_replace = ['Trips Per Day', 'Farebox Per Day',\n",
    "       'Unique Drivers', 'Unique Vehicles', 'Vehicles Per Day',\n",
    "       'Avg Days Vehicles on Road', 'Avg Hours Per Day Per Vehicle',\n",
    "       'Avg Days Drivers on Road', 'Avg Hours Per Day Per Driver',\n",
    "       'Avg Minutes Per Trip', 'Percent of Trips Paid with Credit Card',\n",
    "       'Trips Per Day Shared']\n",
    "\n",
    "for column in columns_to_replace:\n",
    "    if Aggregate_Report[column].dtype == 'object':  # Verificar si la columna es de tipo cadena\n",
    "        Aggregate_Report[column] = Aggregate_Report[column].str.replace(',', '')\n",
    "\n",
    "for column in columns_to_replace:\n",
    "    Aggregate_Report[column] = Aggregate_Report[column].replace('-', '0')\n",
    "    Aggregate_Report[column] = pd.to_numeric(Aggregate_Report[column], errors='coerce')  # Convertir a tipo float32, ignorando los errores de conversión\n",
    "\n",
    "# Convertir los float64 a float32\n",
    "Aggregate_Report[['Avg Days Vehicles on Road', 'Avg Hours Per Day Per Vehicle', 'Avg Days Drivers on Road', 'Avg Hours Per Day Per Driver', 'Avg Minutes Per Trip']] = Aggregate_Report[['Avg Days Vehicles on Road', 'Avg Hours Per Day Per Vehicle', 'Avg Days Drivers on Road', 'Avg Hours Per Day Per Driver', 'Avg Minutes Per Trip']].astype('float32')\n",
    "\n",
    "\n",
    "Aggregate_Report[['Trips Per Day', 'Farebox Per Day', 'Unique Drivers', 'Unique Vehicles', 'Vehicles Per Day', 'Percent of Trips Paid with Credit Card', 'Trips Per Day Shared']] = Aggregate_Report[['Trips Per Day', 'Farebox Per Day', 'Unique Drivers', 'Unique Vehicles', 'Vehicles Per Day', 'Percent of Trips Paid with Credit Card', 'Trips Per Day Shared']].astype('float32')  # Convertir a float32\n"
   ]
  },
  {
   "cell_type": "markdown",
   "metadata": {},
   "source": [
    "### 5. Filtrar datos desde el 2020 en adelante:"
   ]
  },
  {
   "cell_type": "markdown",
   "metadata": {},
   "source": [
    "Month/Year en esta columna el año viene separado del mes con \"-\" por ejemplo 2024-01 para indicar enero de 2024. Se requiere separar mes y año y solo dejar los registros de los años 2020 en adelante:"
   ]
  },
  {
   "cell_type": "code",
   "execution_count": 5,
   "metadata": {},
   "outputs": [],
   "source": [
    "# Separar la columna \"Month/Year\" en \"Year\" y \"Month\"\n",
    "Aggregate_Report [['Year', 'Month']] = Aggregate_Report ['Month/Year'].str.split('-', expand=True)\n",
    "\n",
    "# Convertir las columnas \"Year\" y \"Month\" a tipo numérico\n",
    "Aggregate_Report ['Year'] = pd.to_numeric(Aggregate_Report ['Year'])\n",
    "Aggregate_Report ['Month'] = pd.to_numeric(Aggregate_Report ['Month'])\n",
    "\n",
    "# Filtrar para incluir solo los registros a partir de 2020\n",
    "Aggregate_Report = Aggregate_Report [Aggregate_Report ['Year'] >= 2020]\n",
    "\n",
    "# Convertir Year y Month a int16\n",
    "Aggregate_Report[['Year', 'Month']] = Aggregate_Report[['Year', 'Month']].astype('int16')\n",
    "\n",
    "# Filtrar para incluir solo los registros a partir de 2020\n",
    "Aggregate_Report = Aggregate_Report[Aggregate_Report['Year'] >= 2020]\n"
   ]
  },
  {
   "cell_type": "markdown",
   "metadata": {},
   "source": [
    "### 6. Ordenar columnas e eliminar las que no serán necesarias:"
   ]
  },
  {
   "cell_type": "code",
   "execution_count": 6,
   "metadata": {},
   "outputs": [],
   "source": [
    "# Definir las dimensiones de agrupación y las variables de agregación\n",
    "dimensiones = [ 'Year', 'Month', 'License Class']\n",
    "variables_agregacion = ['Unique Drivers', 'Unique Vehicles', 'Vehicles Per Day',\n",
    "       'Avg Days Vehicles on Road', 'Avg Hours Per Day Per Vehicle',\n",
    "       'Avg Days Drivers on Road', 'Avg Hours Per Day Per Driver',\n",
    "       'Avg Minutes Per Trip', 'Percent of Trips Paid with Credit Card',\n",
    "       'Trips Per Day Shared']\n",
    "\n",
    "# Reordenar las columnas para que primero estén las dimensiones y luego las variables de agregación\n",
    "columnas_ordenadas = dimensiones + variables_agregacion\n",
    "\n",
    "# Reordenar el DataFrame agrupado\n",
    "Aggregate_Report = Aggregate_Report[columnas_ordenadas]"
   ]
  },
  {
   "cell_type": "markdown",
   "metadata": {},
   "source": [
    "No se incluirán las columnas 'Trips Per Day', 'Farebox Per Day' por ser campos que se calculan en el dataset de viajes y en el caso de Farebox no hay datos de Uber en este datwa set."
   ]
  }
 ],
 "metadata": {
  "kernelspec": {
   "display_name": "Python 3",
   "language": "python",
   "name": "python3"
  },
  "language_info": {
   "codemirror_mode": {
    "name": "ipython",
    "version": 3
   },
   "file_extension": ".py",
   "mimetype": "text/x-python",
   "name": "python",
   "nbconvert_exporter": "python",
   "pygments_lexer": "ipython3",
   "version": "3.10.11"
  }
 },
 "nbformat": 4,
 "nbformat_minor": 2
}
