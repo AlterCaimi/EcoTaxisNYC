{
 "cells": [
  {
   "cell_type": "markdown",
   "metadata": {},
   "source": [
    "## ETL General Servicios de Taxi, Uber y Lyft"
   ]
  },
  {
   "cell_type": "markdown",
   "metadata": {},
   "source": [
    "## 1. Importar librerías:"
   ]
  },
  {
   "cell_type": "code",
   "execution_count": 25,
   "metadata": {},
   "outputs": [],
   "source": [
    "import pandas as pd\n",
    "import seaborn as sns\n",
    "import warnings\n",
    "import numpy as np\n",
    "warnings.filterwarnings('ignore')"
   ]
  },
  {
   "cell_type": "markdown",
   "metadata": {},
   "source": [
    "## 2. ETL Taxi Amarillo:"
   ]
  },
  {
   "cell_type": "markdown",
   "metadata": {},
   "source": [
    "### 2.1 Abrir archivo de Taxi Amarillo:"
   ]
  },
  {
   "cell_type": "code",
   "execution_count": 26,
   "metadata": {},
   "outputs": [],
   "source": [
    "url_Y=\"https://d37ci6vzurychx.cloudfront.net/trip-data/yellow_tripdata_2023-12.parquet\"\n",
    "\n",
    "Yellow = pd.read_parquet(url_Y)"
   ]
  },
  {
   "cell_type": "markdown",
   "metadata": {},
   "source": [
    "Aquí solo se descarga un archivo, pero debe iterarse por cada mes/año en la pagina para descargar los 24 archivos para dos años (2021, 2022 y 2023)"
   ]
  },
  {
   "cell_type": "markdown",
   "metadata": {},
   "source": [
    "### 2.2 Eliminar comlumnas:"
   ]
  },
  {
   "cell_type": "code",
   "execution_count": 27,
   "metadata": {},
   "outputs": [],
   "source": [
    "columnas_eliminar = ['VendorID', 'RatecodeID', 'store_and_fwd_flag',\n",
    "       'payment_type']\n",
    "\n",
    "Yellow = Yellow.drop(columns=columnas_eliminar)"
   ]
  },
  {
   "cell_type": "markdown",
   "metadata": {},
   "source": [
    "### 2.3 Eliminar filas con tarifa base menor a $3:"
   ]
  },
  {
   "cell_type": "code",
   "execution_count": 28,
   "metadata": {},
   "outputs": [],
   "source": [
    "# Eliminar las filas donde 'fare_amount' menor a 3 dólares (tarifa base taxis, $5 la de cancelación uber)\n",
    "Yellow = Yellow[Yellow['fare_amount'] >= 3]"
   ]
  },
  {
   "cell_type": "markdown",
   "metadata": {},
   "source": [
    "### 2.4 Imputar valores Errados:"
   ]
  },
  {
   "cell_type": "code",
   "execution_count": 29,
   "metadata": {},
   "outputs": [],
   "source": [
    "# Calcula la moda de 'congestion_surcharge' y 'Airport_fee' excluyendo los valores cero\n",
    "moda_congestion = Yellow[Yellow['congestion_surcharge'] != 0]['congestion_surcharge'].mode()[0]\n",
    "moda_airport = Yellow[Yellow['Airport_fee'] != 0]['Airport_fee'].mode()[0]\n",
    "moda_Improvement = Yellow[Yellow['improvement_surcharge'] != 0]['improvement_surcharge'].mode()[0]\n",
    "\n",
    "# Imputa los valores erróneos utilizando la moda\n",
    "Yellow['congestion_surcharge'] = Yellow['congestion_surcharge'].apply(lambda x: moda_congestion if x > 0 else x)\n",
    "Yellow['Airport_fee'] = Yellow['Airport_fee'].apply(lambda x: moda_airport if x > 0 else x)\n",
    "Yellow['Airport_fee'] = Yellow['improvement_surcharge'].apply(lambda x: moda_Improvement if x > 0 else x)\n"
   ]
  },
  {
   "cell_type": "markdown",
   "metadata": {},
   "source": [
    "Hay tarifas fijas que se cargan desde el inicio del servicio y otras que dependen si el servicio o dependiendo si val al aeropuerto. Se imputan mediante la moda ya que la mayoría de registros están bien."
   ]
  },
  {
   "cell_type": "markdown",
   "metadata": {},
   "source": [
    "### 2.5 Eliminación de Outliers:"
   ]
  },
  {
   "cell_type": "code",
   "execution_count": 30,
   "metadata": {},
   "outputs": [],
   "source": [
    "# Eliminar las filas donde 'base_passenger_fare' supera los $400\n",
    "Yellow = Yellow[Yellow['fare_amount'] <= 300] # No se considera real una tarifa mayor $150 y se permite que esta se duplique.\n",
    "\n",
    "# Eliminar las filas donde 'trip_miles' supera las 100 millas\n",
    "Yellow = Yellow[Yellow['trip_distance'] <= 100] # la distancia máxima sería 50 millas, se puede suponer ida y vuelta\n",
    "\n",
    "# Eliminar las filas donde 'tolls' supera los $60 dólares\n",
    "Yellow = Yellow[Yellow['tolls_amount'] <= 60]"
   ]
  },
  {
   "cell_type": "markdown",
   "metadata": {},
   "source": [
    "### 2.6 Tranformar fechas y crear tiempos de espera y de viaje:"
   ]
  },
  {
   "cell_type": "code",
   "execution_count": 31,
   "metadata": {},
   "outputs": [],
   "source": [
    "# 1. Crear la columna \"time_out\" que sea la diferencia entre tpep_pickup_datetime y request_datetime\n",
    "Yellow['time_out'] = 0 #En los taxis no hay registro, porque la mayoría son servicion recogidos por parada en la calle\n",
    "\n",
    "# 2. Crear la columna \"travel_time\" que sea la diferencia entre dropoff_datetime y tpep_pickup_datetime\n",
    "Yellow['travel_time'] = Yellow['tpep_dropoff_datetime'] - Yellow['tpep_pickup_datetime']\n",
    "\n",
    "# 3. Convertir valores negativos en cero\n",
    "Yellow['travel_time'] = Yellow['travel_time'].clip(lower=pd.Timedelta(0))\n",
    "\n",
    "# 4. Crear las columnas \"year\", \"month\", \"day\", \"hour\" a partir de la columna tpep_pickup_datetime\n",
    "Yellow['year'] = Yellow['tpep_pickup_datetime'].dt.year\n",
    "Yellow['month'] = Yellow['tpep_pickup_datetime'].dt.month\n",
    "Yellow['day'] = Yellow['tpep_pickup_datetime'].dt.day\n",
    "Yellow['hour'] = Yellow['tpep_pickup_datetime'].dt.hour\n",
    "\n",
    "# 5. Redondear la columna \"hour\" al entero más cercano (de 1 a 24)\n",
    "Yellow['hour'] = Yellow['hour'].apply(lambda x: round(x))\n",
    "\n",
    "# 6. Crear la columna \"day_of_week\" a partir de la columna tpep_pickup_datetime\n",
    "Yellow['day_of_week'] = Yellow['tpep_pickup_datetime'].dt.day_name()\n",
    "\n",
    "# 7. Eliminar las columnas tpep_pickup_datetime y dropoff_datetime\n",
    "Yellow = Yellow.drop(columns=['tpep_pickup_datetime', 'tpep_dropoff_datetime'])\n"
   ]
  },
  {
   "cell_type": "markdown",
   "metadata": {},
   "source": [
    "### 2.7 Imputar tarifas de cargos según horario y unificación  de tarifa base y tarifa extra:"
   ]
  },
  {
   "cell_type": "markdown",
   "metadata": {},
   "source": [
    "Primero se imputan y corrigen valores de impuestos fijos según horarios:"
   ]
  },
  {
   "cell_type": "code",
   "execution_count": 32,
   "metadata": {},
   "outputs": [],
   "source": [
    "# Definir una función para asignar los valores según la columna \"hour\"\n",
    "def asignar_valor(row):\n",
    "    if (row['hour'] >= 16 and row['hour'] <= 24) or (row['hour'] <= 6):\n",
    "        return 1.5 if (row['hour'] >= 16 and row['hour'] <= 20) else 0.5\n",
    "    else:\n",
    "        return 0\n",
    "\n",
    "# Aplicar la función a la columna extra\n",
    "Yellow['extra'] = Yellow.apply(asignar_valor, axis=1)\n"
   ]
  },
  {
   "cell_type": "markdown",
   "metadata": {},
   "source": [
    "Luego se unifican tarifa base y extras:"
   ]
  },
  {
   "cell_type": "code",
   "execution_count": 33,
   "metadata": {},
   "outputs": [],
   "source": [
    "# Crear la columna \"fare_surcharges\" que sea la suma de tolls, mta_tax, congestion_surcharge, airport_fee\n",
    "Yellow['fare_surcharges'] = Yellow['tolls_amount'] + Yellow['extra'] + Yellow['congestion_surcharge'] + Yellow['Airport_fee']\n",
    "\n",
    "# Crear la columna \"base_fare\" que sea la suma de base_passenger_fare y sales_tax\n",
    "Yellow['base_fare'] = Yellow['fare_amount'] + 0.8 # 0.5 MTA + 0.3 Improvement\n",
    "\n",
    "# Eliminar las columnas de tarifas individuales\n",
    "columnas_eliminar = ['fare_amount', 'extra', 'mta_tax', 'tip_amount', 'tolls_amount',\n",
    "       'improvement_surcharge', 'total_amount', 'congestion_surcharge',\n",
    "       'Airport_fee']\n",
    "Yellow = Yellow.drop(columns=columnas_eliminar)"
   ]
  },
  {
   "cell_type": "markdown",
   "metadata": {},
   "source": [
    "### 2.8 Cambiar formato de tiempos de viaje y espera:"
   ]
  },
  {
   "cell_type": "code",
   "execution_count": 34,
   "metadata": {},
   "outputs": [],
   "source": [
    "# Convertir los datos de timedelta64[us] a minutos y luego a un entero\n",
    "Yellow['travel_time_minutes'] = Yellow['travel_time'] / pd.Timedelta(minutes=1)\n",
    "\n",
    "# Convertir a entero\n",
    "Yellow['travel_time_minutes'] = Yellow['travel_time_minutes'].astype(int)\n",
    "\n",
    "# Convertir a entero de 32 bits\n",
    "Yellow['time_out'] = Yellow['time_out'].astype('int32')\n",
    "Yellow['travel_time'] = Yellow['travel_time_minutes'].astype('int32')\n",
    "\n",
    "Yellow = Yellow.drop(columns=['travel_time_minutes'])"
   ]
  },
  {
   "cell_type": "markdown",
   "metadata": {},
   "source": [
    "### 2.9 Eliminar registros donde el tiempo de trayecto sea superior a 240 minutos:"
   ]
  },
  {
   "cell_type": "code",
   "execution_count": 35,
   "metadata": {},
   "outputs": [],
   "source": [
    "# Eliminar los registros donde el tiempo de trayecto supera las 4 horas (240 minutos)\n",
    "Yellow =Yellow[Yellow['travel_time'] <= 240]"
   ]
  },
  {
   "cell_type": "markdown",
   "metadata": {},
   "source": [
    "### 2.10 Imputar fechas mal registradas:"
   ]
  },
  {
   "cell_type": "code",
   "execution_count": 36,
   "metadata": {},
   "outputs": [],
   "source": [
    "# Servicios que superan 4 horas de trayecto\n",
    "moda_Año = Yellow[Yellow['year'] != 0]['year'].mode()[0]\n",
    "moda_Mes = Yellow[Yellow['month'] != 0]['month'].mode()[0]\n",
    "\n",
    "Yellow['year'] = Yellow['year'].apply(lambda x: moda_Año if x > 0 else x)\n",
    "Yellow['month'] = Yellow['month'].apply(lambda x: moda_Mes if x > 0 else x)"
   ]
  },
  {
   "cell_type": "markdown",
   "metadata": {},
   "source": [
    "Aunque no se encontraron en este dataset, en \"Green\" si y se debe colocar por seguridad. Otra opción es eliminarlos"
   ]
  },
  {
   "cell_type": "markdown",
   "metadata": {},
   "source": [
    "### 2.11 Crear columnas auxiliares para identificar nuevos outliers Costo por minuto y Costo por milla:"
   ]
  },
  {
   "cell_type": "code",
   "execution_count": 37,
   "metadata": {},
   "outputs": [],
   "source": [
    "# Filtrar los registros donde trip_distance es cero y asignar un valor NaN\n",
    "Yellow['$mile'] = np.where(Yellow['trip_distance'] != 0, Yellow['base_fare'] / Yellow['trip_distance'], np.nan)\n",
    "\n",
    "# Filtrar los registros donde trip_minutes es cero y asignar un valor NaN\n",
    "Yellow['$minute'] = np.where(Yellow['travel_time'] != 0, Yellow['base_fare'] / Yellow['travel_time'], np.nan)"
   ]
  },
  {
   "cell_type": "markdown",
   "metadata": {},
   "source": [
    "### 2.11 Eliminar Outliers basado en rango intercuartílico:"
   ]
  },
  {
   "cell_type": "code",
   "execution_count": 38,
   "metadata": {},
   "outputs": [],
   "source": [
    "# Calcular los cuartiles\n",
    "Q1_mile = Yellow['$mile'].quantile(0.25)\n",
    "Q3_mile = Yellow['$mile'].quantile(0.75)\n",
    "IQR_mile = Q3_mile - Q1_mile\n",
    "\n",
    "Q1_minute = Yellow['$minute'].quantile(0.25)\n",
    "Q3_minute = Yellow['$minute'].quantile(0.75)\n",
    "IQR_minute = Q3_minute - Q1_minute\n",
    "\n",
    "# Multiplicador para rango intercuartílico:\n",
    "multiplicador = 2\n",
    "\n",
    "# Definir los límites superior e inferior\n",
    "umbral_inf_mile = Q1_mile - multiplicador * IQR_mile\n",
    "umbral_sup_mile = Q3_mile + multiplicador * IQR_mile\n",
    "\n",
    "umbral_inf_minute =  Q3_minute - multiplicador * IQR_minute # para evitar borrar todos los registros\n",
    "umbral_sup_minute = Q3_minute + multiplicador * IQR_minute\n",
    "\n",
    "# Filtrar los registros que caen dentro del rango intercuartílico para cada columna\n",
    "Yellow = Yellow[\n",
    "    (Yellow['$mile'] >= umbral_inf_mile) & (Yellow['$mile'] <= umbral_sup_mile) &\n",
    "    (Yellow['$minute'] >= umbral_inf_minute) & (Yellow['$minute'] <= umbral_sup_minute)\n",
    "]"
   ]
  },
  {
   "cell_type": "markdown",
   "metadata": {},
   "source": [
    "Se usa multiplicador 2 para no eliminar una cantidad significativa de datos. Se puede aumentar para mantener una integridad del promedio."
   ]
  },
  {
   "cell_type": "markdown",
   "metadata": {},
   "source": [
    "### 2.13 Eliminar datos con ubicaciones no definidas:"
   ]
  },
  {
   "cell_type": "code",
   "execution_count": 41,
   "metadata": {},
   "outputs": [],
   "source": [
    "# Eliminar los registros con DOLocationID igual a 264\n",
    "Yellow = Yellow.loc[Yellow['DOLocationID'] != 264]\n",
    "\n",
    "# Eliminar los registros con DOLocationID igual a 265\n",
    "Yellow = Yellow.loc[Yellow['DOLocationID'] != 265]\n",
    "\n",
    "# Eliminar los registros con PULocationID igual a 264\n",
    "Yellow = Yellow.loc[Yellow['PULocationID'] != 264]\n",
    "\n",
    "# Eliminar los registros con PULocationID igual a 265\n",
    "Yellow = Yellow.loc[Yellow['PULocationID'] != 265]\n"
   ]
  },
  {
   "cell_type": "markdown",
   "metadata": {},
   "source": [
    "### 2.14 Imputar registros unificando los polígonos de los ID 55+56 y 103+104+105"
   ]
  },
  {
   "cell_type": "code",
   "execution_count": 42,
   "metadata": {},
   "outputs": [],
   "source": [
    "# Imputar los valores según las condiciones dadas\n",
    "Yellow.replace({'PULocationID': {57: 56, 105: 103, 104: 103}, 'DOLocationID': {57: 56, 105: 103,  104: 103}}, inplace=True)"
   ]
  },
  {
   "cell_type": "markdown",
   "metadata": {},
   "source": [
    "### 2.15 Realizar agregación de Yellow:"
   ]
  },
  {
   "cell_type": "code",
   "execution_count": 43,
   "metadata": {},
   "outputs": [],
   "source": [
    "# Crear la columna \"service_number\" y asignar el valor 1 a todas las filas\n",
    "Yellow['service_number'] = 1\n",
    "\n",
    "# Crear la columna \"service_Type\" y asignar el valor Yellow a todas las filas\n",
    "Yellow['service_type'] = 'Yellow'\n",
    "\n",
    "# Renombrar columnas (normalizadas a UberLyft) \n",
    "Yellow.rename(columns={'trip_distance': 'trip_miles'}, inplace=True)\n",
    "\n",
    "# Definir las dimensiones de agrupación y las variables de agregación\n",
    "dimensiones = ['service_type','year', 'month', 'day', 'day_of_week','hour', 'PULocationID', 'DOLocationID']\n",
    "variables_agregacion = ['trip_miles', 'time_out', 'travel_time', 'fare_surcharges', 'base_fare', 'service_number']\n",
    "\n",
    "# Agrupar el DataFrame y calcular la suma de las variables de agregación\n",
    "Yellow = Yellow.groupby(dimensiones)[variables_agregacion].sum().reset_index()"
   ]
  },
  {
   "cell_type": "markdown",
   "metadata": {},
   "source": [
    "Las operaciones anteririores deben repetirse para todos los archivos (24 o 36 archivos) de taxis amarillos que están por emes en la plataforma de TLC"
   ]
  },
  {
   "cell_type": "markdown",
   "metadata": {},
   "source": [
    "## 3. ETL Taxis Verdes:"
   ]
  },
  {
   "cell_type": "markdown",
   "metadata": {},
   "source": [
    "### 3.1 Abrir archivo:"
   ]
  },
  {
   "cell_type": "code",
   "execution_count": 68,
   "metadata": {},
   "outputs": [],
   "source": [
    "url_G=\"https://d37ci6vzurychx.cloudfront.net/trip-data/green_tripdata_2023-12.parquet\"\n",
    "\n",
    "Green = pd.read_parquet(url_G)"
   ]
  },
  {
   "cell_type": "markdown",
   "metadata": {},
   "source": [
    "### 3.2 Eliminar columnas innecesarias:"
   ]
  },
  {
   "cell_type": "code",
   "execution_count": 69,
   "metadata": {},
   "outputs": [],
   "source": [
    "columnas_eliminar = ['VendorID', 'RatecodeID', 'store_and_fwd_flag',\n",
    "       'payment_type','trip_type']\n",
    "\n",
    "Green = Green.drop(columns=columnas_eliminar)"
   ]
  },
  {
   "cell_type": "markdown",
   "metadata": {},
   "source": [
    "### 3.3 Convertir números negativos a positivos:"
   ]
  },
  {
   "cell_type": "code",
   "execution_count": 70,
   "metadata": {},
   "outputs": [],
   "source": [
    "# Crear una lista de las columnas en las que deseas convertir los valores negativos a positivos\n",
    "columnas_a_convertir = ['fare_amount', 'extra',\n",
    "       'mta_tax', 'tip_amount', 'tolls_amount', 'improvement_surcharge',\n",
    "       'total_amount', 'congestion_surcharge']\n",
    "\n",
    "# Aplicar una función lambda a cada valor en cada una de esas columnas para cambiar los valores negativos a positivos\n",
    "Green[columnas_a_convertir] = Green[columnas_a_convertir].applymap(lambda x: abs(x) if x < 0 else x)"
   ]
  },
  {
   "cell_type": "markdown",
   "metadata": {},
   "source": [
    "### 3.4 Eliminar filas con tarifas menores a $3:"
   ]
  },
  {
   "cell_type": "code",
   "execution_count": 71,
   "metadata": {},
   "outputs": [],
   "source": [
    "# Eliminar las filas donde 'fare_amount' menor a 3 dólares (tarifa base taxis, $5 la de cancelación uber)\n",
    "Green = Green[Green['fare_amount'] >= 3]"
   ]
  },
  {
   "cell_type": "markdown",
   "metadata": {},
   "source": [
    "### 3.5 Imputar valores errados de recargos fijos o conidicionales al horario:"
   ]
  },
  {
   "cell_type": "code",
   "execution_count": 72,
   "metadata": {},
   "outputs": [],
   "source": [
    "# Calcula la moda de 'congestion_surcharge' y 'Airport_fee' excluyendo los valores cero\n",
    "moda_congestion = Green[Green['congestion_surcharge'] != 0]['congestion_surcharge'].mode()[0]\n",
    "moda_Improvement = Green[Green['improvement_surcharge'] != 0]['improvement_surcharge'].mode()[0]\n",
    "\n",
    "# Imputa los valores erróneos utilizando la moda\n",
    "Green['congestion_surcharge'] = Green['congestion_surcharge'].apply(lambda x: moda_congestion if x > 0 else x)\n",
    "Green['Airport_fee'] = Green['improvement_surcharge'].apply(lambda x: moda_Improvement if x > 0 else x)"
   ]
  },
  {
   "cell_type": "markdown",
   "metadata": {},
   "source": [
    "Se imputan con la moda dado que la mayoría de los datos están bien al respecto."
   ]
  },
  {
   "cell_type": "markdown",
   "metadata": {},
   "source": [
    "### 3.6 Elimnación de Outliers:"
   ]
  },
  {
   "cell_type": "code",
   "execution_count": 73,
   "metadata": {},
   "outputs": [],
   "source": [
    "# Eliminar las filas donde 'base_passenger_fare' supera los $400\n",
    "Green = Green[Green['fare_amount'] <= 300] # No se considera real una tarifa mayor $150 y se permite que esta se duplique.\n",
    "\n",
    "# Eliminar las filas donde 'trip_miles' supera las 100 millas\n",
    "Green = Green[Green['trip_distance'] <= 100] # la distancia máxima sería 50 millas, se puede suponer ida y vuelta\n",
    "\n",
    "# Eliminar las filas donde 'tolls' supera los $60 dólares\n",
    "Green = Green[Green['tolls_amount'] <= 60]"
   ]
  },
  {
   "cell_type": "markdown",
   "metadata": {},
   "source": [
    "### 3.7 Transformar datos de fecha e incluir tiempos de viaje y espera:"
   ]
  },
  {
   "cell_type": "code",
   "execution_count": 75,
   "metadata": {},
   "outputs": [],
   "source": [
    "# 1. Crear la columna \"time_out\" que sea la diferencia entre lpep_pickup_datetime y request_datetime\n",
    "Green['time_out'] = 0 #En los taxis no hay registro, porque la mayoría son servicion recogidos por parada en la calle\n",
    "\n",
    "# 2. Crear la columna \"travel_time\" que sea la diferencia entre dropoff_datetime y lpep_pickup_datetime\n",
    "Green['travel_time'] = Green['lpep_dropoff_datetime'] - Green['lpep_pickup_datetime']\n",
    "\n",
    "# 3. Convertir valores negativos en cero\n",
    "Green['travel_time'] = Green['travel_time'].clip(lower=pd.Timedelta(0))\n",
    "\n",
    "# 4. Crear las columnas \"year\", \"month\", \"day\", \"hour\" a partir de la columna lpep_pickup_datetime\n",
    "Green['year'] = Green['lpep_pickup_datetime'].dt.year\n",
    "Green['month'] = Green['lpep_pickup_datetime'].dt.month\n",
    "Green['day'] = Green['lpep_pickup_datetime'].dt.day\n",
    "Green['hour'] = Green['lpep_pickup_datetime'].dt.hour\n",
    "\n",
    "# 5. Redondear la columna \"hour\" al entero más cercano (de 1 a 24)\n",
    "Green['hour'] = Green['hour'].apply(lambda x: round(x))\n",
    "\n",
    "# 6. Crear la columna \"day_of_week\" a partir de la columna lpep_pickup_datetime\n",
    "Green['day_of_week'] = Green['lpep_pickup_datetime'].dt.day_name()\n",
    "\n",
    "# 7. Eliminar las columnas lpep_pickup_datetime y dropoff_datetime\n",
    "Green = Green.drop(columns=['lpep_pickup_datetime', 'lpep_dropoff_datetime'])\n"
   ]
  },
  {
   "cell_type": "markdown",
   "metadata": {},
   "source": [
    "### 3.8 Transformar tarifas y unificar tarifas base y tarifas extra:"
   ]
  },
  {
   "cell_type": "code",
   "execution_count": 76,
   "metadata": {},
   "outputs": [],
   "source": [
    "# Definir una función para asignar los valores según la columna \"hour\"\n",
    "def asignar_valor(row):\n",
    "    if (row['hour'] >= 16 and row['hour'] <= 24) or (row['hour'] <= 6):\n",
    "        return 1.5 if (row['hour'] >= 16 and row['hour'] <= 20) else 0.5\n",
    "    else:\n",
    "        return 0\n",
    "\n",
    "# Aplicar la función a la columna extra\n",
    "Green['extra'] = Green.apply(asignar_valor, axis=1)"
   ]
  },
  {
   "cell_type": "markdown",
   "metadata": {},
   "source": [
    "Unificar tarifas:"
   ]
  },
  {
   "cell_type": "code",
   "execution_count": 78,
   "metadata": {},
   "outputs": [],
   "source": [
    "# Crear la columna \"fare_surcharges\" que sea la suma de tolls, mta_tax, congestion_surcharge, airport_fee\n",
    "Green['fare_surcharges'] = Green['tolls_amount'] + Green['extra'] + Green['congestion_surcharge'] + Green['Airport_fee']\n",
    "\n",
    "# Crear la columna \"base_fare\" que sea la suma de base_passenger_fare y sales_tax\n",
    "Green['base_fare'] = Green['fare_amount'] + 0.8 # 0.5 MTA + 0.3 Improvement\n",
    "\n",
    "# Eliminar las columnas de tarifas individuales\n",
    "columnas_eliminar = ['fare_amount', 'extra', 'mta_tax', 'tip_amount', 'tolls_amount',\n",
    "       'improvement_surcharge', 'total_amount', 'congestion_surcharge']\n",
    "Green = Green.drop(columns=columnas_eliminar)"
   ]
  },
  {
   "cell_type": "markdown",
   "metadata": {},
   "source": [
    "### 3.9 Cambiar formato de tiempos a enteros:"
   ]
  },
  {
   "cell_type": "code",
   "execution_count": 79,
   "metadata": {},
   "outputs": [],
   "source": [
    "# Convertir los datos de timedelta64[us] a minutos y luego a un entero\n",
    "Green['travel_time_minutes'] = Green['travel_time'] / pd.Timedelta(minutes=1)\n",
    "\n",
    "# Convertir a entero\n",
    "Green['travel_time_minutes'] = Green['travel_time_minutes'].astype(int)\n",
    "\n",
    "# Convertir a entero de 32 bits\n",
    "Green['time_out'] = Green['time_out'].astype('int32')\n",
    "Green['travel_time'] = Green['travel_time_minutes'].astype('int32')\n",
    "\n",
    "Green = Green.drop(columns=['travel_time_minutes'])"
   ]
  },
  {
   "cell_type": "markdown",
   "metadata": {},
   "source": [
    "### 3.10 Eliminar registros con tiempo de viaje mayor a 240 minutos:"
   ]
  },
  {
   "cell_type": "code",
   "execution_count": 80,
   "metadata": {},
   "outputs": [],
   "source": [
    "# Eliminar los registros donde el tiempo de trayecto supera las 4 horas (240 minutos)\n",
    "Green =Green[Green['travel_time'] <= 240]"
   ]
  },
  {
   "cell_type": "markdown",
   "metadata": {},
   "source": [
    "### 3.11 Imputar fechas mal registradas de año y mes:"
   ]
  },
  {
   "cell_type": "code",
   "execution_count": 82,
   "metadata": {},
   "outputs": [],
   "source": [
    "# Servicios que superan 4 horas de trayecto\n",
    "moda_Año = Green[Green['year'] != 0]['year'].mode()[0]\n",
    "moda_Mes = Green[Green['month'] != 0]['month'].mode()[0]\n",
    "\n",
    "Green['year'] = Green['year'].apply(lambda x: moda_Año if x > 0 else x)\n",
    "Green['month'] = Green['month'].apply(lambda x: moda_Mes if x > 0 else x)"
   ]
  },
  {
   "cell_type": "markdown",
   "metadata": {},
   "source": [
    "### 3.12 Agregar columnas auxiliares para definir nuevos outliers:"
   ]
  },
  {
   "cell_type": "code",
   "execution_count": 83,
   "metadata": {},
   "outputs": [],
   "source": [
    "# Filtrar los registros donde trip_distance es cero y asignar un valor NaN\n",
    "Green['$mile'] = np.where(Green['trip_distance'] != 0, Green['base_fare'] / Green['trip_distance'], np.nan)\n",
    "\n",
    "# Filtrar los registros donde trip_minutes es cero y asignar un valor NaN\n",
    "Green['$minute'] = np.where(Green['travel_time'] != 0, Green['base_fare'] / Green['travel_time'], np.nan)"
   ]
  },
  {
   "cell_type": "markdown",
   "metadata": {},
   "source": [
    "### 3.13 Eliminar outliers mediante rangos intercuartílicos:"
   ]
  },
  {
   "cell_type": "code",
   "execution_count": 84,
   "metadata": {},
   "outputs": [],
   "source": [
    "# Calcular los cuartiles\n",
    "Q1_mile = Green['$mile'].quantile(0.25)\n",
    "Q3_mile = Green['$mile'].quantile(0.75)\n",
    "IQR_mile = Q3_mile - Q1_mile\n",
    "\n",
    "Q1_minute = Green['$minute'].quantile(0.25)\n",
    "Q3_minute = Green['$minute'].quantile(0.75)\n",
    "IQR_minute = Q3_minute - Q1_minute\n",
    "\n",
    "# Multiplicador para rango intercuartílico:\n",
    "multiplicador = 2\n",
    "\n",
    "# Definir los límites superior e inferior\n",
    "umbral_inf_mile = Q1_mile - multiplicador * IQR_mile\n",
    "umbral_sup_mile = Q3_mile + multiplicador * IQR_mile\n",
    "\n",
    "umbral_inf_minute =  Q3_minute - multiplicador * IQR_minute # para evitar borrar todos los registros\n",
    "umbral_sup_minute = Q3_minute + multiplicador * IQR_minute\n",
    "\n",
    "# Filtrar los registros que caen dentro del rango intercuartílico para cada columna\n",
    "Green = Green[\n",
    "    (Green['$mile'] >= umbral_inf_mile) & (Green['$mile'] <= umbral_sup_mile) &\n",
    "    (Green['$minute'] >= umbral_inf_minute) & (Green['$minute'] <= umbral_sup_minute)\n",
    "]"
   ]
  },
  {
   "cell_type": "markdown",
   "metadata": {},
   "source": [
    "### 3.14 Eliminar registros con Ubicaciones no definidas:"
   ]
  },
  {
   "cell_type": "code",
   "execution_count": 85,
   "metadata": {},
   "outputs": [],
   "source": [
    "# Eliminar los registros con DOLocationID igual a 264\n",
    "Green = Green.loc[Green['DOLocationID'] != 264]\n",
    "\n",
    "# Eliminar los registros con DOLocationID igual a 265\n",
    "Green = Green.loc[Green['DOLocationID'] != 265]\n",
    "\n",
    "# Eliminar los registros con PULocationID igual a 264\n",
    "Green = Green.loc[Green['PULocationID'] != 264]\n",
    "\n",
    "# Eliminar los registros con PULocationID igual a 265\n",
    "Green = Green.loc[Green['PULocationID'] != 265]\n"
   ]
  },
  {
   "cell_type": "markdown",
   "metadata": {},
   "source": [
    "### 3.15 Imputar registros unificando los polígonos de los ID 55+56 y 103+104+105:"
   ]
  },
  {
   "cell_type": "code",
   "execution_count": 86,
   "metadata": {},
   "outputs": [],
   "source": [
    "# Imputar los valores según las condiciones dadas\n",
    "Green.replace({'PULocationID': {57: 56, 105: 103, 104: 103}, 'DOLocationID': {57: 56, 105: 103,  104: 103}}, inplace=True)"
   ]
  },
  {
   "cell_type": "markdown",
   "metadata": {},
   "source": [
    "### 3.16 Realizar agregaciones:"
   ]
  },
  {
   "cell_type": "code",
   "execution_count": 88,
   "metadata": {},
   "outputs": [],
   "source": [
    "# Crear la columna \"service_number\" y asignar el valor 1 a todas las filas\n",
    "Green['service_number'] = 1\n",
    "\n",
    "# Crear la columna \"service_Type\" y asignar el valor Green a todas las filas\n",
    "Green['service_type'] = 'Green'\n",
    "\n",
    "# \n",
    "Green.rename(columns={'trip_distance': 'trip_miles'}, inplace=True)\n",
    "\n",
    "\n",
    "# Definir las dimensiones de agrupación y las variables de agregación\n",
    "dimensiones = ['service_type','year', 'month', 'day', 'day_of_week','hour', 'PULocationID', 'DOLocationID']\n",
    "variables_agregacion = ['trip_miles', 'time_out', 'travel_time', 'fare_surcharges', 'base_fare', 'service_number']\n",
    "\n",
    "# Agrupar el DataFrame y calcular la suma de las variables de agregación\n",
    "Green = Green.groupby(dimensiones)[variables_agregacion].sum().reset_index()"
   ]
  },
  {
   "cell_type": "markdown",
   "metadata": {},
   "source": [
    "## 4. ETL UberLyft:"
   ]
  },
  {
   "cell_type": "markdown",
   "metadata": {},
   "source": [
    "### 4.1 Abrir archivo:"
   ]
  },
  {
   "cell_type": "code",
   "execution_count": 107,
   "metadata": {},
   "outputs": [],
   "source": [
    "url_UberLyft=\"https://d37ci6vzurychx.cloudfront.net/trip-data/fhvhv_tripdata_2023-12.parquet\"\n",
    "\n",
    "UberLyft = pd.read_parquet(url_UberLyft)"
   ]
  },
  {
   "cell_type": "markdown",
   "metadata": {},
   "source": [
    "### 4.2 Eliminar columnas innecesarias:"
   ]
  },
  {
   "cell_type": "code",
   "execution_count": 108,
   "metadata": {},
   "outputs": [],
   "source": [
    "columnas_eliminar = ['hvfhs_license_num', 'dispatching_base_num', 'originating_base_num',\n",
    "       'on_scene_datetime','trip_time', 'driver_pay',\n",
    "       'shared_request_flag', 'shared_match_flag', 'access_a_ride_flag',\n",
    "       'wav_request_flag', 'wav_match_flag','tips']\n",
    "\n",
    "UberLyft = UberLyft.drop(columns=columnas_eliminar)"
   ]
  },
  {
   "cell_type": "markdown",
   "metadata": {},
   "source": [
    "### 4.3 Convertir números negativos a positivos:"
   ]
  },
  {
   "cell_type": "code",
   "execution_count": 109,
   "metadata": {},
   "outputs": [],
   "source": [
    "# Crear una lista de las columnas en las que deseas convertir los valores negativos a positivos\n",
    "columnas_a_convertir = ['base_passenger_fare', 'tolls', 'bcf', 'sales_tax', 'congestion_surcharge', 'airport_fee']\n",
    "\n",
    "# Aplicar una función lambda a cada valor en cada una de esas columnas para cambiar los valores negativos a positivos\n",
    "UberLyft[columnas_a_convertir] = UberLyft[columnas_a_convertir].applymap(lambda x: abs(x) if x < 0 else x)"
   ]
  },
  {
   "cell_type": "markdown",
   "metadata": {},
   "source": [
    "### 4.4 Eliminar registros con tarifa base menor a $3:"
   ]
  },
  {
   "cell_type": "code",
   "execution_count": 110,
   "metadata": {},
   "outputs": [],
   "source": [
    "# Eliminar las filas donde 'base_passenger_fare' menor a 3 dólares (tarifa base taxis, $5 la de cancelación uber)\n",
    "UberLyft = UberLyft[UberLyft['base_passenger_fare'] >= 3]"
   ]
  },
  {
   "cell_type": "markdown",
   "metadata": {},
   "source": [
    "### 4.5 Imputar valores errados de impuestos fijos o condicionados a hora o lugar:"
   ]
  },
  {
   "cell_type": "code",
   "execution_count": 111,
   "metadata": {},
   "outputs": [],
   "source": [
    "# Calcula la moda de 'congestion_surcharge' y 'airport_fee' excluyendo los valores cero\n",
    "moda_congestion = UberLyft[UberLyft['congestion_surcharge'] != 0]['congestion_surcharge'].mode()[0]\n",
    "moda_airport = UberLyft[UberLyft['airport_fee'] != 0]['airport_fee'].mode()[0]\n",
    "\n",
    "# Imputa los valores erróneos utilizando la moda\n",
    "UberLyft['congestion_surcharge'] = UberLyft['congestion_surcharge'].apply(lambda x: moda_congestion if x > 0 else x)\n",
    "UberLyft['airport_fee'] = UberLyft['airport_fee'].apply(lambda x: moda_airport if x > 0 else x)\n"
   ]
  },
  {
   "cell_type": "markdown",
   "metadata": {},
   "source": [
    "Corregir sales_tax al 8.875% de acuerdo con [el siguiente link](https://www.tax.ny.gov/pubs_and_bulls/tg_bulletins/st/translated/sales-tax-rates-spa.htm):"
   ]
  },
  {
   "cell_type": "code",
   "execution_count": 112,
   "metadata": {},
   "outputs": [],
   "source": [
    "# Filtra los valores no cero en 'sales_tax' y 'base_passenger_fare'\n",
    "filtered_data = UberLyft[(UberLyft['sales_tax'] != 0) & (UberLyft['base_passenger_fare'] != 0)]\n",
    "\n",
    "# Calcula la relación entre 'sales_tax' y 'base_passenger_fare' y el promedio redondeado a 2 cifras decimales\n",
    "promedio_relacion = filtered_data['sales_tax'] / filtered_data['base_passenger_fare']\n",
    "promedio_redondeado = round(promedio_relacion.mean(), 5)\n",
    "\n",
    "# Imputar los valores en cero de sales_tax\n",
    "UberLyft['sales_tax'] = UberLyft['sales_tax']* promedio_redondeado\n"
   ]
  },
  {
   "cell_type": "markdown",
   "metadata": {},
   "source": [
    "### 4.6 Eliminar outliers:"
   ]
  },
  {
   "cell_type": "code",
   "execution_count": 113,
   "metadata": {},
   "outputs": [],
   "source": [
    "# Eliminar las filas donde 'base_passenger_fare' supera los $400\n",
    "UberLyft = UberLyft[UberLyft['base_passenger_fare'] <= 300] # No se considera real una tarifa mayor $150 y se permite que esta se duplique.\n",
    "\n",
    "# Eliminar las filas donde 'trip_miles' supera las 100 millas\n",
    "UberLyft = UberLyft[UberLyft['trip_miles'] <= 100] # la distancia máxima sería 50 millas, se puede suponer ida y vuelta\n",
    "\n",
    "# Eliminar las filas donde 'tolls' supera los $60 dólares\n",
    "UberLyft = UberLyft[UberLyft['tolls'] <= 60]"
   ]
  },
  {
   "cell_type": "markdown",
   "metadata": {},
   "source": [
    "### 4.7 Transformar datos de fecha y adicionar columnas de tiempos de espera y de viaje:"
   ]
  },
  {
   "cell_type": "code",
   "execution_count": 114,
   "metadata": {},
   "outputs": [],
   "source": [
    "# 1. Crear la columna \"time_out\" que sea la diferencia entre pickup_datetime y request_datetime\n",
    "UberLyft['time_out'] = UberLyft['pickup_datetime'] - UberLyft['request_datetime']\n",
    "\n",
    "# 2. Crear la columna \"travel_time\" que sea la diferencia entre dropoff_datetime y pickup_datetime\n",
    "UberLyft['travel_time'] = UberLyft['dropoff_datetime'] - UberLyft['pickup_datetime']\n",
    "\n",
    "# 3. Convertir valores negativos en cero\n",
    "UberLyft['travel_time'] = UberLyft['travel_time'].clip(lower=pd.Timedelta(0))\n",
    "UberLyft['time_out'] = UberLyft['time_out'].clip(lower=pd.Timedelta(0))\n",
    "\n",
    "# 4. Crear las columnas \"year\", \"month\", \"day\", \"hour\" a partir de la columna pickup_datetime\n",
    "UberLyft['year'] = UberLyft['pickup_datetime'].dt.year\n",
    "UberLyft['month'] = UberLyft['pickup_datetime'].dt.month\n",
    "UberLyft['day'] = UberLyft['pickup_datetime'].dt.day\n",
    "UberLyft['hour'] = UberLyft['pickup_datetime'].dt.hour\n",
    "\n",
    "# 5. Redondear la columna \"hour\" al entero más cercano (de 1 a 24)\n",
    "UberLyft['hour'] = UberLyft['hour'].apply(lambda x: round(x))\n",
    "\n",
    "# 6. Crear la columna \"day_of_week\" a partir de la columna pickup_datetime\n",
    "UberLyft['day_of_week'] = UberLyft['pickup_datetime'].dt.day_name()\n",
    "\n",
    "# 7. Eliminar las columnas request_datetime, pickup_datetime, dropoff_datetime\n",
    "UberLyft = UberLyft.drop(columns=['request_datetime', 'pickup_datetime', 'dropoff_datetime'])\n"
   ]
  },
  {
   "cell_type": "markdown",
   "metadata": {},
   "source": [
    "### 4.8 Transformar datos de tarifas base y recargos:"
   ]
  },
  {
   "cell_type": "code",
   "execution_count": 115,
   "metadata": {},
   "outputs": [],
   "source": [
    "# Crear la columna \"fare_surcharges\" que sea la suma de tolls, bcf, congestion_surcharge, airport_fee\n",
    "UberLyft['fare_surcharges'] = UberLyft['tolls'] + UberLyft['bcf'] + UberLyft['congestion_surcharge'] + UberLyft['airport_fee']\n",
    "\n",
    "# Crear la columna \"base_fare\" que sea la suma de base_passenger_fare y sales_tax\n",
    "UberLyft['base_fare'] = UberLyft['base_passenger_fare'] + UberLyft['sales_tax']\n",
    "\n",
    "# Eliminar las columnas tolls, bcf, congestion_surcharge, airport_fee, base_passenger_fare y sales_tax\n",
    "columnas_eliminar = ['tolls', 'bcf', 'congestion_surcharge', 'airport_fee', 'base_passenger_fare', 'sales_tax']\n",
    "UberLyft = UberLyft.drop(columns=columnas_eliminar)"
   ]
  },
  {
   "cell_type": "markdown",
   "metadata": {},
   "source": [
    "### 4.9. Cambiar formato de tiempos de viaje y espera:"
   ]
  },
  {
   "cell_type": "code",
   "execution_count": 116,
   "metadata": {},
   "outputs": [],
   "source": [
    "# Convertir los datos de timedelta64[us] a minutos y luego a un entero\n",
    "UberLyft['time_out_minutes'] = UberLyft['time_out'] / pd.Timedelta(minutes=1)\n",
    "UberLyft['travel_time_minutes'] = UberLyft['travel_time'] / pd.Timedelta(minutes=1)\n",
    "\n",
    "# Convertir a entero\n",
    "UberLyft['time_out_minutes'] = UberLyft['time_out_minutes'].astype(int)\n",
    "UberLyft['travel_time_minutes'] = UberLyft['travel_time_minutes'].astype(int)\n",
    "\n",
    "# Convertir a entero de 32 bits\n",
    "UberLyft['time_out'] = UberLyft['time_out_minutes'].astype('int32')\n",
    "UberLyft['travel_time'] = UberLyft['travel_time_minutes'].astype('int32')\n",
    "\n",
    "UberLyft = UberLyft.drop(columns=['time_out_minutes', 'travel_time_minutes'])\n"
   ]
  },
  {
   "cell_type": "markdown",
   "metadata": {},
   "source": [
    "### 4.10 Eliminar outliers de tiempos de viaje y espera:"
   ]
  },
  {
   "cell_type": "code",
   "execution_count": 117,
   "metadata": {},
   "outputs": [],
   "source": [
    "# Eliminar los registros donde el tiempo de trayecto supera las 4 horas (240 minutos)\n",
    "UberLyft = UberLyft[UberLyft['travel_time'] <= 240]\n",
    "\n",
    "# Eliminar los registros donde el tiempo de espera es mayor a 2 horas (120 minutos)\n",
    "UberLyft = UberLyft[UberLyft['time_out'] <= 120]\n",
    "\n",
    "# Eliminar los registros donde el tiempo de espera es menor a 1 hora (-60 minutos)\n",
    "UberLyft = UberLyft[UberLyft['time_out'] >= -60]"
   ]
  },
  {
   "cell_type": "markdown",
   "metadata": {},
   "source": [
    "### 4.11 Crear columnas auxiliares de costo por minuto y costo por milla para identificar nuevos outliers:"
   ]
  },
  {
   "cell_type": "code",
   "execution_count": 119,
   "metadata": {},
   "outputs": [],
   "source": [
    "# Filtrar los registros donde trip_miles es cero y asignar un valor NaN\n",
    "UberLyft['$mile'] = np.where(UberLyft['trip_miles'] != 0, UberLyft['base_fare'] / UberLyft['trip_miles'], np.nan)\n",
    "\n",
    "# Filtrar los registros donde trip_minutes es cero y asignar un valor NaN\n",
    "UberLyft['$minute'] = np.where(UberLyft['travel_time'] != 0, UberLyft['base_fare'] / UberLyft['travel_time'], np.nan)\n"
   ]
  },
  {
   "cell_type": "markdown",
   "metadata": {},
   "source": [
    "### 4.12. Eliminar los Outliers basado en los rangos intercuartílicos:"
   ]
  },
  {
   "cell_type": "markdown",
   "metadata": {},
   "source": [
    "Se decide evitar el sesgo de costos que se mantienen muy lejos de la relación Tarifa por milla o Tarifa por minuto así que se eliminan los registros que estén por encima de este cálculo. No se usa 3 sigma debido a que el sesgo de datos atípicos es muy alto. También se decide eliminar registros que superan los 250 dólares por no representar la realidad de un servicio normal dentro de la ciudad de NYC (se puede suponer hasta normal $60, probable $100 y muy poco probable $250 o más)."
   ]
  },
  {
   "cell_type": "code",
   "execution_count": 120,
   "metadata": {},
   "outputs": [],
   "source": [
    "# Calcular los cuartiles\n",
    "Q1_mile = UberLyft['$mile'].quantile(0.25)\n",
    "Q3_mile = UberLyft['$mile'].quantile(0.75)\n",
    "IQR_mile = Q3_mile - Q1_mile\n",
    "\n",
    "Q1_minute = UberLyft['$minute'].quantile(0.25)\n",
    "Q3_minute = UberLyft['$minute'].quantile(0.75)\n",
    "IQR_minute = Q3_minute - Q1_minute\n",
    "\n",
    "# Multiplicador para rango intercuartílico:\n",
    "multiplicador = 2\n",
    "\n",
    "# Definir los límites superior e inferior\n",
    "umbral_inf_mile = Q1_mile - multiplicador * IQR_mile\n",
    "umbral_sup_mile = Q3_mile + multiplicador * IQR_mile\n",
    "\n",
    "umbral_inf_minute = Q1_minute - multiplicador * IQR_minute\n",
    "umbral_sup_minute = Q3_minute + multiplicador * IQR_minute\n",
    "\n",
    "# Filtrar los registros que caen dentro del rango intercuartílico para cada columna\n",
    "UberLyft = UberLyft[\n",
    "    (UberLyft['$mile'] >= umbral_inf_mile) & (UberLyft['$mile'] <= umbral_sup_mile) &\n",
    "    (UberLyft['$minute'] >= umbral_inf_minute) & (UberLyft['$minute'] <= umbral_sup_minute)\n",
    "]"
   ]
  },
  {
   "cell_type": "markdown",
   "metadata": {},
   "source": [
    "### 4.13 Eliminar registros de ubicaciones no definidas:"
   ]
  },
  {
   "cell_type": "code",
   "execution_count": 121,
   "metadata": {},
   "outputs": [],
   "source": [
    "# Eliminar los registros con DOLocationID igual a 264\n",
    "UberLyft = UberLyft.loc[UberLyft['DOLocationID'] != 264]\n",
    "\n",
    "# Eliminar los registros con DOLocationID igual a 265\n",
    "UberLyft = UberLyft.loc[UberLyft['DOLocationID'] != 265]\n",
    "\n",
    "# Eliminar los registros con PULocationID igual a 264\n",
    "UberLyft = UberLyft.loc[UberLyft['PULocationID'] != 264]\n",
    "\n",
    "# Eliminar los registros con PULocationID igual a 265\n",
    "UberLyft = UberLyft.loc[UberLyft['PULocationID'] != 265]\n"
   ]
  },
  {
   "cell_type": "markdown",
   "metadata": {},
   "source": [
    "### 4.14 Imputar registros unificando los polígonos de los ID 55+56 y 103+104+105:"
   ]
  },
  {
   "cell_type": "code",
   "execution_count": 122,
   "metadata": {},
   "outputs": [],
   "source": [
    "# Imputar los valores según las condiciones dadas\n",
    "UberLyft.replace({'PULocationID': {57: 56, 105: 103, 104: 103}, 'DOLocationID': {57: 56, 105: 103,  104: 103}}, inplace=True)"
   ]
  },
  {
   "cell_type": "markdown",
   "metadata": {},
   "source": [
    "### 4.15 Realizar agregacion de UberLyft:"
   ]
  },
  {
   "cell_type": "code",
   "execution_count": 124,
   "metadata": {},
   "outputs": [],
   "source": [
    "# Crear la columna \"service_number\" y asignar el valor 1 a todas las filas\n",
    "UberLyft['service_number'] = 1\n",
    "\n",
    "# Crear la columna \"service_Type\" y asignar el valor UberLyft a todas las filas\n",
    "UberLyft['service_type'] = 'UberLyft'\n",
    "\n",
    "# Definir las dimensiones de agrupación y las variables de agregación\n",
    "dimensiones = ['service_type','year', 'month', 'day', 'day_of_week','hour', 'PULocationID', 'DOLocationID']\n",
    "variables_agregacion = ['trip_miles', 'time_out', 'travel_time', 'fare_surcharges', 'base_fare', 'service_number']\n",
    "\n",
    "# Agrupar el DataFrame y calcular la suma de las variables de agregación\n",
    "UberLyft = UberLyft.groupby(dimensiones)[variables_agregacion].sum().reset_index()"
   ]
  },
  {
   "cell_type": "markdown",
   "metadata": {},
   "source": [
    "## 5. Unir los dataframes:"
   ]
  },
  {
   "cell_type": "markdown",
   "metadata": {},
   "source": [
    "### 5.1 Unión de datos:"
   ]
  },
  {
   "cell_type": "code",
   "execution_count": 129,
   "metadata": {},
   "outputs": [],
   "source": [
    "# Unir los dataframes\n",
    "Servicios_Agrupados = pd.concat([UberLyft, Yellow, Green])"
   ]
  },
  {
   "cell_type": "markdown",
   "metadata": {},
   "source": [
    "### 5.2 Reducción de tamaño:"
   ]
  },
  {
   "cell_type": "code",
   "execution_count": 130,
   "metadata": {},
   "outputs": [],
   "source": [
    "columnas_enteras = ['month', 'day', 'hour', 'PULocationID', 'DOLocationID', 'time_out', 'travel_time', 'service_number']\n",
    "Servicios_Agrupados['year'] = Servicios_Agrupados['year'].astype('int16')\n",
    "\n",
    "Servicios_Agrupados[columnas_enteras].astype('int8')\n",
    "\n",
    "# Convertir las columnas float a tipo float32\n",
    "columnas_float = ['trip_miles', 'fare_surcharges', 'base_fare']\n",
    "Servicios_Agrupados[columnas_float] = Servicios_Agrupados[columnas_float].astype('float32')"
   ]
  },
  {
   "cell_type": "code",
   "execution_count": null,
   "metadata": {},
   "outputs": [],
   "source": [
    "\"\"\"# Eliminar las filas donde 'base_passenger_fare' supera los $400\n",
    "Servicios_Agrupados = Servicios_Agrupados[Servicios_Agrupados['base_fare'] <= 400] # No se considera real una tarifa mayor $150 y se permite que esta se duplique.\n",
    "\n",
    "# Eliminar las filas donde 'trip_miles' supera las 100 millas\n",
    "Servicios_Agrupados = Servicios_Agrupados[Servicios_Agrupados['fare_surcharges'] <= 50] # la distancia máxima sería 50 millas, se puede suponer ida y vuelta\"\"\""
   ]
  },
  {
   "cell_type": "code",
   "execution_count": null,
   "metadata": {},
   "outputs": [],
   "source": [
    "\"\"\"# Guardar el DataFrame en un archivo CSV\n",
    "Servicios_Agrupados.to_parquet('../DataClean/Servicios_Agrupados.parquet', index=False)\"\"\""
   ]
  },
  {
   "cell_type": "markdown",
   "metadata": {},
   "source": [
    "En este punto se tiene la unión de un mes por los tres tipos de servicio. Esta acción debe repetirse para todos los meses durante los años de interés."
   ]
  }
 ],
 "metadata": {
  "kernelspec": {
   "display_name": "Python 3",
   "language": "python",
   "name": "python3"
  },
  "language_info": {
   "codemirror_mode": {
    "name": "ipython",
    "version": 3
   },
   "file_extension": ".py",
   "mimetype": "text/x-python",
   "name": "python",
   "nbconvert_exporter": "python",
   "pygments_lexer": "ipython3",
   "version": "3.10.11"
  }
 },
 "nbformat": 4,
 "nbformat_minor": 2
}
