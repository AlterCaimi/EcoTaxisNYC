{
 "cells": [
  {
   "cell_type": "code",
   "execution_count": 3,
   "metadata": {},
   "outputs": [
    {
     "name": "stdout",
     "output_type": "stream",
     "text": [
      "Archivo yellow_tripdata_2024-01.parquet descargado exitosamente.\n",
      "Error al descargar el archivo yellow_tripdata_2024-02.parquet: 403 Client Error: Forbidden for url: https://d37ci6vzurychx.cloudfront.net/trip-data/yellow_tripdata_2024-02.parquet\n",
      "Error al descargar el archivo yellow_tripdata_2024-03.parquet: 403 Client Error: Forbidden for url: https://d37ci6vzurychx.cloudfront.net/trip-data/yellow_tripdata_2024-03.parquet\n",
      "Error al descargar el archivo yellow_tripdata_2024-04.parquet: 403 Client Error: Forbidden for url: https://d37ci6vzurychx.cloudfront.net/trip-data/yellow_tripdata_2024-04.parquet\n",
      "Error al descargar el archivo yellow_tripdata_2024-05.parquet: 403 Client Error: Forbidden for url: https://d37ci6vzurychx.cloudfront.net/trip-data/yellow_tripdata_2024-05.parquet\n",
      "Error al descargar el archivo yellow_tripdata_2024-06.parquet: 403 Client Error: Forbidden for url: https://d37ci6vzurychx.cloudfront.net/trip-data/yellow_tripdata_2024-06.parquet\n",
      "Error al descargar el archivo yellow_tripdata_2024-07.parquet: 403 Client Error: Forbidden for url: https://d37ci6vzurychx.cloudfront.net/trip-data/yellow_tripdata_2024-07.parquet\n",
      "Error al descargar el archivo yellow_tripdata_2024-08.parquet: 403 Client Error: Forbidden for url: https://d37ci6vzurychx.cloudfront.net/trip-data/yellow_tripdata_2024-08.parquet\n",
      "Error al descargar el archivo yellow_tripdata_2024-09.parquet: 403 Client Error: Forbidden for url: https://d37ci6vzurychx.cloudfront.net/trip-data/yellow_tripdata_2024-09.parquet\n",
      "Error al descargar el archivo yellow_tripdata_2024-10.parquet: 403 Client Error: Forbidden for url: https://d37ci6vzurychx.cloudfront.net/trip-data/yellow_tripdata_2024-10.parquet\n",
      "Error al descargar el archivo yellow_tripdata_2024-11.parquet: 403 Client Error: Forbidden for url: https://d37ci6vzurychx.cloudfront.net/trip-data/yellow_tripdata_2024-11.parquet\n",
      "Error al descargar el archivo yellow_tripdata_2024-12.parquet: 403 Client Error: Forbidden for url: https://d37ci6vzurychx.cloudfront.net/trip-data/yellow_tripdata_2024-12.parquet\n"
     ]
    }
   ],
   "source": [
    "import requests\n",
    "import os\n",
    "\n",
    "# Año para el cual deseas obtener los datos\n",
    "year = 2024\n",
    "\n",
    "# Directorio donde se guardarán los archivos descargados\n",
    "directory = os.path.join('..', 'Datasets', 'TLC_NYC','Yellow', str(year))\n",
    "\n",
    "# Crear el directorio si no existe\n",
    "if not os.path.exists(directory):\n",
    "    os.makedirs(directory)\n",
    "\n",
    "# Iterar sobre los meses del año\n",
    "for month in range(1, 13):\n",
    "    # Construir el nombre del archivo para el mes actual\n",
    "    file_name = f\"yellow_tripdata_{year}-{month:02d}.parquet\"\n",
    "    \n",
    "    # Construir el enlace completo\n",
    "    link = f\"https://d37ci6vzurychx.cloudfront.net/trip-data/{file_name}\"\n",
    "    \n",
    "    # Descargar el archivo\n",
    "    file_path = os.path.join(directory, file_name)\n",
    "    with open(file_path, 'wb') as f:\n",
    "        try:\n",
    "            response = requests.get(link)\n",
    "            response.raise_for_status()  # Lanza una excepción para errores HTTP\n",
    "            f.write(response.content)\n",
    "            print(f\"Archivo {file_name} descargado exitosamente.\")\n",
    "        except requests.exceptions.RequestException as e:\n",
    "            print(f\"Error al descargar el archivo {file_name}: {e}\")\n"
   ]
  }
 ],
 "metadata": {
  "kernelspec": {
   "display_name": "Python 3",
   "language": "python",
   "name": "python3"
  },
  "language_info": {
   "codemirror_mode": {
    "name": "ipython",
    "version": 3
   },
   "file_extension": ".py",
   "mimetype": "text/x-python",
   "name": "python",
   "nbconvert_exporter": "python",
   "pygments_lexer": "ipython3",
   "version": "3.10.11"
  }
 },
 "nbformat": 4,
 "nbformat_minor": 2
}
