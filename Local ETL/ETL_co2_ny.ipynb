{
 "cells": [
  {
   "cell_type": "markdown",
   "metadata": {},
   "source": [
    "### 1. Importar Librerías:"
   ]
  },
  {
   "cell_type": "code",
   "execution_count": 42,
   "metadata": {},
   "outputs": [],
   "source": [
    "import pandas as pd\n",
    "import re\n",
    "import numpy as np\n",
    "import matplotlib.pyplot as plt\n",
    "import seaborn as sns\n",
    "import warnings\n",
    "warnings.filterwarnings('ignore')"
   ]
  },
  {
   "cell_type": "markdown",
   "metadata": {},
   "source": [
    "### 2. Abrir Archivo:"
   ]
  },
  {
   "cell_type": "code",
   "execution_count": null,
   "metadata": {},
   "outputs": [],
   "source": [
    "# dataset descargado de https://climate.cityofnewyork.us/initiatives/nyc-greenhouse-gas-inventories/\n",
    "df = pd.read_excel('../Datasets\\CY_2005_CY_2022_citywide.xlsx')"
   ]
  },
  {
   "cell_type": "markdown",
   "metadata": {},
   "source": [
    "SWCV (Small Waste Collection Vehicles - Vehículos de Pequeña Recolección de Residuos)"
   ]
  },
  {
   "cell_type": "markdown",
   "metadata": {},
   "source": [
    "Ahora vamos a seleccionar las columnas de interés: las emisiones en toneladas de CO2 para cada año disponible."
   ]
  },
  {
   "cell_type": "markdown",
   "metadata": {},
   "source": [
    "Aclaración: <br>\n",
    "- 'CY XXXX Consumed' corresponde a las \"VMT\" (\"Vehicle Miles Traveled\" = \"Millas Recorridas por Vehículo\"). Es una medida utilizada para cuantificar la cantidad total de millas que se han recorrido por vehículos en un área determinada (NYC) durante un período de tiempo específico (Año XXXX). <br>\n",
    "- 'CY XXXX tCO2e' corresponde a las toneladas de CO2 emitidas en NYC durante el año XXXX. <br>\n",
    "- 'CY XXXX Source MMBtu' Esta columna se refiere a los millones de unidades térmicas británicas (MMBtu) consumidas por la fuente en el año XXXX. El MMBtu es una medida de energía y es comúnmente utilizada para medir la cantidad de energía que se consume.\n",
    "- CY XXXX tCO2e 20 yr GWP: Esta columna indica las emisiones de CO2 equivalente (tCO2e) para el año XXXX, calculadas utilizando un Potencial de Calentamiento Global (GWP, por sus siglas en inglés) de 20 años. El GWP es una medida que compara el potencial de calentamiento global de un gas en particular con el dióxido de carbono (CO2) durante un período de tiempo específico (en este caso, 20 años).\n"
   ]
  },
  {
   "cell_type": "markdown",
   "metadata": {},
   "source": [
    "### 3. Normalización de tabla (desnaturalización):"
   ]
  },
  {
   "cell_type": "code",
   "execution_count": null,
   "metadata": {},
   "outputs": [],
   "source": [
    "# Seleccionamos las columnas que vamos a utilizar\n",
    "columns_to_keep = ['Sectors Sector', 'Category Full', 'Category Label'] + [col for col in df.columns if col.startswith('CY')]\n",
    "\n",
    "## Seleccionar las columnas que vamos a utilizar\n",
    "columns_to_keep = ['Sectors Sector', 'Category Full', 'Category Label'] + [col for col in df.columns if col.startswith('CY')]\n",
    "\n",
    "# Crear un nuevo DataFrame con las columnas seleccionadas\n",
    "df_normalized = df[columns_to_keep].copy()\n",
    "\n",
    "# Realizar la operación de fundido (melt)\n",
    "df_normalized = pd.melt(df_normalized, id_vars=['Sectors Sector', 'Category Full', 'Category Label'], var_name='Año', value_name='Valor')\n",
    "\n",
    "####\n",
    "\n",
    "# Seleccionamos las columnas que vamos a utilizar\n",
    "columns_to_keep = ['Sectors Sector', 'Category Full', 'Category Label'] + [col for col in df.columns if col.startswith('CY')]\n",
    "\n",
    "# Crear un nuevo DataFrame con las columnas seleccionadas\n",
    "df_normalized = df[columns_to_keep].copy()\n",
    "\n",
    "# Realizar la operación de fundido (melt)\n",
    "df_normalized = pd.melt(df_normalized, id_vars=['Sectors Sector', 'Category Full', 'Category Label'], var_name='Año', value_name='Valor')\n",
    "\n",
    "# Crear una columna auxiliar 'Tipo' y procesar la columna 'Año'\n",
    "df_normalized['Tipo'] = df_normalized['Año'].apply(lambda x: re.findall(r'(?:\\d{4})\\s(.+)', x)[0])\n",
    "df_normalized['Año'] = df_normalized['Año'].apply(lambda x: re.findall(r'(\\d{4})', x)[0])\n"
   ]
  },
  {
   "cell_type": "markdown",
   "metadata": {},
   "source": [
    "### 4. Normalizar columna Tipo:"
   ]
  },
  {
   "cell_type": "code",
   "execution_count": null,
   "metadata": {},
   "outputs": [],
   "source": [
    "# Filtrar solo las filas donde el tipo es 'Consumed' o 'tCO2e'\n",
    "df_normalized = df_normalized[df_normalized['Tipo'].isin(['Consumed', 'tCO2e','Source MMBtu'])]\n",
    "\n",
    "# Utilizar pivot_table para convertir las categorías de 'Tipo' en columnas\n",
    "df_pivot = df_normalized.pivot_table(index=['Sectors Sector', 'Category Full', 'Category Label', 'Año'],\n",
    "                                     columns='Tipo', values='Valor', aggfunc='sum').reset_index()\n"
   ]
  },
  {
   "cell_type": "markdown",
   "metadata": {},
   "source": [
    "### 5. Eliminar Nulos y duplicados (de existir):"
   ]
  },
  {
   "cell_type": "code",
   "execution_count": null,
   "metadata": {},
   "outputs": [],
   "source": [
    "# Eliminar registros nulos\n",
    "df_pivot.dropna(inplace=True)\n",
    "\n",
    "# Eliminar registros duplicados\n",
    "df_pivot.drop_duplicates(inplace=True)"
   ]
  },
  {
   "cell_type": "code",
   "execution_count": 56,
   "metadata": {},
   "outputs": [],
   "source": [
    "#df_pivot.to_csv('../DataClean/CO2_NYC.csv')"
   ]
  }
 ],
 "metadata": {
  "kernelspec": {
   "display_name": "Python 3",
   "language": "python",
   "name": "python3"
  },
  "language_info": {
   "codemirror_mode": {
    "name": "ipython",
    "version": 3
   },
   "file_extension": ".py",
   "mimetype": "text/x-python",
   "name": "python",
   "nbconvert_exporter": "python",
   "pygments_lexer": "ipython3",
   "version": "3.10.11"
  }
 },
 "nbformat": 4,
 "nbformat_minor": 2
}
