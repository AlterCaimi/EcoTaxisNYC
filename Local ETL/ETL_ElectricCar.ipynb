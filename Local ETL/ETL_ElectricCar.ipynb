{
 "cells": [
  {
   "cell_type": "markdown",
   "metadata": {},
   "source": [
    "### 1. Importar Lista de vehículos ligeros eléctricos con precios en Europa \"WEB SCRAPING\":"
   ]
  },
  {
   "cell_type": "code",
   "execution_count": null,
   "metadata": {},
   "outputs": [],
   "source": [
    "import requests\n",
    "from bs4 import BeautifulSoup\n",
    "import pandas as pd\n",
    "\n",
    "# URL base de la página a hacer scraping\n",
    "base_url = 'https://ev-database.org/'\n",
    "url = base_url\n",
    "\n",
    "# Lista para almacenar los datos\n",
    "data = []\n",
    "\n",
    "# Diccionario para almacenar los precios por vehículo y país\n",
    "prices = {}\n",
    "\n",
    "# Realizar solicitudes GET a cada página\n",
    "while True:\n",
    "    # Realizar la solicitud GET a la página\n",
    "    response = requests.get(url)\n",
    "\n",
    "    # Verificar si la solicitud fue exitosa (código de estado 200)\n",
    "    if response.status_code == 200:\n",
    "        # Parsear el contenido HTML\n",
    "        soup = BeautifulSoup(response.text, 'html.parser')\n",
    "\n",
    "        # Encontrar todos los elementos <div> con la clase 'list-item'\n",
    "        list_items = soup.find_all('div', class_='list-item')\n",
    "\n",
    "        # Iterar sobre los elementos 'list-item' y extraer información\n",
    "        for item in list_items:\n",
    "            # Buscar el elemento <div> con la clase 'data-wrapper' dentro del elemento 'list-item'\n",
    "            data_wrapper = item.find('div', class_='data-wrapper')\n",
    "            if data_wrapper:\n",
    "                # Buscar el elemento <a> con la clase 'title'\n",
    "                title_link = data_wrapper.find('a', class_='title')\n",
    "                if title_link:\n",
    "                    # Obtener el nombre del vehículo\n",
    "                    car_name = title_link.text.strip()\n",
    "\n",
    "                    # Buscar el elemento <div> con la clase 'specs' para obtener información adicional\n",
    "                    specs_div = item.find('div', class_='specs')\n",
    "                    # Velocidad máxima\n",
    "                    top_speed_tag = specs_div.find('span', class_='topspeed')\n",
    "                    top_speed = top_speed_tag.text.strip() if top_speed_tag else \"Velocidad máxima no encontrada\"\n",
    "                    # Tiempo de 0 a 100 km/h\n",
    "                    acceleration_tag = specs_div.find('span', class_='acceleration')\n",
    "                    acceleration = acceleration_tag.text.strip() if acceleration_tag else \"Tiempo de 0 a 100 km/h no encontrado\"\n",
    "                    # Rango\n",
    "                    range_tag = specs_div.find('span', class_='erange_real')\n",
    "                    range_value = range_tag.text.strip() if range_tag else \"Rango no encontrado\"\n",
    "                    # Carga rápida\n",
    "                    fastcharge_speed_tag = specs_div.find('span', class_='fastcharge_speed_print')\n",
    "                    fastcharge_speed = fastcharge_speed_tag.text.strip() if fastcharge_speed_tag else \"Velocidad de carga rápida no encontrada\"\n",
    "\n",
    "                    # Encontrar todos los elementos <span> con la clase 'price_buy' dentro del elemento de precios\n",
    "                    pricing_elements = item.find_all('span', class_='price_buy')\n",
    "                    # Iterar sobre los elementos de precio\n",
    "                    for pricing_element in pricing_elements:\n",
    "                        # Extraer el texto dentro del elemento como el precio\n",
    "                        price_text = pricing_element.text.strip()\n",
    "                        # Extraer el país de la clase del elemento (por ejemplo, 'country_de', 'country_nl', etc.)\n",
    "                        country_code = pricing_element.find('span', class_='flag-icon').attrs['class'][1].replace('country_', '').upper()\n",
    "                        # Agregar el precio al diccionario de precios, utilizando el nombre del vehículo como clave\n",
    "                        if car_name not in prices:\n",
    "                            prices[car_name] = {}\n",
    "                        prices[car_name][country_code] = price_text\n",
    "\n",
    "                    # Agregar los datos a la lista\n",
    "                    data.append({\n",
    "                        \"Nombre del vehículo\": car_name,\n",
    "                        \"Velocidad máxima\": top_speed,\n",
    "                        \"Tiempo de 0 a 100 km/h\": acceleration,\n",
    "                        \"Rango\": range_value,\n",
    "                        \"Velocidad de carga rápida\": fastcharge_speed,\n",
    "                        **prices[car_name]  # Agregar precios al diccionario de datos\n",
    "                    })\n",
    "\n",
    "        # Encontrar el enlace a la siguiente página, si existe\n",
    "        next_page_link = soup.find('a', class_='next')\n",
    "        if next_page_link:\n",
    "            url = base_url + next_page_link['href']\n",
    "        else:\n",
    "            break  # Salir del bucle si no hay más páginas disponibles\n",
    "    else:\n",
    "        print('Error al acceder a la página:', response.status_code)\n",
    "        break\n"
   ]
  },
  {
   "cell_type": "markdown",
   "metadata": {},
   "source": [
    "### 2. Corregir formato de números y renombrar columnas:"
   ]
  },
  {
   "cell_type": "code",
   "execution_count": null,
   "metadata": {},
   "outputs": [],
   "source": [
    "# Crear un DataFrame de Pandas con los datos\n",
    "df = pd.DataFrame(data)\n",
    "\n",
    "# Renombrar las columnas\n",
    "df.rename(columns={\n",
    "    'Velocidad máxima': 'Velocidad Máxima (Km/h)',\n",
    "    'Tiempo de 0 a 100 km/h': 'Aceleración 0 a 100 Km/h (seg)',\n",
    "    'Rango': 'Rango (Km)',\n",
    "    'Velocidad de carga rápida': 'Carga rápida (Km/h)'\n",
    "}, inplace=True)\n",
    "\n",
    "# Limpiar los datos numéricos\n",
    "df['Velocidad Máxima (Km/h)'] = df['Velocidad Máxima (Km/h)'].str.extract('(\\d+)').astype(float)\n",
    "df['Aceleración 0 a 100 Km/h (seg)'] = df['Aceleración 0 a 100 Km/h (seg)'].str.extract('(\\d+\\.?\\d*)').astype(float)\n",
    "df['Rango (Km)'] = df['Rango (Km)'].str.extract('(\\d+)').astype(float)\n",
    "df['Carga rápida (Km/h)'] = df['Carga rápida (Km/h)'].str.extract('(\\d+)').astype(float)\n"
   ]
  },
  {
   "cell_type": "markdown",
   "metadata": {},
   "source": [
    "### 3. Renombrar columnas de precios y arreglar valores:"
   ]
  },
  {
   "cell_type": "code",
   "execution_count": 61,
   "metadata": {},
   "outputs": [],
   "source": [
    "# Renombrar las columnas de precio\n",
    "df.rename(columns={\n",
    "    'FLAG-ICON-DE': 'Alemania (€)',\n",
    "    'FLAG-ICON-NL': 'Holanda (€)',\n",
    "    'FLAG-ICON-GB': 'Inglaterra (€)'\n",
    "}, inplace=True)\n",
    "\n",
    "# Limpiar los valores de las columnas de precio\n",
    "for country in ['Alemania (€)', 'Holanda (€)', 'Inglaterra (€)']:\n",
    "    df[country] = df[country].str.replace('*', '')  # Eliminar asteriscos\n",
    "    df[country] = df[country].str.replace('[^\\d,.]', '', regex=True)  # Eliminar caracteres no numéricos\n",
    "    df[country] = df[country].str.replace(',', '', regex=False)  # Eliminar comas como separadores de miles\n",
    "    df[country] = pd.to_numeric(df[country], errors='coerce')  # Convertir a tipo numérico"
   ]
  },
  {
   "cell_type": "markdown",
   "metadata": {},
   "source": [
    "### 4. Unificar precios a promedio Europa en Euros:"
   ]
  },
  {
   "cell_type": "code",
   "execution_count": 64,
   "metadata": {},
   "outputs": [],
   "source": [
    "# Crear la columna \"Europa (€)\" que promedia los valores de las tres columnas de precios, ignorando los valores nulos\n",
    "df['Europa (€)'] = df[['Alemania (€)', 'Holanda (€)', 'Inglaterra (€)']].mean(axis=1, skipna=True)\n",
    "\n",
    "# Eliminar las columnas individuales de precios\n",
    "df.drop(columns=['Alemania (€)', 'Holanda (€)', 'Inglaterra (€)'], inplace=True)\n"
   ]
  },
  {
   "cell_type": "markdown",
   "metadata": {},
   "source": [
    "### 5. Eliminar registros nulos y duplicados:"
   ]
  },
  {
   "cell_type": "code",
   "execution_count": 66,
   "metadata": {},
   "outputs": [],
   "source": [
    "# Eliminar registros nulos\n",
    "df.dropna(inplace=True)\n",
    "\n",
    "# Eliminar registros duplicados\n",
    "df.drop_duplicates(inplace=True)"
   ]
  },
  {
   "cell_type": "code",
   "execution_count": 68,
   "metadata": {},
   "outputs": [],
   "source": [
    "# Guardar el DataFrame en un archivo CSV\n",
    "#df.to_csv('../DataClean/datos_vehiculos.csv', index=False)"
   ]
  }
 ],
 "metadata": {
  "kernelspec": {
   "display_name": "Python 3",
   "language": "python",
   "name": "python3"
  },
  "language_info": {
   "codemirror_mode": {
    "name": "ipython",
    "version": 3
   },
   "file_extension": ".py",
   "mimetype": "text/x-python",
   "name": "python",
   "nbconvert_exporter": "python",
   "pygments_lexer": "ipython3",
   "version": "3.10.11"
  }
 },
 "nbformat": 4,
 "nbformat_minor": 2
}
