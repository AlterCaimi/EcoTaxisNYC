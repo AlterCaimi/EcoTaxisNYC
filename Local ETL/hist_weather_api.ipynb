{
 "cells": [
  {
   "cell_type": "markdown",
   "metadata": {},
   "source": [
    "# ETL desde API Historical Weather"
   ]
  },
  {
   "cell_type": "markdown",
   "metadata": {},
   "source": [
    "Importar librerías"
   ]
  },
  {
   "cell_type": "code",
   "execution_count": 1,
   "metadata": {},
   "outputs": [],
   "source": [
    "import pandas as pd\n",
    "import warnings\n",
    "warnings.filterwarnings('ignore')\n",
    "import openmeteo_requests\n",
    "import requests_cache\n",
    "import pandas as pd\n",
    "from retry_requests import retry\n",
    "from datetime import datetime, timedelta"
   ]
  },
  {
   "cell_type": "markdown",
   "metadata": {},
   "source": [
    "Request a la API"
   ]
  },
  {
   "cell_type": "code",
   "execution_count": 3,
   "metadata": {},
   "outputs": [],
   "source": [
    "fecha_inicial = '2022-01-01'        # fecha inicial colocar la del día anterior al requerido, ya que hay una diferencia horaria de 4 horas\n",
    "fecha_final = '2024-02-29'          # con respecto a GMT"
   ]
  },
  {
   "cell_type": "code",
   "execution_count": 4,
   "metadata": {},
   "outputs": [
    {
     "name": "stdout",
     "output_type": "stream",
     "text": [
      "Coordinates 40.738136291503906°N -74.04254150390625°E\n",
      "Elevation 51.0 m asl\n",
      "Timezone b'America/New_York' b'EDT'\n",
      "Timezone difference to GMT+0 -14400 s\n",
      "                           date  temperature_2m  relative_humidity_2m  rain  \\\n",
      "0     2022-01-01 04:00:00+00:00          7.5225            100.000000   0.0   \n",
      "1     2022-01-01 05:00:00+00:00          7.6725             99.659775   0.0   \n",
      "2     2022-01-01 06:00:00+00:00          7.7725             99.660034   0.0   \n",
      "3     2022-01-01 07:00:00+00:00          7.4725             99.659233   0.0   \n",
      "4     2022-01-01 08:00:00+00:00          7.4225             99.659088   0.1   \n",
      "...                         ...             ...                   ...   ...   \n",
      "18955 2024-02-29 23:00:00+00:00          1.3225             36.604572   0.0   \n",
      "18956 2024-03-01 00:00:00+00:00         -0.2775             45.395584   0.0   \n",
      "18957 2024-03-01 01:00:00+00:00         -0.1775             45.968769   0.0   \n",
      "18958 2024-03-01 02:00:00+00:00         -1.3275             52.418312   0.0   \n",
      "18959 2024-03-01 03:00:00+00:00         -2.0275             54.970055   0.0   \n",
      "\n",
      "       snowfall  \n",
      "0           0.0  \n",
      "1           0.0  \n",
      "2           0.0  \n",
      "3           0.0  \n",
      "4           0.0  \n",
      "...         ...  \n",
      "18955       0.0  \n",
      "18956       0.0  \n",
      "18957       0.0  \n",
      "18958       0.0  \n",
      "18959       0.0  \n",
      "\n",
      "[18960 rows x 5 columns]\n"
     ]
    }
   ],
   "source": [
    "# Setup the Open-Meteo API client with cache and retry on error\n",
    "cache_session = requests_cache.CachedSession('.cache', expire_after = -1)\n",
    "retry_session = retry(cache_session, retries = 5, backoff_factor = 0.2)\n",
    "openmeteo = openmeteo_requests.Client(session = retry_session)\n",
    "\n",
    "# The order of variables in hourly or daily is important to assign them correctly below\n",
    "url = \"https://archive-api.open-meteo.com/v1/archive\"\n",
    "params = {\n",
    "\t\"latitude\": 40.7143,\n",
    "\t\"longitude\": -74.006,\n",
    "\t\"start_date\": fecha_inicial,\n",
    "\t\"end_date\": fecha_final,\n",
    "\t\"hourly\": [\"temperature_2m\", \"relative_humidity_2m\", \"rain\", \"snowfall\"],\n",
    "\t\"timezone\": \"America/New_York\"\n",
    "}\n",
    "responses = openmeteo.weather_api(url, params=params)\n",
    "\n",
    "# Process first location. Add a for-loop for multiple locations or weather models\n",
    "response = responses[0]\n",
    "print(f\"Coordinates {response.Latitude()}°N {response.Longitude()}°E\")\n",
    "print(f\"Elevation {response.Elevation()} m asl\")\n",
    "print(f\"Timezone {response.Timezone()} {response.TimezoneAbbreviation()}\")\n",
    "print(f\"Timezone difference to GMT+0 {response.UtcOffsetSeconds()} s\")\n",
    "\n",
    "# Process hourly data. The order of variables needs to be the same as requested.\n",
    "hourly = response.Hourly()\n",
    "hourly_temperature_2m = hourly.Variables(0).ValuesAsNumpy()\n",
    "hourly_relative_humidity_2m = hourly.Variables(1).ValuesAsNumpy()\n",
    "hourly_rain = hourly.Variables(2).ValuesAsNumpy()\n",
    "hourly_snowfall = hourly.Variables(3).ValuesAsNumpy()\n",
    "\n",
    "hourly_data = {\"date\": pd.date_range(\n",
    "\tstart = pd.to_datetime(hourly.Time(), unit = \"s\", utc = True),\n",
    "\tend = pd.to_datetime(hourly.TimeEnd(), unit = \"s\", utc = True),\n",
    "\tfreq = pd.Timedelta(seconds = hourly.Interval()),\n",
    "\tinclusive = \"left\"\n",
    ")}\n",
    "hourly_data[\"temperature_2m\"] = hourly_temperature_2m\n",
    "hourly_data[\"relative_humidity_2m\"] = hourly_relative_humidity_2m\n",
    "hourly_data[\"rain\"] = hourly_rain\n",
    "hourly_data[\"snowfall\"] = hourly_snowfall\n",
    "\n",
    "hourly_dataframe = pd.DataFrame(data = hourly_data)\n",
    "print(hourly_dataframe)"
   ]
  },
  {
   "cell_type": "code",
   "execution_count": 5,
   "metadata": {},
   "outputs": [
    {
     "name": "stdout",
     "output_type": "stream",
     "text": [
      "<class 'pandas.core.frame.DataFrame'>\n",
      "RangeIndex: 18960 entries, 0 to 18959\n",
      "Data columns (total 5 columns):\n",
      " #   Column                Non-Null Count  Dtype              \n",
      "---  ------                --------------  -----              \n",
      " 0   date                  18960 non-null  datetime64[ns, UTC]\n",
      " 1   temperature_2m        18960 non-null  float32            \n",
      " 2   relative_humidity_2m  18960 non-null  float32            \n",
      " 3   rain                  18960 non-null  float32            \n",
      " 4   snowfall              18960 non-null  float32            \n",
      "dtypes: datetime64[ns, UTC](1), float32(4)\n",
      "memory usage: 444.5 KB\n"
     ]
    }
   ],
   "source": [
    "hourly_dataframe.info()"
   ]
  },
  {
   "cell_type": "code",
   "execution_count": 5,
   "metadata": {},
   "outputs": [
    {
     "data": {
      "text/html": [
       "<div>\n",
       "<style scoped>\n",
       "    .dataframe tbody tr th:only-of-type {\n",
       "        vertical-align: middle;\n",
       "    }\n",
       "\n",
       "    .dataframe tbody tr th {\n",
       "        vertical-align: top;\n",
       "    }\n",
       "\n",
       "    .dataframe thead th {\n",
       "        text-align: right;\n",
       "    }\n",
       "</style>\n",
       "<table border=\"1\" class=\"dataframe\">\n",
       "  <thead>\n",
       "    <tr style=\"text-align: right;\">\n",
       "      <th></th>\n",
       "      <th>date</th>\n",
       "      <th>temperature_2m</th>\n",
       "      <th>relative_humidity_2m</th>\n",
       "      <th>rain</th>\n",
       "      <th>snowfall</th>\n",
       "    </tr>\n",
       "  </thead>\n",
       "  <tbody>\n",
       "    <tr>\n",
       "      <th>0</th>\n",
       "      <td>2009-01-01 04:00:00+00:00</td>\n",
       "      <td>-7.5665</td>\n",
       "      <td>45.961708</td>\n",
       "      <td>0.0</td>\n",
       "      <td>0.0</td>\n",
       "    </tr>\n",
       "    <tr>\n",
       "      <th>1</th>\n",
       "      <td>2009-01-01 05:00:00+00:00</td>\n",
       "      <td>-7.6165</td>\n",
       "      <td>46.333775</td>\n",
       "      <td>0.0</td>\n",
       "      <td>0.0</td>\n",
       "    </tr>\n",
       "    <tr>\n",
       "      <th>2</th>\n",
       "      <td>2009-01-01 06:00:00+00:00</td>\n",
       "      <td>-7.8165</td>\n",
       "      <td>46.858982</td>\n",
       "      <td>0.0</td>\n",
       "      <td>0.0</td>\n",
       "    </tr>\n",
       "    <tr>\n",
       "      <th>3</th>\n",
       "      <td>2009-01-01 07:00:00+00:00</td>\n",
       "      <td>-7.7665</td>\n",
       "      <td>47.667458</td>\n",
       "      <td>0.0</td>\n",
       "      <td>0.0</td>\n",
       "    </tr>\n",
       "    <tr>\n",
       "      <th>4</th>\n",
       "      <td>2009-01-01 08:00:00+00:00</td>\n",
       "      <td>-8.1665</td>\n",
       "      <td>47.544762</td>\n",
       "      <td>0.0</td>\n",
       "      <td>0.0</td>\n",
       "    </tr>\n",
       "  </tbody>\n",
       "</table>\n",
       "</div>"
      ],
      "text/plain": [
       "                       date  temperature_2m  relative_humidity_2m  rain  \\\n",
       "0 2009-01-01 04:00:00+00:00         -7.5665             45.961708   0.0   \n",
       "1 2009-01-01 05:00:00+00:00         -7.6165             46.333775   0.0   \n",
       "2 2009-01-01 06:00:00+00:00         -7.8165             46.858982   0.0   \n",
       "3 2009-01-01 07:00:00+00:00         -7.7665             47.667458   0.0   \n",
       "4 2009-01-01 08:00:00+00:00         -8.1665             47.544762   0.0   \n",
       "\n",
       "   snowfall  \n",
       "0       0.0  \n",
       "1       0.0  \n",
       "2       0.0  \n",
       "3       0.0  \n",
       "4       0.0  "
      ]
     },
     "execution_count": 5,
     "metadata": {},
     "output_type": "execute_result"
    }
   ],
   "source": [
    "hourly_dataframe.head()"
   ]
  }
 ],
 "metadata": {
  "kernelspec": {
   "display_name": "Python 3",
   "language": "python",
   "name": "python3"
  },
  "language_info": {
   "codemirror_mode": {
    "name": "ipython",
    "version": 3
   },
   "file_extension": ".py",
   "mimetype": "text/x-python",
   "name": "python",
   "nbconvert_exporter": "python",
   "pygments_lexer": "ipython3",
   "version": "3.11.5"
  }
 },
 "nbformat": 4,
 "nbformat_minor": 2
}
