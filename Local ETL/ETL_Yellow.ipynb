{
 "cells": [
  {
   "cell_type": "markdown",
   "metadata": {},
   "source": [
    "### 1. Importar librerías:"
   ]
  },
  {
   "cell_type": "code",
   "execution_count": 1,
   "metadata": {},
   "outputs": [],
   "source": [
    "import pandas as pd\n",
    "import seaborn as sns\n",
    "import matplotlib.pyplot as plt\n",
    "import warnings\n",
    "import numpy as np\n",
    "warnings.filterwarnings('ignore')"
   ]
  },
  {
   "cell_type": "markdown",
   "metadata": {},
   "source": [
    "### 2. Abrir Archivos:"
   ]
  },
  {
   "cell_type": "code",
   "execution_count": 2,
   "metadata": {},
   "outputs": [
    {
     "data": {
      "text/html": [
       "<div>\n",
       "<style scoped>\n",
       "    .dataframe tbody tr th:only-of-type {\n",
       "        vertical-align: middle;\n",
       "    }\n",
       "\n",
       "    .dataframe tbody tr th {\n",
       "        vertical-align: top;\n",
       "    }\n",
       "\n",
       "    .dataframe thead th {\n",
       "        text-align: right;\n",
       "    }\n",
       "</style>\n",
       "<table border=\"1\" class=\"dataframe\">\n",
       "  <thead>\n",
       "    <tr style=\"text-align: right;\">\n",
       "      <th></th>\n",
       "      <th>VendorID</th>\n",
       "      <th>tpep_pickup_datetime</th>\n",
       "      <th>tpep_dropoff_datetime</th>\n",
       "      <th>passenger_count</th>\n",
       "      <th>trip_distance</th>\n",
       "      <th>RatecodeID</th>\n",
       "      <th>store_and_fwd_flag</th>\n",
       "      <th>PULocationID</th>\n",
       "      <th>DOLocationID</th>\n",
       "      <th>payment_type</th>\n",
       "      <th>fare_amount</th>\n",
       "      <th>extra</th>\n",
       "      <th>mta_tax</th>\n",
       "      <th>tip_amount</th>\n",
       "      <th>tolls_amount</th>\n",
       "      <th>improvement_surcharge</th>\n",
       "      <th>total_amount</th>\n",
       "      <th>congestion_surcharge</th>\n",
       "      <th>Airport_fee</th>\n",
       "    </tr>\n",
       "  </thead>\n",
       "  <tbody>\n",
       "    <tr>\n",
       "      <th>0</th>\n",
       "      <td>1</td>\n",
       "      <td>2023-12-01 00:06:06</td>\n",
       "      <td>2023-12-01 00:15:47</td>\n",
       "      <td>0.0</td>\n",
       "      <td>1.10</td>\n",
       "      <td>1.0</td>\n",
       "      <td>N</td>\n",
       "      <td>230</td>\n",
       "      <td>48</td>\n",
       "      <td>1</td>\n",
       "      <td>10.00</td>\n",
       "      <td>3.5</td>\n",
       "      <td>0.5</td>\n",
       "      <td>1.50</td>\n",
       "      <td>0.0</td>\n",
       "      <td>1.0</td>\n",
       "      <td>16.50</td>\n",
       "      <td>2.5</td>\n",
       "      <td>0.0</td>\n",
       "    </tr>\n",
       "    <tr>\n",
       "      <th>1</th>\n",
       "      <td>1</td>\n",
       "      <td>2023-12-01 00:22:26</td>\n",
       "      <td>2023-12-01 00:28:53</td>\n",
       "      <td>0.0</td>\n",
       "      <td>1.50</td>\n",
       "      <td>1.0</td>\n",
       "      <td>N</td>\n",
       "      <td>142</td>\n",
       "      <td>238</td>\n",
       "      <td>1</td>\n",
       "      <td>9.30</td>\n",
       "      <td>3.5</td>\n",
       "      <td>0.5</td>\n",
       "      <td>2.85</td>\n",
       "      <td>0.0</td>\n",
       "      <td>1.0</td>\n",
       "      <td>17.15</td>\n",
       "      <td>2.5</td>\n",
       "      <td>0.0</td>\n",
       "    </tr>\n",
       "    <tr>\n",
       "      <th>2</th>\n",
       "      <td>1</td>\n",
       "      <td>2023-12-01 00:59:44</td>\n",
       "      <td>2023-12-01 01:13:22</td>\n",
       "      <td>2.0</td>\n",
       "      <td>2.20</td>\n",
       "      <td>1.0</td>\n",
       "      <td>N</td>\n",
       "      <td>114</td>\n",
       "      <td>186</td>\n",
       "      <td>1</td>\n",
       "      <td>13.50</td>\n",
       "      <td>3.5</td>\n",
       "      <td>0.5</td>\n",
       "      <td>3.00</td>\n",
       "      <td>0.0</td>\n",
       "      <td>1.0</td>\n",
       "      <td>21.50</td>\n",
       "      <td>2.5</td>\n",
       "      <td>0.0</td>\n",
       "    </tr>\n",
       "    <tr>\n",
       "      <th>3</th>\n",
       "      <td>2</td>\n",
       "      <td>2023-12-01 00:22:17</td>\n",
       "      <td>2023-12-01 00:30:59</td>\n",
       "      <td>1.0</td>\n",
       "      <td>0.66</td>\n",
       "      <td>1.0</td>\n",
       "      <td>N</td>\n",
       "      <td>79</td>\n",
       "      <td>79</td>\n",
       "      <td>2</td>\n",
       "      <td>7.20</td>\n",
       "      <td>1.0</td>\n",
       "      <td>0.5</td>\n",
       "      <td>0.00</td>\n",
       "      <td>0.0</td>\n",
       "      <td>1.0</td>\n",
       "      <td>12.20</td>\n",
       "      <td>2.5</td>\n",
       "      <td>0.0</td>\n",
       "    </tr>\n",
       "    <tr>\n",
       "      <th>4</th>\n",
       "      <td>2</td>\n",
       "      <td>2023-12-01 00:18:16</td>\n",
       "      <td>2023-12-01 00:25:32</td>\n",
       "      <td>2.0</td>\n",
       "      <td>2.20</td>\n",
       "      <td>1.0</td>\n",
       "      <td>N</td>\n",
       "      <td>229</td>\n",
       "      <td>263</td>\n",
       "      <td>1</td>\n",
       "      <td>11.40</td>\n",
       "      <td>1.0</td>\n",
       "      <td>0.5</td>\n",
       "      <td>2.00</td>\n",
       "      <td>0.0</td>\n",
       "      <td>1.0</td>\n",
       "      <td>18.40</td>\n",
       "      <td>2.5</td>\n",
       "      <td>0.0</td>\n",
       "    </tr>\n",
       "    <tr>\n",
       "      <th>...</th>\n",
       "      <td>...</td>\n",
       "      <td>...</td>\n",
       "      <td>...</td>\n",
       "      <td>...</td>\n",
       "      <td>...</td>\n",
       "      <td>...</td>\n",
       "      <td>...</td>\n",
       "      <td>...</td>\n",
       "      <td>...</td>\n",
       "      <td>...</td>\n",
       "      <td>...</td>\n",
       "      <td>...</td>\n",
       "      <td>...</td>\n",
       "      <td>...</td>\n",
       "      <td>...</td>\n",
       "      <td>...</td>\n",
       "      <td>...</td>\n",
       "      <td>...</td>\n",
       "      <td>...</td>\n",
       "    </tr>\n",
       "    <tr>\n",
       "      <th>3376562</th>\n",
       "      <td>2</td>\n",
       "      <td>2023-12-31 23:04:34</td>\n",
       "      <td>2023-12-31 23:13:58</td>\n",
       "      <td>NaN</td>\n",
       "      <td>1.34</td>\n",
       "      <td>NaN</td>\n",
       "      <td>None</td>\n",
       "      <td>233</td>\n",
       "      <td>163</td>\n",
       "      <td>0</td>\n",
       "      <td>12.08</td>\n",
       "      <td>0.0</td>\n",
       "      <td>0.5</td>\n",
       "      <td>0.00</td>\n",
       "      <td>0.0</td>\n",
       "      <td>1.0</td>\n",
       "      <td>16.08</td>\n",
       "      <td>NaN</td>\n",
       "      <td>NaN</td>\n",
       "    </tr>\n",
       "    <tr>\n",
       "      <th>3376563</th>\n",
       "      <td>2</td>\n",
       "      <td>2023-12-31 23:08:15</td>\n",
       "      <td>2023-12-31 23:08:23</td>\n",
       "      <td>NaN</td>\n",
       "      <td>0.00</td>\n",
       "      <td>NaN</td>\n",
       "      <td>None</td>\n",
       "      <td>48</td>\n",
       "      <td>48</td>\n",
       "      <td>0</td>\n",
       "      <td>25.98</td>\n",
       "      <td>0.0</td>\n",
       "      <td>0.5</td>\n",
       "      <td>0.00</td>\n",
       "      <td>0.0</td>\n",
       "      <td>1.0</td>\n",
       "      <td>27.48</td>\n",
       "      <td>NaN</td>\n",
       "      <td>NaN</td>\n",
       "    </tr>\n",
       "    <tr>\n",
       "      <th>3376564</th>\n",
       "      <td>2</td>\n",
       "      <td>2023-12-31 23:16:15</td>\n",
       "      <td>2023-12-31 23:30:28</td>\n",
       "      <td>NaN</td>\n",
       "      <td>3.71</td>\n",
       "      <td>NaN</td>\n",
       "      <td>None</td>\n",
       "      <td>196</td>\n",
       "      <td>198</td>\n",
       "      <td>0</td>\n",
       "      <td>16.68</td>\n",
       "      <td>0.0</td>\n",
       "      <td>0.5</td>\n",
       "      <td>0.00</td>\n",
       "      <td>0.0</td>\n",
       "      <td>1.0</td>\n",
       "      <td>18.18</td>\n",
       "      <td>NaN</td>\n",
       "      <td>NaN</td>\n",
       "    </tr>\n",
       "    <tr>\n",
       "      <th>3376565</th>\n",
       "      <td>2</td>\n",
       "      <td>2023-12-31 23:21:58</td>\n",
       "      <td>2023-12-31 23:34:29</td>\n",
       "      <td>NaN</td>\n",
       "      <td>5.20</td>\n",
       "      <td>NaN</td>\n",
       "      <td>None</td>\n",
       "      <td>140</td>\n",
       "      <td>148</td>\n",
       "      <td>0</td>\n",
       "      <td>19.64</td>\n",
       "      <td>0.0</td>\n",
       "      <td>0.5</td>\n",
       "      <td>0.00</td>\n",
       "      <td>0.0</td>\n",
       "      <td>1.0</td>\n",
       "      <td>23.64</td>\n",
       "      <td>NaN</td>\n",
       "      <td>NaN</td>\n",
       "    </tr>\n",
       "    <tr>\n",
       "      <th>3376566</th>\n",
       "      <td>2</td>\n",
       "      <td>2023-12-31 23:10:47</td>\n",
       "      <td>2023-12-31 23:27:58</td>\n",
       "      <td>NaN</td>\n",
       "      <td>6.81</td>\n",
       "      <td>NaN</td>\n",
       "      <td>None</td>\n",
       "      <td>237</td>\n",
       "      <td>261</td>\n",
       "      <td>0</td>\n",
       "      <td>27.18</td>\n",
       "      <td>0.0</td>\n",
       "      <td>0.5</td>\n",
       "      <td>0.00</td>\n",
       "      <td>0.0</td>\n",
       "      <td>1.0</td>\n",
       "      <td>31.18</td>\n",
       "      <td>NaN</td>\n",
       "      <td>NaN</td>\n",
       "    </tr>\n",
       "  </tbody>\n",
       "</table>\n",
       "<p>3376567 rows × 19 columns</p>\n",
       "</div>"
      ],
      "text/plain": [
       "         VendorID tpep_pickup_datetime tpep_dropoff_datetime  passenger_count  \\\n",
       "0               1  2023-12-01 00:06:06   2023-12-01 00:15:47              0.0   \n",
       "1               1  2023-12-01 00:22:26   2023-12-01 00:28:53              0.0   \n",
       "2               1  2023-12-01 00:59:44   2023-12-01 01:13:22              2.0   \n",
       "3               2  2023-12-01 00:22:17   2023-12-01 00:30:59              1.0   \n",
       "4               2  2023-12-01 00:18:16   2023-12-01 00:25:32              2.0   \n",
       "...           ...                  ...                   ...              ...   \n",
       "3376562         2  2023-12-31 23:04:34   2023-12-31 23:13:58              NaN   \n",
       "3376563         2  2023-12-31 23:08:15   2023-12-31 23:08:23              NaN   \n",
       "3376564         2  2023-12-31 23:16:15   2023-12-31 23:30:28              NaN   \n",
       "3376565         2  2023-12-31 23:21:58   2023-12-31 23:34:29              NaN   \n",
       "3376566         2  2023-12-31 23:10:47   2023-12-31 23:27:58              NaN   \n",
       "\n",
       "         trip_distance  RatecodeID store_and_fwd_flag  PULocationID  \\\n",
       "0                 1.10         1.0                  N           230   \n",
       "1                 1.50         1.0                  N           142   \n",
       "2                 2.20         1.0                  N           114   \n",
       "3                 0.66         1.0                  N            79   \n",
       "4                 2.20         1.0                  N           229   \n",
       "...                ...         ...                ...           ...   \n",
       "3376562           1.34         NaN               None           233   \n",
       "3376563           0.00         NaN               None            48   \n",
       "3376564           3.71         NaN               None           196   \n",
       "3376565           5.20         NaN               None           140   \n",
       "3376566           6.81         NaN               None           237   \n",
       "\n",
       "         DOLocationID  payment_type  fare_amount  extra  mta_tax  tip_amount  \\\n",
       "0                  48             1        10.00    3.5      0.5        1.50   \n",
       "1                 238             1         9.30    3.5      0.5        2.85   \n",
       "2                 186             1        13.50    3.5      0.5        3.00   \n",
       "3                  79             2         7.20    1.0      0.5        0.00   \n",
       "4                 263             1        11.40    1.0      0.5        2.00   \n",
       "...               ...           ...          ...    ...      ...         ...   \n",
       "3376562           163             0        12.08    0.0      0.5        0.00   \n",
       "3376563            48             0        25.98    0.0      0.5        0.00   \n",
       "3376564           198             0        16.68    0.0      0.5        0.00   \n",
       "3376565           148             0        19.64    0.0      0.5        0.00   \n",
       "3376566           261             0        27.18    0.0      0.5        0.00   \n",
       "\n",
       "         tolls_amount  improvement_surcharge  total_amount  \\\n",
       "0                 0.0                    1.0         16.50   \n",
       "1                 0.0                    1.0         17.15   \n",
       "2                 0.0                    1.0         21.50   \n",
       "3                 0.0                    1.0         12.20   \n",
       "4                 0.0                    1.0         18.40   \n",
       "...               ...                    ...           ...   \n",
       "3376562           0.0                    1.0         16.08   \n",
       "3376563           0.0                    1.0         27.48   \n",
       "3376564           0.0                    1.0         18.18   \n",
       "3376565           0.0                    1.0         23.64   \n",
       "3376566           0.0                    1.0         31.18   \n",
       "\n",
       "         congestion_surcharge  Airport_fee  \n",
       "0                         2.5          0.0  \n",
       "1                         2.5          0.0  \n",
       "2                         2.5          0.0  \n",
       "3                         2.5          0.0  \n",
       "4                         2.5          0.0  \n",
       "...                       ...          ...  \n",
       "3376562                   NaN          NaN  \n",
       "3376563                   NaN          NaN  \n",
       "3376564                   NaN          NaN  \n",
       "3376565                   NaN          NaN  \n",
       "3376566                   NaN          NaN  \n",
       "\n",
       "[3376567 rows x 19 columns]"
      ]
     },
     "execution_count": 2,
     "metadata": {},
     "output_type": "execute_result"
    }
   ],
   "source": [
    "df_Yellow = pd.read_parquet('../Datasets/TLC_NYC/1. yellow_tripdata_2023-12.parquet')\n",
    "df_Yellow"
   ]
  },
  {
   "cell_type": "markdown",
   "metadata": {},
   "source": [
    "Contar registros:"
   ]
  },
  {
   "cell_type": "code",
   "execution_count": 3,
   "metadata": {},
   "outputs": [
    {
     "data": {
      "text/plain": [
       "3376567"
      ]
     },
     "execution_count": 3,
     "metadata": {},
     "output_type": "execute_result"
    }
   ],
   "source": [
    "Total_Registros_inicial= len(df_Yellow)\n",
    "Total_Registros_inicial"
   ]
  },
  {
   "cell_type": "code",
   "execution_count": 4,
   "metadata": {},
   "outputs": [
    {
     "name": "stdout",
     "output_type": "stream",
     "text": [
      "<class 'pandas.core.frame.DataFrame'>\n",
      "RangeIndex: 3376567 entries, 0 to 3376566\n",
      "Data columns (total 19 columns):\n",
      " #   Column                 Dtype         \n",
      "---  ------                 -----         \n",
      " 0   VendorID               int32         \n",
      " 1   tpep_pickup_datetime   datetime64[us]\n",
      " 2   tpep_dropoff_datetime  datetime64[us]\n",
      " 3   passenger_count        float64       \n",
      " 4   trip_distance          float64       \n",
      " 5   RatecodeID             float64       \n",
      " 6   store_and_fwd_flag     object        \n",
      " 7   PULocationID           int32         \n",
      " 8   DOLocationID           int32         \n",
      " 9   payment_type           int64         \n",
      " 10  fare_amount            float64       \n",
      " 11  extra                  float64       \n",
      " 12  mta_tax                float64       \n",
      " 13  tip_amount             float64       \n",
      " 14  tolls_amount           float64       \n",
      " 15  improvement_surcharge  float64       \n",
      " 16  total_amount           float64       \n",
      " 17  congestion_surcharge   float64       \n",
      " 18  Airport_fee            float64       \n",
      "dtypes: datetime64[us](2), float64(12), int32(3), int64(1), object(1)\n",
      "memory usage: 450.8+ MB\n"
     ]
    }
   ],
   "source": [
    "df_Yellow.info()"
   ]
  },
  {
   "cell_type": "markdown",
   "metadata": {},
   "source": [
    "### 3. Eliminar columnas Innecesarias:"
   ]
  },
  {
   "cell_type": "code",
   "execution_count": 5,
   "metadata": {},
   "outputs": [
    {
     "data": {
      "text/plain": [
       "Index(['VendorID', 'tpep_pickup_datetime', 'tpep_dropoff_datetime',\n",
       "       'passenger_count', 'trip_distance', 'RatecodeID', 'store_and_fwd_flag',\n",
       "       'PULocationID', 'DOLocationID', 'payment_type', 'fare_amount', 'extra',\n",
       "       'mta_tax', 'tip_amount', 'tolls_amount', 'improvement_surcharge',\n",
       "       'total_amount', 'congestion_surcharge', 'Airport_fee'],\n",
       "      dtype='object')"
      ]
     },
     "execution_count": 5,
     "metadata": {},
     "output_type": "execute_result"
    }
   ],
   "source": [
    "df_Yellow.columns"
   ]
  },
  {
   "cell_type": "code",
   "execution_count": 6,
   "metadata": {},
   "outputs": [],
   "source": [
    "columnas_eliminar = ['VendorID', 'RatecodeID', 'store_and_fwd_flag',\n",
    "       'payment_type']\n",
    "\n",
    "Yellow = df_Yellow.drop(columns=columnas_eliminar)"
   ]
  },
  {
   "cell_type": "markdown",
   "metadata": {},
   "source": [
    "### 4. Revisar Outliers:"
   ]
  },
  {
   "cell_type": "code",
   "execution_count": 7,
   "metadata": {},
   "outputs": [
    {
     "data": {
      "image/png": "[encoded data removed]",
      "text/plain": [
       "<Figure size 1600x600 with 13 Axes>"
      ]
     },
     "metadata": {},
     "output_type": "display_data"
    }
   ],
   "source": [
    "# Selecciona solo las columnas numéricas\n",
    "df_numerical = Yellow.select_dtypes(include='number')\n",
    "\n",
    "# Calcula el IQR (rango intercuartílico) para cada columna y ordénalas por el IQR\n",
    "iqr_values = (df_numerical.quantile(0.75) - df_numerical.quantile(0.25)).sort_values(ascending=False)\n",
    "sorted_columns = iqr_values.index\n",
    "\n",
    "# Ordena las columnas en df_numerical de acuerdo con el orden de iqr_values\n",
    "df_numerical = df_numerical[sorted_columns]\n",
    "\n",
    "\n",
    "# Configura el estilo de Seaborn\n",
    "sns.set(style=\"whitegrid\")\n",
    "\n",
    "# Tamaño de la figura y espaciado entre subtramas\n",
    "plt.figure(figsize=(16, 6))\n",
    "plt.subplots_adjust(wspace=0.4)  # Ajusta el espaciado horizontal entre subtramas\n",
    "\n",
    "# Crea el gráfico de caja utilizando Seaborn\n",
    "for i, column in enumerate(sorted_columns):\n",
    "    ax = plt.subplot(1, len(sorted_columns), i+1)  # Subtrama para cada variable\n",
    "    sns.boxplot(y=df_numerical[column], color='skyblue', ax=ax)\n",
    "    ax.set_title(column, rotation=90, fontsize=10)  # Rotar el título y ajustar tamaño de fuente\n",
    "    plt.xlabel('')\n",
    "    plt.ylabel('')\n",
    "    plt.xticks(rotation=90)  # Rotar las etiquetas del eje x verticalmente\n",
    "\n",
    "plt.tight_layout()\n",
    "plt.show()"
   ]
  },
  {
   "cell_type": "markdown",
   "metadata": {},
   "source": [
    "### 5. Convertir núemeros negativos a positivos:"
   ]
  },
  {
   "cell_type": "code",
   "execution_count": 8,
   "metadata": {},
   "outputs": [],
   "source": [
    "# Crear una lista de las columnas en las que deseas convertir los valores negativos a positivos\n",
    "columnas_a_convertir = ['fare_amount', 'extra',\n",
    "       'mta_tax', 'tip_amount', 'tolls_amount', 'improvement_surcharge',\n",
    "       'total_amount', 'congestion_surcharge', 'Airport_fee']\n",
    "\n",
    "# Aplicar una función lambda a cada valor en cada una de esas columnas para cambiar los valores negativos a positivos\n",
    "Yellow[columnas_a_convertir] = Yellow[columnas_a_convertir].applymap(lambda x: abs(x) if x < 0 else x)"
   ]
  },
  {
   "cell_type": "markdown",
   "metadata": {},
   "source": [
    "### 6. Eliminar filas con \"0\" en \"fare_amount\" o menor a $3:"
   ]
  },
  {
   "cell_type": "code",
   "execution_count": 9,
   "metadata": {},
   "outputs": [
    {
     "name": "stdout",
     "output_type": "stream",
     "text": [
      "Se eliminaron 6399 filas donde 'fare_amount' es menor a 3.\n"
     ]
    }
   ],
   "source": [
    "# Contar el número de filas antes de eliminar\n",
    "filas_antes = len(Yellow)\n",
    "\n",
    "# Eliminar las filas donde 'fare_amount' menor a 3 dólares (tarifa base taxis, $5 la de cancelación uber)\n",
    "Yellow = Yellow[Yellow['fare_amount'] >= 3]\n",
    "\n",
    "# Contar el número de filas después de eliminar\n",
    "filas_despues = len(Yellow)\n",
    "\n",
    "# Calcular cuántas filas se eliminaron\n",
    "filas_eliminadas = filas_antes - filas_despues\n",
    "\n",
    "print(\"Se eliminaron {} filas donde 'fare_amount' es menor a 3.\".format(filas_eliminadas))\n"
   ]
  },
  {
   "cell_type": "markdown",
   "metadata": {},
   "source": [
    "### 7. Imputar valores errados:"
   ]
  },
  {
   "cell_type": "code",
   "execution_count": 10,
   "metadata": {},
   "outputs": [],
   "source": [
    "# Calcula la moda de 'congestion_surcharge' y 'Airport_fee' excluyendo los valores cero\n",
    "moda_congestion = Yellow[Yellow['congestion_surcharge'] != 0]['congestion_surcharge'].mode()[0]\n",
    "moda_airport = Yellow[Yellow['Airport_fee'] != 0]['Airport_fee'].mode()[0]\n",
    "moda_Improvement = Yellow[Yellow['improvement_surcharge'] != 0]['improvement_surcharge'].mode()[0]\n",
    "\n",
    "# Imputa los valores erróneos utilizando la moda\n",
    "Yellow['congestion_surcharge'] = Yellow['congestion_surcharge'].apply(lambda x: moda_congestion if x > 0 else x)\n",
    "Yellow['Airport_fee'] = Yellow['Airport_fee'].apply(lambda x: moda_airport if x > 0 else x)\n",
    "Yellow['Airport_fee'] = Yellow['improvement_surcharge'].apply(lambda x: moda_Improvement if x > 0 else x)\n"
   ]
  },
  {
   "cell_type": "markdown",
   "metadata": {},
   "source": [
    "Pendiente imputación Extra hasta revisar horas"
   ]
  },
  {
   "cell_type": "markdown",
   "metadata": {},
   "source": [
    "### 8. Recuento y eliminación de Outliers:"
   ]
  },
  {
   "cell_type": "code",
   "execution_count": 11,
   "metadata": {},
   "outputs": [
    {
     "name": "stdout",
     "output_type": "stream",
     "text": [
      "Cantidad de valores en 'base_passenger_fare' que superan los $300: 323\n",
      "Cantidad de valores en 'trip_miles' superan las 100 millas: 65\n",
      "Cantidad de valores en 'tolls' superan llos $60 dólare: 44\n"
     ]
    }
   ],
   "source": [
    "# Contar cuántos valores en 'base_passenger_fare' superan los 700 dólares\n",
    "Tarifa_sobre_300 = (Yellow['fare_amount'] > 300).sum()\n",
    "\n",
    "# Contar cuántos valores en 'trip_miles' superan las 100 millas\n",
    "Millas_sobre_100 = (Yellow['trip_distance'] > 100).sum()\n",
    "\n",
    "# Contar cuántos valores en 'tolls' superan llos $60 dólares\n",
    "Peajes_sobre_60 = (Yellow['tolls_amount'] > 60).sum()\n",
    "\n",
    "print(\"Cantidad de valores en 'base_passenger_fare' que superan los $300:\", Tarifa_sobre_300)\n",
    "print(\"Cantidad de valores en 'trip_miles' superan las 100 millas:\", Millas_sobre_100)\n",
    "print(\"Cantidad de valores en 'tolls' superan llos $60 dólare:\", Peajes_sobre_60)"
   ]
  },
  {
   "cell_type": "markdown",
   "metadata": {},
   "source": [
    "### 9. Eliminación de los Outliers:"
   ]
  },
  {
   "cell_type": "code",
   "execution_count": 12,
   "metadata": {},
   "outputs": [],
   "source": [
    "# Eliminar las filas donde 'base_passenger_fare' supera los $400\n",
    "Yellow = Yellow[Yellow['fare_amount'] <= 300] # No se considera real una tarifa mayor $150 y se permite que esta se duplique.\n",
    "\n",
    "# Eliminar las filas donde 'trip_miles' supera las 100 millas\n",
    "Yellow = Yellow[Yellow['trip_distance'] <= 100] # la distancia máxima sería 50 millas, se puede suponer ida y vuelta\n",
    "\n",
    "# Eliminar las filas donde 'tolls' supera los $60 dólares\n",
    "Yellow = Yellow[Yellow['tolls_amount'] <= 60]"
   ]
  },
  {
   "cell_type": "markdown",
   "metadata": {},
   "source": [
    "### 10. Transformación de los datos de fecha:"
   ]
  },
  {
   "cell_type": "code",
   "execution_count": 13,
   "metadata": {},
   "outputs": [],
   "source": [
    "# 1. Crear la columna \"time_out\" que sea la diferencia entre tpep_pickup_datetime y request_datetime\n",
    "Yellow['time_out'] = 0 #En los taxis no hay registro, porque la mayoría son servicion recogidos por parada en la calle\n",
    "\n",
    "# 2. Crear la columna \"travel_time\" que sea la diferencia entre dropoff_datetime y tpep_pickup_datetime\n",
    "Yellow['travel_time'] = Yellow['tpep_dropoff_datetime'] - Yellow['tpep_pickup_datetime']\n",
    "\n",
    "# 3. Convertir valores negativos en cero\n",
    "Yellow['travel_time'] = Yellow['travel_time'].clip(lower=pd.Timedelta(0))\n",
    "\n",
    "# 4. Crear las columnas \"year\", \"month\", \"day\", \"hour\" a partir de la columna tpep_pickup_datetime\n",
    "Yellow['year'] = Yellow['tpep_pickup_datetime'].dt.year\n",
    "Yellow['month'] = Yellow['tpep_pickup_datetime'].dt.month\n",
    "Yellow['day'] = Yellow['tpep_pickup_datetime'].dt.day\n",
    "Yellow['hour'] = Yellow['tpep_pickup_datetime'].dt.hour\n",
    "\n",
    "# 5. Redondear la columna \"hour\" al entero más cercano (de 1 a 24)\n",
    "Yellow['hour'] = Yellow['hour'].apply(lambda x: round(x))\n",
    "\n",
    "# 6. Crear la columna \"day_of_week\" a partir de la columna tpep_pickup_datetime\n",
    "Yellow['day_of_week'] = Yellow['tpep_pickup_datetime'].dt.day_name()\n",
    "\n",
    "# 7. Eliminar las columnas tpep_pickup_datetime y dropoff_datetime\n",
    "Yellow = Yellow.drop(columns=['tpep_pickup_datetime', 'tpep_dropoff_datetime'])\n"
   ]
  },
  {
   "cell_type": "markdown",
   "metadata": {},
   "source": [
    "### 11. Transformar datos de tarifas:"
   ]
  },
  {
   "cell_type": "markdown",
   "metadata": {},
   "source": [
    "Primero se imputan y corrigen valores de impuestos fijos según horarios:"
   ]
  },
  {
   "cell_type": "code",
   "execution_count": 14,
   "metadata": {},
   "outputs": [],
   "source": [
    "# Definir una función para asignar los valores según la columna \"hour\"\n",
    "def asignar_valor(row):\n",
    "    if (row['hour'] >= 16 and row['hour'] <= 24) or (row['hour'] <= 6):\n",
    "        return 1.5 if (row['hour'] >= 16 and row['hour'] <= 20) else 0.5\n",
    "    else:\n",
    "        return 0\n",
    "\n",
    "# Aplicar la función a la columna extra\n",
    "Yellow['extra'] = Yellow.apply(asignar_valor, axis=1)\n"
   ]
  },
  {
   "cell_type": "markdown",
   "metadata": {},
   "source": [
    "Luego se unifican tarifa base y extras:"
   ]
  },
  {
   "cell_type": "code",
   "execution_count": 15,
   "metadata": {},
   "outputs": [],
   "source": [
    "# Crear la columna \"fare_surcharges\" que sea la suma de tolls, mta_tax, congestion_surcharge, airport_fee\n",
    "Yellow['fare_surcharges'] = Yellow['tolls_amount'] + Yellow['extra'] + Yellow['congestion_surcharge'] + Yellow['Airport_fee']\n",
    "\n",
    "# Crear la columna \"base_fare\" que sea la suma de base_passenger_fare y sales_tax\n",
    "Yellow['base_fare'] = Yellow['fare_amount'] + 0.8 # 0.5 MTA + 0.3 Improvement\n",
    "\n",
    "# Eliminar las columnas de tarifas individuales\n",
    "columnas_eliminar = ['fare_amount', 'extra', 'mta_tax', 'tip_amount', 'tolls_amount',\n",
    "       'improvement_surcharge', 'total_amount', 'congestion_surcharge',\n",
    "       'Airport_fee']\n",
    "Yellow = Yellow.drop(columns=columnas_eliminar)"
   ]
  },
  {
   "cell_type": "markdown",
   "metadata": {},
   "source": [
    "### 12. Cambiar formato de tiempos de viaje y espera:"
   ]
  },
  {
   "cell_type": "code",
   "execution_count": 16,
   "metadata": {},
   "outputs": [],
   "source": [
    "# Convertir los datos de timedelta64[us] a minutos y luego a un entero\n",
    "Yellow['travel_time_minutes'] = Yellow['travel_time'] / pd.Timedelta(minutes=1)\n",
    "\n",
    "# Convertir a entero\n",
    "Yellow['travel_time_minutes'] = Yellow['travel_time_minutes'].astype(int)\n",
    "\n",
    "# Convertir a entero de 32 bits\n",
    "Yellow['time_out'] = Yellow['time_out'].astype('int32')\n",
    "Yellow['travel_time'] = Yellow['travel_time_minutes'].astype('int32')\n",
    "\n",
    "Yellow = Yellow.drop(columns=['travel_time_minutes'])"
   ]
  },
  {
   "cell_type": "markdown",
   "metadata": {},
   "source": [
    "### 13. Verificar Outliers en tiempo de servicio:"
   ]
  },
  {
   "cell_type": "code",
   "execution_count": 17,
   "metadata": {},
   "outputs": [
    {
     "name": "stdout",
     "output_type": "stream",
     "text": [
      "Servicios que superan 4 horas de trayecto: 2545\n"
     ]
    }
   ],
   "source": [
    "# Servicios que superan 4 horas de trayecto\n",
    "Servicio_sobre_4_hrs = (Yellow['travel_time'] > 240).sum()\n",
    "\n",
    "print(\"Servicios que superan 4 horas de trayecto:\", Servicio_sobre_4_hrs)"
   ]
  },
  {
   "cell_type": "code",
   "execution_count": 18,
   "metadata": {},
   "outputs": [],
   "source": [
    "# Eliminar los registros donde el tiempo de trayecto supera las 4 horas (240 minutos)\n",
    "Yellow =Yellow[Yellow['travel_time'] <= 240]"
   ]
  },
  {
   "cell_type": "markdown",
   "metadata": {},
   "source": [
    "se deja especificado que igual deben elimnarse de existir."
   ]
  },
  {
   "cell_type": "markdown",
   "metadata": {},
   "source": [
    "### 14. Revisar variación de Outliers:"
   ]
  },
  {
   "cell_type": "code",
   "execution_count": 19,
   "metadata": {},
   "outputs": [
    {
     "data": {
      "image/png": "[encoded data removed]",
      "text/plain": [
       "<Figure size 1600x600 with 12 Axes>"
      ]
     },
     "metadata": {},
     "output_type": "display_data"
    }
   ],
   "source": [
    "# Selecciona solo las columnas numéricas\n",
    "df_numerical = Yellow.select_dtypes(include='number')\n",
    "\n",
    "# Calcula el IQR (rango intercuartílico) para cada columna y ordénalas por el IQR\n",
    "iqr_values = (df_numerical.quantile(0.75) - df_numerical.quantile(0.25)).sort_values(ascending=False)\n",
    "sorted_columns = iqr_values.index\n",
    "\n",
    "# Ordena las columnas en df_numerical de acuerdo con el orden de iqr_values\n",
    "df_numerical = df_numerical[sorted_columns]\n",
    "\n",
    "\n",
    "# Configura el estilo de Seaborn\n",
    "sns.set(style=\"whitegrid\")\n",
    "\n",
    "# Tamaño de la figura y espaciado entre subtramas\n",
    "plt.figure(figsize=(16, 6))\n",
    "plt.subplots_adjust(wspace=0.4)  # Ajusta el espaciado horizontal entre subtramas\n",
    "\n",
    "# Crea el gráfico de caja utilizando Seaborn\n",
    "for i, column in enumerate(sorted_columns):\n",
    "    ax = plt.subplot(1, len(sorted_columns), i+1)  # Subtrama para cada variable\n",
    "    sns.boxplot(y=df_numerical[column], color='skyblue', ax=ax)\n",
    "    ax.set_title(column, rotation=90, fontsize=10)  # Rotar el título y ajustar tamaño de fuente\n",
    "    plt.xlabel('')\n",
    "    plt.ylabel('')\n",
    "    plt.xticks(rotation=90)  # Rotar las etiquetas del eje x verticalmente\n",
    "\n",
    "plt.tight_layout()\n",
    "plt.show()"
   ]
  },
  {
   "cell_type": "code",
   "execution_count": 20,
   "metadata": {},
   "outputs": [
    {
     "name": "stdout",
     "output_type": "stream",
     "text": [
      "No. Registros con Año diferente:  6\n",
      "No. Registros con Mes diferente:  40\n"
     ]
    }
   ],
   "source": [
    "# Servicios que superan 4 horas de trayecto\n",
    "moda_Año = Yellow[Yellow['year'] != 0]['year'].mode()[0]\n",
    "moda_Mes = Yellow[Yellow['month'] != 0]['month'].mode()[0]\n",
    "\n",
    "Año_diferente = (Yellow['year'] != moda_Año).sum()\n",
    "Mes_diferente = (Yellow['month'] != moda_Mes).sum()\n",
    "\n",
    "print('No. Registros con Año diferente: ',Año_diferente)\n",
    "print('No. Registros con Mes diferente: ',Mes_diferente)\n",
    "\n",
    "Yellow['year'] = Yellow['year'].apply(lambda x: moda_Año if x > 0 else x)\n",
    "Yellow['month'] = Yellow['month'].apply(lambda x: moda_Mes if x > 0 else x)"
   ]
  },
  {
   "cell_type": "markdown",
   "metadata": {},
   "source": [
    "### 15. Agragar columnas auxiliares para definir nuevos outliers:"
   ]
  },
  {
   "cell_type": "code",
   "execution_count": 21,
   "metadata": {},
   "outputs": [],
   "source": [
    "# Filtrar los registros donde trip_distance es cero y asignar un valor NaN\n",
    "Yellow['$mile'] = np.where(Yellow['trip_distance'] != 0, Yellow['base_fare'] / Yellow['trip_distance'], np.nan)\n",
    "\n",
    "# Filtrar los registros donde trip_minutes es cero y asignar un valor NaN\n",
    "Yellow['$minute'] = np.where(Yellow['travel_time'] != 0, Yellow['base_fare'] / Yellow['travel_time'], np.nan)"
   ]
  },
  {
   "cell_type": "markdown",
   "metadata": {},
   "source": [
    "Revisar porcentaje de elinnación de registros:"
   ]
  },
  {
   "cell_type": "code",
   "execution_count": 22,
   "metadata": {},
   "outputs": [
    {
     "name": "stdout",
     "output_type": "stream",
     "text": [
      "Porcentaje de eliminación en este punto: 0.27999999999999997\n"
     ]
    }
   ],
   "source": [
    "Total_Servicios_Sin_Outliers_extremos=len(Yellow)\n",
    "Total_Servicios_Sin_Outliers_extremos\n",
    "\n",
    "print(\"Porcentaje de eliminación en este punto:\",round((Total_Registros_inicial-Total_Servicios_Sin_Outliers_extremos)/\n",
    "                                                       Total_Registros_inicial,4)*100)"
   ]
  },
  {
   "cell_type": "markdown",
   "metadata": {},
   "source": [
    "### 16. Eliminar Outliers basado en rangos intercurtílicos:"
   ]
  },
  {
   "cell_type": "code",
   "execution_count": 23,
   "metadata": {},
   "outputs": [
    {
     "name": "stdout",
     "output_type": "stream",
     "text": [
      "Promedio de $/milla sin datos atípicos: 8.40707347692723\n",
      "Promedio de $/minuto sin datos atípicos: 1.3095756366096876\n"
     ]
    }
   ],
   "source": [
    "# Calcular los cuartiles\n",
    "Q1_mile = Yellow['$mile'].quantile(0.25)\n",
    "Q3_mile = Yellow['$mile'].quantile(0.75)\n",
    "IQR_mile = Q3_mile - Q1_mile\n",
    "\n",
    "Q1_minute = Yellow['$minute'].quantile(0.25)\n",
    "Q3_minute = Yellow['$minute'].quantile(0.75)\n",
    "IQR_minute = Q3_minute - Q1_minute\n",
    "\n",
    "# Multiplicador para rango intercuartílico:\n",
    "multiplicador = 2\n",
    "\n",
    "# Definir los límites superior e inferior\n",
    "umbral_inf_mile = Q1_mile - multiplicador * IQR_mile\n",
    "umbral_sup_mile = Q3_mile + multiplicador * IQR_mile\n",
    "\n",
    "umbral_inf_minute =  Q3_minute - multiplicador * IQR_minute # para evitar borrar todos los registros\n",
    "umbral_sup_minute = Q3_minute + multiplicador * IQR_minute\n",
    "\n",
    "# Filtrar los registros que caen dentro del rango intercuartílico para cada columna\n",
    "Yellow_filtrado = Yellow[\n",
    "    (Yellow['$mile'] >= umbral_inf_mile) & (Yellow['$mile'] <= umbral_sup_mile) &\n",
    "    (Yellow['$minute'] >= umbral_inf_minute) & (Yellow['$minute'] <= umbral_sup_minute)\n",
    "]\n",
    "\n",
    "# Calcular el promedio para las columnas filtradas\n",
    "promedio_cost_mile_filtrado = Yellow_filtrado['$mile'].mean()\n",
    "promedio_cost_minute_filtrado = Yellow_filtrado['$minute'].mean()\n",
    "\n",
    "# Imprimir los resultados\n",
    "print(\"Promedio de $/milla sin datos atípicos:\", promedio_cost_mile_filtrado)\n",
    "print(\"Promedio de $/minuto sin datos atípicos:\", promedio_cost_minute_filtrado)\n"
   ]
  },
  {
   "cell_type": "code",
   "execution_count": 24,
   "metadata": {},
   "outputs": [
    {
     "name": "stdout",
     "output_type": "stream",
     "text": [
      "el número de registros sobre el umbral de $/milla es: 122007\n",
      "el número de registros sobre el umbral de $/minuto es: 130016\n"
     ]
    }
   ],
   "source": [
    "# Número de servicios con $mile sobre el umbral:\n",
    "Cost_mile_sobre_umbral = (Yellow['$mile'] > umbral_sup_mile ).sum()\n",
    "\n",
    "# Número de servicios con $time sobre el umbral:\n",
    "Cost_minute_sobre_umbral = (Yellow['$minute'] > umbral_sup_minute).sum()\n",
    "\n",
    "print(f'el número de registros sobre el umbral de $/milla es: {Cost_mile_sobre_umbral}')\n",
    "print(f'el número de registros sobre el umbral de $/minuto es: {Cost_minute_sobre_umbral}')"
   ]
  },
  {
   "cell_type": "markdown",
   "metadata": {},
   "source": [
    "Verificar nivel de elimnación:"
   ]
  },
  {
   "cell_type": "code",
   "execution_count": 25,
   "metadata": {},
   "outputs": [
    {
     "name": "stdout",
     "output_type": "stream",
     "text": [
      "Porcentaje de eliminación en este punto: 9.4\n"
     ]
    }
   ],
   "source": [
    "Total_servicios_Final=len(Yellow_filtrado)\n",
    "\n",
    "print(\"Porcentaje de eliminación en este punto:\",round((Total_Registros_inicial-Total_servicios_Final)/\n",
    "                                                       Total_Registros_inicial,4)*100)"
   ]
  },
  {
   "cell_type": "markdown",
   "metadata": {},
   "source": [
    "### 17. Eliminar datos con ubicaciones no definidas:"
   ]
  },
  {
   "cell_type": "code",
   "execution_count": 26,
   "metadata": {},
   "outputs": [
    {
     "name": "stdout",
     "output_type": "stream",
     "text": [
      "registros con ubicación DO 264 (NV):  15986\n",
      "registros con ubicación DO 265 (NA):  6933\n",
      "registros con ubicación PU 264 (NV):  11509\n",
      "registros con ubicación PU 265 (NA):  356\n",
      "Total:  34784\n"
     ]
    }
   ],
   "source": [
    "# Número de servicios con ubicación de recogida o llegada desconocido:\n",
    "DO_location_264 = (Yellow_filtrado['DOLocationID'] == 264).sum()\n",
    "DO_location_265 = (Yellow_filtrado['DOLocationID'] == 265).sum()\n",
    "PU_location_264 = (Yellow_filtrado['PULocationID'] == 264).sum()\n",
    "PU_location_265 = (Yellow_filtrado['PULocationID'] == 265).sum()\n",
    "\n",
    "print('registros con ubicación DO 264 (NV): ',DO_location_264)\n",
    "print('registros con ubicación DO 265 (NA): ',DO_location_265)\n",
    "print('registros con ubicación PU 264 (NV): ',PU_location_264)\n",
    "print('registros con ubicación PU 265 (NA): ',PU_location_265)\n",
    "\n",
    "print('Total: ',PU_location_265+PU_location_264+DO_location_265+DO_location_264)"
   ]
  },
  {
   "cell_type": "markdown",
   "metadata": {},
   "source": [
    "Eliminar registros:"
   ]
  },
  {
   "cell_type": "code",
   "execution_count": 27,
   "metadata": {},
   "outputs": [],
   "source": [
    "# Eliminar los registros con DOLocationID igual a 264\n",
    "Yellow_filtrado = Yellow_filtrado.loc[Yellow_filtrado['DOLocationID'] != 264]\n",
    "\n",
    "# Eliminar los registros con DOLocationID igual a 265\n",
    "Yellow_filtrado = Yellow_filtrado.loc[Yellow_filtrado['DOLocationID'] != 265]\n",
    "\n",
    "# Eliminar los registros con PULocationID igual a 264\n",
    "Yellow_filtrado = Yellow_filtrado.loc[Yellow_filtrado['PULocationID'] != 264]\n",
    "\n",
    "# Eliminar los registros con PULocationID igual a 265\n",
    "Yellow_filtrado = Yellow_filtrado.loc[Yellow_filtrado['PULocationID'] != 265]\n"
   ]
  },
  {
   "cell_type": "markdown",
   "metadata": {},
   "source": [
    "Revisar nivel de elimanción:"
   ]
  },
  {
   "cell_type": "code",
   "execution_count": 28,
   "metadata": {},
   "outputs": [
    {
     "name": "stdout",
     "output_type": "stream",
     "text": [
      "Porcentaje de eliminación en este punto: 10.190000000000001\n"
     ]
    }
   ],
   "source": [
    "Total_servicios_Final=len(Yellow_filtrado)\n",
    "\n",
    "print(\"Porcentaje de eliminación en este punto:\",round((Total_Registros_inicial-Total_servicios_Final)/\n",
    "                                                       Total_Registros_inicial,4)*100)"
   ]
  },
  {
   "cell_type": "markdown",
   "metadata": {},
   "source": [
    "### 18. Realizar agregaciones:"
   ]
  },
  {
   "cell_type": "code",
   "execution_count": 29,
   "metadata": {},
   "outputs": [],
   "source": [
    "# Crear la columna \"service_number\" y asignar el valor 1 a todas las filas\n",
    "Yellow_filtrado['service_number'] = 1\n",
    "\n",
    "# Crear la columna \"service_Type\" y asignar el valor Yellow a todas las filas\n",
    "Yellow_filtrado['service_type'] = 'Yellow'\n",
    "\n",
    "# \n",
    "Yellow_filtrado.rename(columns={'trip_distance': 'trip_miles'}, inplace=True)\n",
    "\n",
    "\n",
    "# Definir las dimensiones de agrupación y las variables de agregación\n",
    "dimensiones = ['service_type','year', 'month', 'day', 'day_of_week','hour', 'PULocationID', 'DOLocationID']\n",
    "variables_agregacion = ['trip_miles', 'time_out', 'travel_time', 'fare_surcharges', 'base_fare', 'service_number']\n",
    "\n",
    "# Agrupar el DataFrame y calcular la suma de las variables de agregación\n",
    "Yellow_agrupado = Yellow_filtrado.groupby(dimensiones)[variables_agregacion].sum().reset_index()"
   ]
  },
  {
   "cell_type": "code",
   "execution_count": 30,
   "metadata": {},
   "outputs": [
    {
     "name": "stdout",
     "output_type": "stream",
     "text": [
      "<class 'pandas.core.frame.DataFrame'>\n",
      "RangeIndex: 1126072 entries, 0 to 1126071\n",
      "Data columns (total 14 columns):\n",
      " #   Column           Non-Null Count    Dtype  \n",
      "---  ------           --------------    -----  \n",
      " 0   service_type     1126072 non-null  object \n",
      " 1   year             1126072 non-null  int32  \n",
      " 2   month            1126072 non-null  int32  \n",
      " 3   day              1126072 non-null  int32  \n",
      " 4   day_of_week      1126072 non-null  object \n",
      " 5   hour             1126072 non-null  int64  \n",
      " 6   PULocationID     1126072 non-null  int32  \n",
      " 7   DOLocationID     1126072 non-null  int32  \n",
      " 8   trip_miles       1126072 non-null  float64\n",
      " 9   time_out         1126072 non-null  int32  \n",
      " 10  travel_time      1126072 non-null  int32  \n",
      " 11  fare_surcharges  1126072 non-null  float64\n",
      " 12  base_fare        1126072 non-null  float64\n",
      " 13  service_number   1126072 non-null  int64  \n",
      "dtypes: float64(3), int32(7), int64(2), object(2)\n",
      "memory usage: 90.2+ MB\n"
     ]
    }
   ],
   "source": [
    "Yellow_agrupado.info()"
   ]
  },
  {
   "cell_type": "markdown",
   "metadata": {},
   "source": [
    "### 19. Reducir tamaño de archivo:"
   ]
  },
  {
   "cell_type": "code",
   "execution_count": 31,
   "metadata": {},
   "outputs": [],
   "source": [
    "Yellow_agrupado['trip_miles'] = Yellow_agrupado['trip_miles'].astype('float32')\n",
    "Yellow_agrupado['fare_surcharges'] = Yellow_agrupado['fare_surcharges'].astype('float32')\n",
    "Yellow_agrupado['base_fare'] = Yellow_agrupado['base_fare'].astype('float32')\n",
    "\n",
    "Yellow_agrupado['year'] = Yellow_agrupado['year'].astype('int16')\n",
    "Yellow_agrupado['month'] = Yellow_agrupado['month'].astype('int16')\n",
    "Yellow_agrupado['day'] = Yellow_agrupado['day'].astype('int16')\n",
    "Yellow_agrupado['hour'] = Yellow_agrupado['hour'].astype('int16')\n",
    "Yellow_agrupado['PULocationID'] = Yellow_agrupado['PULocationID'].astype('int16')\n",
    "Yellow_agrupado['DOLocationID'] = Yellow_agrupado['DOLocationID'].astype('int16')\n",
    "Yellow_agrupado['time_out'] = Yellow_agrupado['time_out'].astype('int16')\n",
    "Yellow_agrupado['travel_time'] = Yellow_agrupado['travel_time'].astype('int16')\n",
    "Yellow_agrupado['service_number'] = Yellow_agrupado['service_number'].astype('int16')"
   ]
  },
  {
   "cell_type": "markdown",
   "metadata": {},
   "source": [
    "### 19. Exportar archivo a parquet:"
   ]
  },
  {
   "cell_type": "code",
   "execution_count": 32,
   "metadata": {},
   "outputs": [],
   "source": [
    "Yellow_agrupado.to_parquet('../DataClean/Yellow_Agrupado.parquet')"
   ]
  },
  {
   "cell_type": "code",
   "execution_count": 33,
   "metadata": {},
   "outputs": [
    {
     "data": {
      "text/html": [
       "<div>\n",
       "<style scoped>\n",
       "    .dataframe tbody tr th:only-of-type {\n",
       "        vertical-align: middle;\n",
       "    }\n",
       "\n",
       "    .dataframe tbody tr th {\n",
       "        vertical-align: top;\n",
       "    }\n",
       "\n",
       "    .dataframe thead th {\n",
       "        text-align: right;\n",
       "    }\n",
       "</style>\n",
       "<table border=\"1\" class=\"dataframe\">\n",
       "  <thead>\n",
       "    <tr style=\"text-align: right;\">\n",
       "      <th></th>\n",
       "      <th>year</th>\n",
       "      <th>month</th>\n",
       "      <th>day</th>\n",
       "      <th>hour</th>\n",
       "      <th>PULocationID</th>\n",
       "      <th>DOLocationID</th>\n",
       "      <th>trip_miles</th>\n",
       "      <th>time_out</th>\n",
       "      <th>travel_time</th>\n",
       "      <th>fare_surcharges</th>\n",
       "      <th>base_fare</th>\n",
       "      <th>service_number</th>\n",
       "    </tr>\n",
       "  </thead>\n",
       "  <tbody>\n",
       "    <tr>\n",
       "      <th>count</th>\n",
       "      <td>1126072.0</td>\n",
       "      <td>1126072.0</td>\n",
       "      <td>1.126072e+06</td>\n",
       "      <td>1.126072e+06</td>\n",
       "      <td>1.126072e+06</td>\n",
       "      <td>1.126072e+06</td>\n",
       "      <td>1.126072e+06</td>\n",
       "      <td>1126072.0</td>\n",
       "      <td>1.126072e+06</td>\n",
       "      <td>1.126072e+06</td>\n",
       "      <td>1.126072e+06</td>\n",
       "      <td>1.126072e+06</td>\n",
       "    </tr>\n",
       "    <tr>\n",
       "      <th>mean</th>\n",
       "      <td>2023.0</td>\n",
       "      <td>12.0</td>\n",
       "      <td>1.529687e+01</td>\n",
       "      <td>1.366170e+01</td>\n",
       "      <td>1.554222e+02</td>\n",
       "      <td>1.509708e+02</td>\n",
       "      <td>9.156627e+00</td>\n",
       "      <td>0.0</td>\n",
       "      <td>4.620592e+01</td>\n",
       "      <td>1.165736e+01</td>\n",
       "      <td>5.559505e+01</td>\n",
       "      <td>2.692896e+00</td>\n",
       "    </tr>\n",
       "    <tr>\n",
       "      <th>std</th>\n",
       "      <td>0.0</td>\n",
       "      <td>0.0</td>\n",
       "      <td>8.749280e+00</td>\n",
       "      <td>6.408123e+00</td>\n",
       "      <td>6.626081e+01</td>\n",
       "      <td>7.271221e+01</td>\n",
       "      <td>1.670248e+01</td>\n",
       "      <td>0.0</td>\n",
       "      <td>6.989743e+01</td>\n",
       "      <td>1.747703e+01</td>\n",
       "      <td>7.761372e+01</td>\n",
       "      <td>3.506591e+00</td>\n",
       "    </tr>\n",
       "    <tr>\n",
       "      <th>min</th>\n",
       "      <td>2023.0</td>\n",
       "      <td>12.0</td>\n",
       "      <td>1.000000e+00</td>\n",
       "      <td>0.000000e+00</td>\n",
       "      <td>1.000000e+00</td>\n",
       "      <td>1.000000e+00</td>\n",
       "      <td>2.500000e-01</td>\n",
       "      <td>0.0</td>\n",
       "      <td>2.000000e+00</td>\n",
       "      <td>0.000000e+00</td>\n",
       "      <td>3.800000e+00</td>\n",
       "      <td>1.000000e+00</td>\n",
       "    </tr>\n",
       "    <tr>\n",
       "      <th>25%</th>\n",
       "      <td>2023.0</td>\n",
       "      <td>12.0</td>\n",
       "      <td>8.000000e+00</td>\n",
       "      <td>9.000000e+00</td>\n",
       "      <td>1.130000e+02</td>\n",
       "      <td>9.000000e+01</td>\n",
       "      <td>2.880000e+00</td>\n",
       "      <td>0.0</td>\n",
       "      <td>1.600000e+01</td>\n",
       "      <td>3.500000e+00</td>\n",
       "      <td>2.090000e+01</td>\n",
       "      <td>1.000000e+00</td>\n",
       "    </tr>\n",
       "    <tr>\n",
       "      <th>50%</th>\n",
       "      <td>2023.0</td>\n",
       "      <td>12.0</td>\n",
       "      <td>1.500000e+01</td>\n",
       "      <td>1.400000e+01</td>\n",
       "      <td>1.480000e+02</td>\n",
       "      <td>1.480000e+02</td>\n",
       "      <td>5.280000e+00</td>\n",
       "      <td>0.0</td>\n",
       "      <td>2.800000e+01</td>\n",
       "      <td>7.000000e+00</td>\n",
       "      <td>3.520000e+01</td>\n",
       "      <td>1.000000e+00</td>\n",
       "    </tr>\n",
       "    <tr>\n",
       "      <th>75%</th>\n",
       "      <td>2023.0</td>\n",
       "      <td>12.0</td>\n",
       "      <td>2.200000e+01</td>\n",
       "      <td>1.900000e+01</td>\n",
       "      <td>2.300000e+02</td>\n",
       "      <td>2.300000e+02</td>\n",
       "      <td>9.700000e+00</td>\n",
       "      <td>0.0</td>\n",
       "      <td>5.200000e+01</td>\n",
       "      <td>1.200000e+01</td>\n",
       "      <td>6.350000e+01</td>\n",
       "      <td>3.000000e+00</td>\n",
       "    </tr>\n",
       "    <tr>\n",
       "      <th>max</th>\n",
       "      <td>2023.0</td>\n",
       "      <td>12.0</td>\n",
       "      <td>3.100000e+01</td>\n",
       "      <td>2.300000e+01</td>\n",
       "      <td>2.630000e+02</td>\n",
       "      <td>2.630000e+02</td>\n",
       "      <td>9.702900e+02</td>\n",
       "      <td>0.0</td>\n",
       "      <td>3.972000e+03</td>\n",
       "      <td>5.300000e+02</td>\n",
       "      <td>3.752400e+03</td>\n",
       "      <td>1.250000e+02</td>\n",
       "    </tr>\n",
       "  </tbody>\n",
       "</table>\n",
       "</div>"
      ],
      "text/plain": [
       "            year      month           day          hour  PULocationID  \\\n",
       "count  1126072.0  1126072.0  1.126072e+06  1.126072e+06  1.126072e+06   \n",
       "mean      2023.0       12.0  1.529687e+01  1.366170e+01  1.554222e+02   \n",
       "std          0.0        0.0  8.749280e+00  6.408123e+00  6.626081e+01   \n",
       "min       2023.0       12.0  1.000000e+00  0.000000e+00  1.000000e+00   \n",
       "25%       2023.0       12.0  8.000000e+00  9.000000e+00  1.130000e+02   \n",
       "50%       2023.0       12.0  1.500000e+01  1.400000e+01  1.480000e+02   \n",
       "75%       2023.0       12.0  2.200000e+01  1.900000e+01  2.300000e+02   \n",
       "max       2023.0       12.0  3.100000e+01  2.300000e+01  2.630000e+02   \n",
       "\n",
       "       DOLocationID    trip_miles   time_out   travel_time  fare_surcharges  \\\n",
       "count  1.126072e+06  1.126072e+06  1126072.0  1.126072e+06     1.126072e+06   \n",
       "mean   1.509708e+02  9.156627e+00        0.0  4.620592e+01     1.165736e+01   \n",
       "std    7.271221e+01  1.670248e+01        0.0  6.989743e+01     1.747703e+01   \n",
       "min    1.000000e+00  2.500000e-01        0.0  2.000000e+00     0.000000e+00   \n",
       "25%    9.000000e+01  2.880000e+00        0.0  1.600000e+01     3.500000e+00   \n",
       "50%    1.480000e+02  5.280000e+00        0.0  2.800000e+01     7.000000e+00   \n",
       "75%    2.300000e+02  9.700000e+00        0.0  5.200000e+01     1.200000e+01   \n",
       "max    2.630000e+02  9.702900e+02        0.0  3.972000e+03     5.300000e+02   \n",
       "\n",
       "          base_fare  service_number  \n",
       "count  1.126072e+06    1.126072e+06  \n",
       "mean   5.559505e+01    2.692896e+00  \n",
       "std    7.761372e+01    3.506591e+00  \n",
       "min    3.800000e+00    1.000000e+00  \n",
       "25%    2.090000e+01    1.000000e+00  \n",
       "50%    3.520000e+01    1.000000e+00  \n",
       "75%    6.350000e+01    3.000000e+00  \n",
       "max    3.752400e+03    1.250000e+02  "
      ]
     },
     "execution_count": 33,
     "metadata": {},
     "output_type": "execute_result"
    }
   ],
   "source": [
    "Yellow_agrupado.describe()"
   ]
  }
 ],
 "metadata": {
  "kernelspec": {
   "display_name": "Python 3",
   "language": "python",
   "name": "python3"
  },
  "language_info": {
   "codemirror_mode": {
    "name": "ipython",
    "version": 3
   },
   "file_extension": ".py",
   "mimetype": "text/x-python",
   "name": "python",
   "nbconvert_exporter": "python",
   "pygments_lexer": "ipython3",
   "version": "3.10.11"
  }
 },
 "nbformat": 4,
 "nbformat_minor": 2
}
