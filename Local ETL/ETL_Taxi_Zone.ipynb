{
 "cells": [
  {
   "cell_type": "markdown",
   "metadata": {},
   "source": [
    "### 1. Importar librerías para abrir coordenadas en archivos de polígonos .shx y .shp:"
   ]
  },
  {
   "cell_type": "code",
   "execution_count": 98,
   "metadata": {},
   "outputs": [],
   "source": [
    "import geopandas as gpd                                             # leer los archivos .shx y .shp\n",
    "from shapely.geometry import Polygon, MultiPolygon, shape           # Simplificar Polígonos\n",
    "from shapely.ops import unary_union                                 # Combinar polígonos\n",
    "\n",
    "# Cargar los datos geoespaciales\n",
    "data = gpd.read_file('../Datasets/taxi_zones.shx')\n"
   ]
  },
  {
   "cell_type": "markdown",
   "metadata": {},
   "source": [
    "para poder leer el archivo taxi_zones.shx en la misma carpeta debe estar el arcivo taxi_zones.shp"
   ]
  },
  {
   "cell_type": "markdown",
   "metadata": {},
   "source": [
    "### 2. Transformar coordenadas planas ATEST WELL-KNOWN IDENTIFIER 2263 a la proyección inversa mundial (EPSG:4326):"
   ]
  },
  {
   "cell_type": "code",
   "execution_count": 99,
   "metadata": {},
   "outputs": [
    {
     "name": "stderr",
     "output_type": "stream",
     "text": [
      "C:\\Users\\davin\\AppData\\Local\\Temp\\ipykernel_15384\\804222979.py:10: UserWarning: Geometry is in a geographic CRS. Results from 'centroid' are likely incorrect. Use 'GeoSeries.to_crs()' to re-project geometries to a projected CRS before this operation.\n",
      "\n",
      "  gdf_latlon['centroid'] = gdf_latlon['geometry'].centroid\n"
     ]
    }
   ],
   "source": [
    "gdf = gpd.GeoDataFrame(data)\n",
    "\n",
    "# Definir EPSG:2263 que está en pies (LATEST WELL-KNOWN IDENTIFIER 2263):\n",
    "gdf.crs = 'EPSG:2263'\n",
    "\n",
    "# Corregir coordenadas planas a mundiales:\n",
    "gdf_latlon = gdf.to_crs('EPSG:4326')  # Proyección inversa al sistema de coordenadas geográficas\n",
    "\n",
    "# Calcular los centroides de los polígonos\n",
    "gdf_latlon['centroid'] = gdf_latlon['geometry'].centroid\n",
    "\n",
    "# Extraer las coordenadas x e y de los centroides\n",
    "gdf_latlon['centroid_x'] = gdf_latlon['centroid'].x\n",
    "gdf_latlon['centroid_y'] = gdf_latlon['centroid'].y"
   ]
  },
  {
   "cell_type": "markdown",
   "metadata": {},
   "source": [
    "### 3. Ordenar y selecionar columnas:"
   ]
  },
  {
   "cell_type": "code",
   "execution_count": 100,
   "metadata": {},
   "outputs": [],
   "source": [
    "# Seleccionar las columnas deseadas\n",
    "gdf_latlon = gdf_latlon[['OBJECTID', 'borough', 'zone', 'centroid_x', 'centroid_y','geometry']]\n",
    "\n",
    "# Renombrar las columnas centroid_x y centroid_y a longitud y latitud respectivamente\n",
    "gdf_latlon = gdf_latlon.rename(columns={'OBJECTID':'LocationID','centroid_x': 'longitud', 'centroid_y': 'latitud'})"
   ]
  },
  {
   "cell_type": "markdown",
   "metadata": {},
   "source": [
    "### 4. Simplificar polígonos:"
   ]
  },
  {
   "cell_type": "code",
   "execution_count": 101,
   "metadata": {},
   "outputs": [],
   "source": [
    "# Definir la tolerancia para la simplificación\n",
    "tolerancia = 0.0001  # ajusta este valor según sea necesario\n",
    "\n",
    "# Función para simplificar una geometría individual\n",
    "def simplificar_geometria(geom, tolerancia):\n",
    "    return geom.simplify(tolerancia)\n",
    "\n",
    "# Aplicar la función de simplificación a cada geometría en el GeoDataFrame\n",
    "gdf_latlon['geometry'] = gdf_latlon['geometry'].apply(lambda geom: simplificar_geometria(geom, tolerancia))"
   ]
  },
  {
   "cell_type": "markdown",
   "metadata": {},
   "source": [
    "### 5. Eliminar datos duplicados unificando los polígonos de los ID 55+56 y 103+104+105:"
   ]
  },
  {
   "cell_type": "code",
   "execution_count": 102,
   "metadata": {},
   "outputs": [],
   "source": [
    "# Seleccionar los polígonos correspondientes a los LocationID 56 y 57\n",
    "poligonos_56_57 = gdf_latlon.loc[gdf_latlon['LocationID'].isin([56, 57]), 'geometry']\n",
    "\n",
    "# Crear un MultiPolygon combinando los polígonos\n",
    "multi_poligono_56_57 = unary_union(poligonos_56_57)\n",
    "\n",
    "# Reemplazar el polígono del LocationID 56 con el MultiPolygon combinado\n",
    "gdf_latlon.loc[gdf_latlon['LocationID'] == 56, 'geometry'] = multi_poligono_56_57\n",
    "\n",
    "# Eliminar el registro correspondiente al LocationID 57\n",
    "gdf_latlon= gdf_latlon[gdf_latlon['LocationID'] != 57]"
   ]
  },
  {
   "cell_type": "code",
   "execution_count": 103,
   "metadata": {},
   "outputs": [],
   "source": [
    "# Seleccionar los polígonos correspondientes a los LocationID 103, 104 y 105\n",
    "poligonos_103_104_105 = gdf_latlon.loc[gdf_latlon['LocationID'].isin([103, 104, 105]), 'geometry']\n",
    "\n",
    "# Crear un MultiPolygon combinando los polígonos\n",
    "multi_poligono_103_104_105 = unary_union(poligonos_103_104_105)\n",
    "\n",
    "# Reemplazar el polígono del LocationID 103 con el MultiPolygon combinado\n",
    "gdf_latlon.loc[gdf_latlon['LocationID'] == 103, 'geometry'] = multi_poligono_103_104_105\n",
    "\n",
    "# Eliminar el registro correspondiente al LocationID 104 y 105\n",
    "gdf_latlon= gdf_latlon[gdf_latlon['LocationID'] != 104]\n",
    "gdf_latlon= gdf_latlon[gdf_latlon['LocationID'] != 105]"
   ]
  },
  {
   "cell_type": "markdown",
   "metadata": {},
   "source": [
    "Se guarda archivo como Taxi_Zone.csv en DataClean"
   ]
  }
 ],
 "metadata": {
  "kernelspec": {
   "display_name": "Python 3",
   "language": "python",
   "name": "python3"
  },
  "language_info": {
   "codemirror_mode": {
    "name": "ipython",
    "version": 3
   },
   "file_extension": ".py",
   "mimetype": "text/x-python",
   "name": "python",
   "nbconvert_exporter": "python",
   "pygments_lexer": "ipython3",
   "version": "3.10.11"
  }
 },
 "nbformat": 4,
 "nbformat_minor": 2
}
