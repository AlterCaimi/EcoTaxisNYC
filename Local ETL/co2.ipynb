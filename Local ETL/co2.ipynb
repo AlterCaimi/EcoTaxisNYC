{
 "cells": [
  {
   "cell_type": "markdown",
   "metadata": {},
   "source": [
    "# ETL de Emisiones CO2 en NYC"
   ]
  },
  {
   "cell_type": "markdown",
   "metadata": {},
   "source": [
    "Importar librerías"
   ]
  },
  {
   "cell_type": "code",
   "execution_count": 1,
   "metadata": {},
   "outputs": [],
   "source": [
    "import pandas as pd\n",
    "import warnings\n",
    "warnings.filterwarnings('ignore')"
   ]
  },
  {
   "cell_type": "markdown",
   "metadata": {},
   "source": [
    "Cargar archivo y hacer transformaciones"
   ]
  },
  {
   "cell_type": "code",
   "execution_count": 5,
   "metadata": {},
   "outputs": [
    {
     "data": {
      "text/html": [
       "<div>\n",
       "<style scoped>\n",
       "    .dataframe tbody tr th:only-of-type {\n",
       "        vertical-align: middle;\n",
       "    }\n",
       "\n",
       "    .dataframe tbody tr th {\n",
       "        vertical-align: top;\n",
       "    }\n",
       "\n",
       "    .dataframe thead th {\n",
       "        text-align: right;\n",
       "    }\n",
       "</style>\n",
       "<table border=\"1\" class=\"dataframe\">\n",
       "  <thead>\n",
       "    <tr style=\"text-align: right;\">\n",
       "      <th></th>\n",
       "      <th>Año</th>\n",
       "      <th>Emisiones</th>\n",
       "    </tr>\n",
       "  </thead>\n",
       "  <tbody>\n",
       "    <tr>\n",
       "      <th>0</th>\n",
       "      <td>2005</td>\n",
       "      <td>12860259.43</td>\n",
       "    </tr>\n",
       "    <tr>\n",
       "      <th>1</th>\n",
       "      <td>2006</td>\n",
       "      <td>12828084.43</td>\n",
       "    </tr>\n",
       "    <tr>\n",
       "      <th>2</th>\n",
       "      <td>2007</td>\n",
       "      <td>12786857.22</td>\n",
       "    </tr>\n",
       "    <tr>\n",
       "      <th>3</th>\n",
       "      <td>2008</td>\n",
       "      <td>12297498.30</td>\n",
       "    </tr>\n",
       "    <tr>\n",
       "      <th>4</th>\n",
       "      <td>2009</td>\n",
       "      <td>12087651.48</td>\n",
       "    </tr>\n",
       "  </tbody>\n",
       "</table>\n",
       "</div>"
      ],
      "text/plain": [
       "    Año    Emisiones\n",
       "0  2005  12860259.43\n",
       "1  2006  12828084.43\n",
       "2  2007  12786857.22\n",
       "3  2008  12297498.30\n",
       "4  2009  12087651.48"
      ]
     },
     "execution_count": 5,
     "metadata": {},
     "output_type": "execute_result"
    }
   ],
   "source": [
    "# dataset descargado de https://climate.cityofnewyork.us/initiatives/nyc-greenhouse-gas-inventories/\n",
    "df = pd.read_excel('../Datasets\\CY_2005_CY_2022_citywide.xlsx')\n",
    "df = df[df['Sectors Sector'] == 'Transportation']\n",
    "df = df[df['Category Full'] == 'On-Road']\n",
    "df = df[df['Source Full'] == 'Passenger cars']\n",
    "columnas_emisiones = ['CY 2005 tCO2e', 'CY 2006 tCO2e', 'CY 2007 tCO2e', 'CY 2008 tCO2e', 'CY 2009 tCO2e', 'CY 2010 tCO2e', 'CY 2011 tCO2e', \n",
    "            'CY 2012 tCO2e', 'CY 2013 tCO2e', 'CY 2014 tCO2e', 'CY 2015 tCO2e', 'CY 2016 tCO2e', 'CY 2017 tCO2e', 'CY 2018 tCO2e', \n",
    "            'CY 2019 tCO2e', 'CY 2020 tCO2e', 'CY 2021 tCO2e', 'CY 2022 tCO2e']\n",
    "df_emisiones = df[columnas_emisiones]\n",
    "nuevos_nombres = [col.split()[1] for col in columnas_emisiones]\n",
    "df_emisiones.columns = nuevos_nombres\n",
    "df_emisiones = df_emisiones.loc[44,:]\n",
    "df_emisiones = pd.DataFrame({'Emisiones': df_emisiones}).reset_index().rename(columns={'index': 'Año'})\n",
    "df_emisiones.head()"
   ]
  }
 ],
 "metadata": {
  "kernelspec": {
   "display_name": "Python 3",
   "language": "python",
   "name": "python3"
  },
  "language_info": {
   "codemirror_mode": {
    "name": "ipython",
    "version": 3
   },
   "file_extension": ".py",
   "mimetype": "text/x-python",
   "name": "python",
   "nbconvert_exporter": "python",
   "pygments_lexer": "ipython3",
   "version": "3.11.5"
  }
 },
 "nbformat": 4,
 "nbformat_minor": 2
}
