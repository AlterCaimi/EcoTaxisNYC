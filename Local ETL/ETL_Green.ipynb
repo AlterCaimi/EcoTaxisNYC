{
 "cells": [
  {
   "cell_type": "markdown",
   "metadata": {},
   "source": [
    "### 1. Importar librerías:"
   ]
  },
  {
   "cell_type": "code",
   "execution_count": 1,
   "metadata": {},
   "outputs": [],
   "source": [
    "import pandas as pd\n",
    "import seaborn as sns\n",
    "import matplotlib.pyplot as plt\n",
    "import warnings\n",
    "import numpy as np\n",
    "warnings.filterwarnings('ignore')"
   ]
  },
  {
   "cell_type": "markdown",
   "metadata": {},
   "source": [
    "### 2. Abrir Archivos:"
   ]
  },
  {
   "cell_type": "code",
   "execution_count": 2,
   "metadata": {},
   "outputs": [
    {
     "data": {
      "text/html": [
       "<div>\n",
       "<style scoped>\n",
       "    .dataframe tbody tr th:only-of-type {\n",
       "        vertical-align: middle;\n",
       "    }\n",
       "\n",
       "    .dataframe tbody tr th {\n",
       "        vertical-align: top;\n",
       "    }\n",
       "\n",
       "    .dataframe thead th {\n",
       "        text-align: right;\n",
       "    }\n",
       "</style>\n",
       "<table border=\"1\" class=\"dataframe\">\n",
       "  <thead>\n",
       "    <tr style=\"text-align: right;\">\n",
       "      <th></th>\n",
       "      <th>VendorID</th>\n",
       "      <th>lpep_pickup_datetime</th>\n",
       "      <th>lpep_dropoff_datetime</th>\n",
       "      <th>store_and_fwd_flag</th>\n",
       "      <th>RatecodeID</th>\n",
       "      <th>PULocationID</th>\n",
       "      <th>DOLocationID</th>\n",
       "      <th>passenger_count</th>\n",
       "      <th>trip_distance</th>\n",
       "      <th>fare_amount</th>\n",
       "      <th>extra</th>\n",
       "      <th>mta_tax</th>\n",
       "      <th>tip_amount</th>\n",
       "      <th>tolls_amount</th>\n",
       "      <th>ehail_fee</th>\n",
       "      <th>improvement_surcharge</th>\n",
       "      <th>total_amount</th>\n",
       "      <th>payment_type</th>\n",
       "      <th>trip_type</th>\n",
       "      <th>congestion_surcharge</th>\n",
       "    </tr>\n",
       "  </thead>\n",
       "  <tbody>\n",
       "    <tr>\n",
       "      <th>0</th>\n",
       "      <td>2</td>\n",
       "      <td>2023-12-01 00:27:37</td>\n",
       "      <td>2023-12-01 00:42:48</td>\n",
       "      <td>N</td>\n",
       "      <td>1.0</td>\n",
       "      <td>74</td>\n",
       "      <td>243</td>\n",
       "      <td>1.0</td>\n",
       "      <td>4.80</td>\n",
       "      <td>22.60</td>\n",
       "      <td>1.0</td>\n",
       "      <td>0.5</td>\n",
       "      <td>5.02</td>\n",
       "      <td>0.00</td>\n",
       "      <td>NaN</td>\n",
       "      <td>1.0</td>\n",
       "      <td>30.12</td>\n",
       "      <td>1.0</td>\n",
       "      <td>1.0</td>\n",
       "      <td>0.0</td>\n",
       "    </tr>\n",
       "    <tr>\n",
       "      <th>1</th>\n",
       "      <td>1</td>\n",
       "      <td>2023-12-01 00:42:57</td>\n",
       "      <td>2023-12-01 00:56:16</td>\n",
       "      <td>N</td>\n",
       "      <td>1.0</td>\n",
       "      <td>80</td>\n",
       "      <td>25</td>\n",
       "      <td>2.0</td>\n",
       "      <td>3.60</td>\n",
       "      <td>19.10</td>\n",
       "      <td>1.0</td>\n",
       "      <td>1.5</td>\n",
       "      <td>4.30</td>\n",
       "      <td>0.00</td>\n",
       "      <td>NaN</td>\n",
       "      <td>1.0</td>\n",
       "      <td>25.90</td>\n",
       "      <td>1.0</td>\n",
       "      <td>1.0</td>\n",
       "      <td>0.0</td>\n",
       "    </tr>\n",
       "    <tr>\n",
       "      <th>2</th>\n",
       "      <td>2</td>\n",
       "      <td>2023-12-01 00:29:51</td>\n",
       "      <td>2023-12-01 00:49:38</td>\n",
       "      <td>N</td>\n",
       "      <td>1.0</td>\n",
       "      <td>70</td>\n",
       "      <td>83</td>\n",
       "      <td>1.0</td>\n",
       "      <td>2.07</td>\n",
       "      <td>18.40</td>\n",
       "      <td>1.0</td>\n",
       "      <td>0.5</td>\n",
       "      <td>0.00</td>\n",
       "      <td>0.00</td>\n",
       "      <td>NaN</td>\n",
       "      <td>1.0</td>\n",
       "      <td>20.90</td>\n",
       "      <td>2.0</td>\n",
       "      <td>1.0</td>\n",
       "      <td>0.0</td>\n",
       "    </tr>\n",
       "    <tr>\n",
       "      <th>3</th>\n",
       "      <td>2</td>\n",
       "      <td>2023-12-01 00:09:57</td>\n",
       "      <td>2023-12-01 00:36:51</td>\n",
       "      <td>N</td>\n",
       "      <td>1.0</td>\n",
       "      <td>112</td>\n",
       "      <td>106</td>\n",
       "      <td>1.0</td>\n",
       "      <td>8.66</td>\n",
       "      <td>38.70</td>\n",
       "      <td>1.0</td>\n",
       "      <td>0.5</td>\n",
       "      <td>8.24</td>\n",
       "      <td>0.00</td>\n",
       "      <td>NaN</td>\n",
       "      <td>1.0</td>\n",
       "      <td>49.44</td>\n",
       "      <td>1.0</td>\n",
       "      <td>1.0</td>\n",
       "      <td>0.0</td>\n",
       "    </tr>\n",
       "    <tr>\n",
       "      <th>4</th>\n",
       "      <td>2</td>\n",
       "      <td>2023-12-01 01:02:41</td>\n",
       "      <td>2023-12-01 01:11:20</td>\n",
       "      <td>N</td>\n",
       "      <td>1.0</td>\n",
       "      <td>129</td>\n",
       "      <td>179</td>\n",
       "      <td>1.0</td>\n",
       "      <td>2.74</td>\n",
       "      <td>14.20</td>\n",
       "      <td>1.0</td>\n",
       "      <td>0.5</td>\n",
       "      <td>0.00</td>\n",
       "      <td>0.00</td>\n",
       "      <td>NaN</td>\n",
       "      <td>1.0</td>\n",
       "      <td>16.70</td>\n",
       "      <td>2.0</td>\n",
       "      <td>1.0</td>\n",
       "      <td>0.0</td>\n",
       "    </tr>\n",
       "    <tr>\n",
       "      <th>...</th>\n",
       "      <td>...</td>\n",
       "      <td>...</td>\n",
       "      <td>...</td>\n",
       "      <td>...</td>\n",
       "      <td>...</td>\n",
       "      <td>...</td>\n",
       "      <td>...</td>\n",
       "      <td>...</td>\n",
       "      <td>...</td>\n",
       "      <td>...</td>\n",
       "      <td>...</td>\n",
       "      <td>...</td>\n",
       "      <td>...</td>\n",
       "      <td>...</td>\n",
       "      <td>...</td>\n",
       "      <td>...</td>\n",
       "      <td>...</td>\n",
       "      <td>...</td>\n",
       "      <td>...</td>\n",
       "      <td>...</td>\n",
       "    </tr>\n",
       "    <tr>\n",
       "      <th>64210</th>\n",
       "      <td>2</td>\n",
       "      <td>2023-12-31 22:15:00</td>\n",
       "      <td>2023-12-31 22:35:00</td>\n",
       "      <td>None</td>\n",
       "      <td>NaN</td>\n",
       "      <td>97</td>\n",
       "      <td>37</td>\n",
       "      <td>NaN</td>\n",
       "      <td>9.87</td>\n",
       "      <td>20.28</td>\n",
       "      <td>0.0</td>\n",
       "      <td>0.0</td>\n",
       "      <td>4.26</td>\n",
       "      <td>0.00</td>\n",
       "      <td>NaN</td>\n",
       "      <td>1.0</td>\n",
       "      <td>25.54</td>\n",
       "      <td>NaN</td>\n",
       "      <td>NaN</td>\n",
       "      <td>NaN</td>\n",
       "    </tr>\n",
       "    <tr>\n",
       "      <th>64211</th>\n",
       "      <td>2</td>\n",
       "      <td>2023-12-31 23:17:00</td>\n",
       "      <td>2023-12-31 23:53:00</td>\n",
       "      <td>None</td>\n",
       "      <td>NaN</td>\n",
       "      <td>116</td>\n",
       "      <td>37</td>\n",
       "      <td>NaN</td>\n",
       "      <td>12.07</td>\n",
       "      <td>55.38</td>\n",
       "      <td>0.0</td>\n",
       "      <td>0.0</td>\n",
       "      <td>12.66</td>\n",
       "      <td>6.94</td>\n",
       "      <td>NaN</td>\n",
       "      <td>1.0</td>\n",
       "      <td>75.98</td>\n",
       "      <td>NaN</td>\n",
       "      <td>NaN</td>\n",
       "      <td>NaN</td>\n",
       "    </tr>\n",
       "    <tr>\n",
       "      <th>64212</th>\n",
       "      <td>2</td>\n",
       "      <td>2023-12-31 23:21:00</td>\n",
       "      <td>2023-12-31 23:33:00</td>\n",
       "      <td>None</td>\n",
       "      <td>NaN</td>\n",
       "      <td>65</td>\n",
       "      <td>80</td>\n",
       "      <td>NaN</td>\n",
       "      <td>3.84</td>\n",
       "      <td>16.93</td>\n",
       "      <td>0.0</td>\n",
       "      <td>0.0</td>\n",
       "      <td>3.59</td>\n",
       "      <td>0.00</td>\n",
       "      <td>NaN</td>\n",
       "      <td>1.0</td>\n",
       "      <td>21.52</td>\n",
       "      <td>NaN</td>\n",
       "      <td>NaN</td>\n",
       "      <td>NaN</td>\n",
       "    </tr>\n",
       "    <tr>\n",
       "      <th>64213</th>\n",
       "      <td>2</td>\n",
       "      <td>2023-12-31 23:15:00</td>\n",
       "      <td>2023-12-31 23:40:00</td>\n",
       "      <td>None</td>\n",
       "      <td>NaN</td>\n",
       "      <td>36</td>\n",
       "      <td>65</td>\n",
       "      <td>NaN</td>\n",
       "      <td>6.18</td>\n",
       "      <td>30.01</td>\n",
       "      <td>0.0</td>\n",
       "      <td>0.0</td>\n",
       "      <td>6.20</td>\n",
       "      <td>0.00</td>\n",
       "      <td>NaN</td>\n",
       "      <td>1.0</td>\n",
       "      <td>37.21</td>\n",
       "      <td>NaN</td>\n",
       "      <td>NaN</td>\n",
       "      <td>NaN</td>\n",
       "    </tr>\n",
       "    <tr>\n",
       "      <th>64214</th>\n",
       "      <td>2</td>\n",
       "      <td>2023-12-31 23:09:00</td>\n",
       "      <td>2023-12-31 23:27:00</td>\n",
       "      <td>None</td>\n",
       "      <td>NaN</td>\n",
       "      <td>61</td>\n",
       "      <td>232</td>\n",
       "      <td>NaN</td>\n",
       "      <td>4.31</td>\n",
       "      <td>23.36</td>\n",
       "      <td>0.0</td>\n",
       "      <td>0.0</td>\n",
       "      <td>4.07</td>\n",
       "      <td>0.00</td>\n",
       "      <td>NaN</td>\n",
       "      <td>1.0</td>\n",
       "      <td>31.18</td>\n",
       "      <td>NaN</td>\n",
       "      <td>NaN</td>\n",
       "      <td>NaN</td>\n",
       "    </tr>\n",
       "  </tbody>\n",
       "</table>\n",
       "<p>64215 rows × 20 columns</p>\n",
       "</div>"
      ],
      "text/plain": [
       "       VendorID lpep_pickup_datetime lpep_dropoff_datetime store_and_fwd_flag  \\\n",
       "0             2  2023-12-01 00:27:37   2023-12-01 00:42:48                  N   \n",
       "1             1  2023-12-01 00:42:57   2023-12-01 00:56:16                  N   \n",
       "2             2  2023-12-01 00:29:51   2023-12-01 00:49:38                  N   \n",
       "3             2  2023-12-01 00:09:57   2023-12-01 00:36:51                  N   \n",
       "4             2  2023-12-01 01:02:41   2023-12-01 01:11:20                  N   \n",
       "...         ...                  ...                   ...                ...   \n",
       "64210         2  2023-12-31 22:15:00   2023-12-31 22:35:00               None   \n",
       "64211         2  2023-12-31 23:17:00   2023-12-31 23:53:00               None   \n",
       "64212         2  2023-12-31 23:21:00   2023-12-31 23:33:00               None   \n",
       "64213         2  2023-12-31 23:15:00   2023-12-31 23:40:00               None   \n",
       "64214         2  2023-12-31 23:09:00   2023-12-31 23:27:00               None   \n",
       "\n",
       "       RatecodeID  PULocationID  DOLocationID  passenger_count  trip_distance  \\\n",
       "0             1.0            74           243              1.0           4.80   \n",
       "1             1.0            80            25              2.0           3.60   \n",
       "2             1.0            70            83              1.0           2.07   \n",
       "3             1.0           112           106              1.0           8.66   \n",
       "4             1.0           129           179              1.0           2.74   \n",
       "...           ...           ...           ...              ...            ...   \n",
       "64210         NaN            97            37              NaN           9.87   \n",
       "64211         NaN           116            37              NaN          12.07   \n",
       "64212         NaN            65            80              NaN           3.84   \n",
       "64213         NaN            36            65              NaN           6.18   \n",
       "64214         NaN            61           232              NaN           4.31   \n",
       "\n",
       "       fare_amount  extra  mta_tax  tip_amount  tolls_amount  ehail_fee  \\\n",
       "0            22.60    1.0      0.5        5.02          0.00        NaN   \n",
       "1            19.10    1.0      1.5        4.30          0.00        NaN   \n",
       "2            18.40    1.0      0.5        0.00          0.00        NaN   \n",
       "3            38.70    1.0      0.5        8.24          0.00        NaN   \n",
       "4            14.20    1.0      0.5        0.00          0.00        NaN   \n",
       "...            ...    ...      ...         ...           ...        ...   \n",
       "64210        20.28    0.0      0.0        4.26          0.00        NaN   \n",
       "64211        55.38    0.0      0.0       12.66          6.94        NaN   \n",
       "64212        16.93    0.0      0.0        3.59          0.00        NaN   \n",
       "64213        30.01    0.0      0.0        6.20          0.00        NaN   \n",
       "64214        23.36    0.0      0.0        4.07          0.00        NaN   \n",
       "\n",
       "       improvement_surcharge  total_amount  payment_type  trip_type  \\\n",
       "0                        1.0         30.12           1.0        1.0   \n",
       "1                        1.0         25.90           1.0        1.0   \n",
       "2                        1.0         20.90           2.0        1.0   \n",
       "3                        1.0         49.44           1.0        1.0   \n",
       "4                        1.0         16.70           2.0        1.0   \n",
       "...                      ...           ...           ...        ...   \n",
       "64210                    1.0         25.54           NaN        NaN   \n",
       "64211                    1.0         75.98           NaN        NaN   \n",
       "64212                    1.0         21.52           NaN        NaN   \n",
       "64213                    1.0         37.21           NaN        NaN   \n",
       "64214                    1.0         31.18           NaN        NaN   \n",
       "\n",
       "       congestion_surcharge  \n",
       "0                       0.0  \n",
       "1                       0.0  \n",
       "2                       0.0  \n",
       "3                       0.0  \n",
       "4                       0.0  \n",
       "...                     ...  \n",
       "64210                   NaN  \n",
       "64211                   NaN  \n",
       "64212                   NaN  \n",
       "64213                   NaN  \n",
       "64214                   NaN  \n",
       "\n",
       "[64215 rows x 20 columns]"
      ]
     },
     "execution_count": 2,
     "metadata": {},
     "output_type": "execute_result"
    }
   ],
   "source": [
    "df_Green = pd.read_parquet('../Datasets/TLC_NYC/2. green_tripdata_2023-12.parquet')\n",
    "df_Green"
   ]
  },
  {
   "cell_type": "markdown",
   "metadata": {},
   "source": [
    "Contar registros:"
   ]
  },
  {
   "cell_type": "code",
   "execution_count": 3,
   "metadata": {},
   "outputs": [
    {
     "data": {
      "text/plain": [
       "64215"
      ]
     },
     "execution_count": 3,
     "metadata": {},
     "output_type": "execute_result"
    }
   ],
   "source": [
    "Total_Registros_inicial= len(df_Green)\n",
    "Total_Registros_inicial"
   ]
  },
  {
   "cell_type": "code",
   "execution_count": 4,
   "metadata": {},
   "outputs": [
    {
     "name": "stdout",
     "output_type": "stream",
     "text": [
      "<class 'pandas.core.frame.DataFrame'>\n",
      "RangeIndex: 64215 entries, 0 to 64214\n",
      "Data columns (total 20 columns):\n",
      " #   Column                 Non-Null Count  Dtype         \n",
      "---  ------                 --------------  -----         \n",
      " 0   VendorID               64215 non-null  int32         \n",
      " 1   lpep_pickup_datetime   64215 non-null  datetime64[us]\n",
      " 2   lpep_dropoff_datetime  64215 non-null  datetime64[us]\n",
      " 3   store_and_fwd_flag     59303 non-null  object        \n",
      " 4   RatecodeID             59303 non-null  float64       \n",
      " 5   PULocationID           64215 non-null  int32         \n",
      " 6   DOLocationID           64215 non-null  int32         \n",
      " 7   passenger_count        59303 non-null  float64       \n",
      " 8   trip_distance          64215 non-null  float64       \n",
      " 9   fare_amount            64215 non-null  float64       \n",
      " 10  extra                  64215 non-null  float64       \n",
      " 11  mta_tax                64215 non-null  float64       \n",
      " 12  tip_amount             64215 non-null  float64       \n",
      " 13  tolls_amount           64215 non-null  float64       \n",
      " 14  ehail_fee              0 non-null      float64       \n",
      " 15  improvement_surcharge  64215 non-null  float64       \n",
      " 16  total_amount           64215 non-null  float64       \n",
      " 17  payment_type           59303 non-null  float64       \n",
      " 18  trip_type              59301 non-null  float64       \n",
      " 19  congestion_surcharge   59303 non-null  float64       \n",
      "dtypes: datetime64[us](2), float64(14), int32(3), object(1)\n",
      "memory usage: 9.1+ MB\n"
     ]
    }
   ],
   "source": [
    "df_Green.info()"
   ]
  },
  {
   "cell_type": "markdown",
   "metadata": {},
   "source": [
    "### 3. Eliminar columnas Innecesarias:"
   ]
  },
  {
   "cell_type": "code",
   "execution_count": 5,
   "metadata": {},
   "outputs": [
    {
     "data": {
      "text/plain": [
       "Index(['VendorID', 'lpep_pickup_datetime', 'lpep_dropoff_datetime',\n",
       "       'store_and_fwd_flag', 'RatecodeID', 'PULocationID', 'DOLocationID',\n",
       "       'passenger_count', 'trip_distance', 'fare_amount', 'extra', 'mta_tax',\n",
       "       'tip_amount', 'tolls_amount', 'ehail_fee', 'improvement_surcharge',\n",
       "       'total_amount', 'payment_type', 'trip_type', 'congestion_surcharge'],\n",
       "      dtype='object')"
      ]
     },
     "execution_count": 5,
     "metadata": {},
     "output_type": "execute_result"
    }
   ],
   "source": [
    "df_Green.columns"
   ]
  },
  {
   "cell_type": "code",
   "execution_count": 6,
   "metadata": {},
   "outputs": [],
   "source": [
    "columnas_eliminar = ['VendorID', 'RatecodeID', 'store_and_fwd_flag',\n",
    "       'payment_type','trip_type']\n",
    "\n",
    "Green = df_Green.drop(columns=columnas_eliminar)"
   ]
  },
  {
   "cell_type": "markdown",
   "metadata": {},
   "source": [
    "### 4. Revisar Outliers:"
   ]
  },
  {
   "cell_type": "code",
   "execution_count": 7,
   "metadata": {},
   "outputs": [
    {
     "data": {
      "image/png": "[encoded data removed]",
      "text/plain": [
       "<Figure size 1600x600 with 13 Axes>"
      ]
     },
     "metadata": {},
     "output_type": "display_data"
    }
   ],
   "source": [
    "# Selecciona solo las columnas numéricas\n",
    "df_numerical = Green.select_dtypes(include='number')\n",
    "\n",
    "# Calcula el IQR (rango intercuartílico) para cada columna y ordénalas por el IQR\n",
    "iqr_values = (df_numerical.quantile(0.75) - df_numerical.quantile(0.25)).sort_values(ascending=False)\n",
    "sorted_columns = iqr_values.index\n",
    "\n",
    "# Ordena las columnas en df_numerical de acuerdo con el orden de iqr_values\n",
    "df_numerical = df_numerical[sorted_columns]\n",
    "\n",
    "\n",
    "# Configura el estilo de Seaborn\n",
    "sns.set(style=\"whitegrid\")\n",
    "\n",
    "# Tamaño de la figura y espaciado entre subtramas\n",
    "plt.figure(figsize=(16, 6))\n",
    "plt.subplots_adjust(wspace=0.4)  # Ajusta el espaciado horizontal entre subtramas\n",
    "\n",
    "# Crea el gráfico de caja utilizando Seaborn\n",
    "for i, column in enumerate(sorted_columns):\n",
    "    ax = plt.subplot(1, len(sorted_columns), i+1)  # Subtrama para cada variable\n",
    "    sns.boxplot(y=df_numerical[column], color='skyblue', ax=ax)\n",
    "    ax.set_title(column, rotation=90, fontsize=10)  # Rotar el título y ajustar tamaño de fuente\n",
    "    plt.xlabel('')\n",
    "    plt.ylabel('')\n",
    "    plt.xticks(rotation=90)  # Rotar las etiquetas del eje x verticalmente\n",
    "\n",
    "plt.tight_layout()\n",
    "plt.show()"
   ]
  },
  {
   "cell_type": "markdown",
   "metadata": {},
   "source": [
    "### 5. Convertir núemeros negativos a positivos:"
   ]
  },
  {
   "cell_type": "code",
   "execution_count": 8,
   "metadata": {},
   "outputs": [],
   "source": [
    "# Crear una lista de las columnas en las que deseas convertir los valores negativos a positivos\n",
    "columnas_a_convertir = ['fare_amount', 'extra',\n",
    "       'mta_tax', 'tip_amount', 'tolls_amount', 'improvement_surcharge',\n",
    "       'total_amount', 'congestion_surcharge']\n",
    "\n",
    "# Aplicar una función lambda a cada valor en cada una de esas columnas para cambiar los valores negativos a positivos\n",
    "Green[columnas_a_convertir] = Green[columnas_a_convertir].applymap(lambda x: abs(x) if x < 0 else x)"
   ]
  },
  {
   "cell_type": "markdown",
   "metadata": {},
   "source": [
    "### 6. Eliminar filas con \"0\" en \"fare_amount\" o menor a $3:"
   ]
  },
  {
   "cell_type": "code",
   "execution_count": 9,
   "metadata": {},
   "outputs": [
    {
     "name": "stdout",
     "output_type": "stream",
     "text": [
      "Se eliminaron 73 filas donde 'fare_amount' es menor a 3.\n"
     ]
    }
   ],
   "source": [
    "# Contar el número de filas antes de eliminar\n",
    "filas_antes = len(Green)\n",
    "\n",
    "# Eliminar las filas donde 'fare_amount' menor a 3 dólares (tarifa base taxis, $5 la de cancelación uber)\n",
    "Green = Green[Green['fare_amount'] >= 3]\n",
    "\n",
    "# Contar el número de filas después de eliminar\n",
    "filas_despues = len(Green)\n",
    "\n",
    "# Calcular cuántas filas se eliminaron\n",
    "filas_eliminadas = filas_antes - filas_despues\n",
    "\n",
    "print(\"Se eliminaron {} filas donde 'fare_amount' es menor a 3.\".format(filas_eliminadas))\n"
   ]
  },
  {
   "cell_type": "markdown",
   "metadata": {},
   "source": [
    "### 7. Imputar valores errados:"
   ]
  },
  {
   "cell_type": "code",
   "execution_count": 10,
   "metadata": {},
   "outputs": [],
   "source": [
    "# Calcula la moda de 'congestion_surcharge' y 'Airport_fee' excluyendo los valores cero\n",
    "moda_congestion = Green[Green['congestion_surcharge'] != 0]['congestion_surcharge'].mode()[0]\n",
    "moda_Improvement = Green[Green['improvement_surcharge'] != 0]['improvement_surcharge'].mode()[0]\n",
    "\n",
    "# Imputa los valores erróneos utilizando la moda\n",
    "Green['congestion_surcharge'] = Green['congestion_surcharge'].apply(lambda x: moda_congestion if x > 0 else x)\n",
    "Green['Airport_fee'] = Green['improvement_surcharge'].apply(lambda x: moda_Improvement if x > 0 else x)\n"
   ]
  },
  {
   "cell_type": "markdown",
   "metadata": {},
   "source": [
    "Pendiente imputación Extra hasta revisar horas"
   ]
  },
  {
   "cell_type": "markdown",
   "metadata": {},
   "source": [
    "### 8. Recuento y eliminación de Outliers:"
   ]
  },
  {
   "cell_type": "code",
   "execution_count": 11,
   "metadata": {},
   "outputs": [
    {
     "name": "stdout",
     "output_type": "stream",
     "text": [
      "Cantidad de valores en 'base_passenger_fare' que superan los $300: 47\n",
      "Cantidad de valores en 'trip_miles' superan las 100 millas: 48\n",
      "Cantidad de valores en 'tolls' superan llos $60 dólare: 0\n"
     ]
    }
   ],
   "source": [
    "# Contar cuántos valores en 'base_passenger_fare' superan los 700 dólares\n",
    "Tarifa_sobre_300 = (Green['fare_amount'] > 300).sum()\n",
    "\n",
    "# Contar cuántos valores en 'trip_miles' superan las 100 millas\n",
    "Millas_sobre_100 = (Green['trip_distance'] > 100).sum()\n",
    "\n",
    "# Contar cuántos valores en 'tolls' superan llos $60 dólares\n",
    "Peajes_sobre_60 = (Green['tolls_amount'] > 60).sum()\n",
    "\n",
    "print(\"Cantidad de valores en 'base_passenger_fare' que superan los $300:\", Tarifa_sobre_300)\n",
    "print(\"Cantidad de valores en 'trip_miles' superan las 100 millas:\", Millas_sobre_100)\n",
    "print(\"Cantidad de valores en 'tolls' superan llos $60 dólare:\", Peajes_sobre_60)"
   ]
  },
  {
   "cell_type": "markdown",
   "metadata": {},
   "source": [
    "### 9. Eliminación de los Outliers:"
   ]
  },
  {
   "cell_type": "code",
   "execution_count": 12,
   "metadata": {},
   "outputs": [],
   "source": [
    "# Eliminar las filas donde 'base_passenger_fare' supera los $400\n",
    "Green = Green[Green['fare_amount'] <= 300] # No se considera real una tarifa mayor $150 y se permite que esta se duplique.\n",
    "\n",
    "# Eliminar las filas donde 'trip_miles' supera las 100 millas\n",
    "Green = Green[Green['trip_distance'] <= 100] # la distancia máxima sería 50 millas, se puede suponer ida y vuelta\n",
    "\n",
    "# Eliminar las filas donde 'tolls' supera los $60 dólares\n",
    "Green = Green[Green['tolls_amount'] <= 60]"
   ]
  },
  {
   "cell_type": "markdown",
   "metadata": {},
   "source": [
    "### 10. Transformación de los datos de fecha:"
   ]
  },
  {
   "cell_type": "code",
   "execution_count": 13,
   "metadata": {},
   "outputs": [
    {
     "data": {
      "text/plain": [
       "Index(['lpep_pickup_datetime', 'lpep_dropoff_datetime', 'PULocationID',\n",
       "       'DOLocationID', 'passenger_count', 'trip_distance', 'fare_amount',\n",
       "       'extra', 'mta_tax', 'tip_amount', 'tolls_amount', 'ehail_fee',\n",
       "       'improvement_surcharge', 'total_amount', 'congestion_surcharge',\n",
       "       'Airport_fee'],\n",
       "      dtype='object')"
      ]
     },
     "execution_count": 13,
     "metadata": {},
     "output_type": "execute_result"
    }
   ],
   "source": [
    "Green.columns"
   ]
  },
  {
   "cell_type": "code",
   "execution_count": 14,
   "metadata": {},
   "outputs": [],
   "source": [
    "# 1. Crear la columna \"time_out\" que sea la diferencia entre lpep_pickup_datetime y request_datetime\n",
    "Green['time_out'] = 0 #En los taxis no hay registro, porque la mayoría son servicion recogidos por parada en la calle\n",
    "\n",
    "# 2. Crear la columna \"travel_time\" que sea la diferencia entre dropoff_datetime y lpep_pickup_datetime\n",
    "Green['travel_time'] = Green['lpep_dropoff_datetime'] - Green['lpep_pickup_datetime']\n",
    "\n",
    "# 3. Convertir valores negativos en cero\n",
    "Green['travel_time'] = Green['travel_time'].clip(lower=pd.Timedelta(0))\n",
    "\n",
    "# 4. Crear las columnas \"year\", \"month\", \"day\", \"hour\" a partir de la columna lpep_pickup_datetime\n",
    "Green['year'] = Green['lpep_pickup_datetime'].dt.year\n",
    "Green['month'] = Green['lpep_pickup_datetime'].dt.month\n",
    "Green['day'] = Green['lpep_pickup_datetime'].dt.day\n",
    "Green['hour'] = Green['lpep_pickup_datetime'].dt.hour\n",
    "\n",
    "# 5. Redondear la columna \"hour\" al entero más cercano (de 1 a 24)\n",
    "Green['hour'] = Green['hour'].apply(lambda x: round(x))\n",
    "\n",
    "# 6. Crear la columna \"day_of_week\" a partir de la columna lpep_pickup_datetime\n",
    "Green['day_of_week'] = Green['lpep_pickup_datetime'].dt.day_name()\n",
    "\n",
    "# 7. Eliminar las columnas lpep_pickup_datetime y dropoff_datetime\n",
    "Green = Green.drop(columns=['lpep_pickup_datetime', 'lpep_dropoff_datetime'])\n"
   ]
  },
  {
   "cell_type": "markdown",
   "metadata": {},
   "source": [
    "### 11. Transformar datos de tarifas:"
   ]
  },
  {
   "cell_type": "markdown",
   "metadata": {},
   "source": [
    "Primero se imputan y corrigen valores de impuestos fijos según horarios:"
   ]
  },
  {
   "cell_type": "code",
   "execution_count": 15,
   "metadata": {},
   "outputs": [],
   "source": [
    "# Definir una función para asignar los valores según la columna \"hour\"\n",
    "def asignar_valor(row):\n",
    "    if (row['hour'] >= 16 and row['hour'] <= 24) or (row['hour'] <= 6):\n",
    "        return 1.5 if (row['hour'] >= 16 and row['hour'] <= 20) else 0.5\n",
    "    else:\n",
    "        return 0\n",
    "\n",
    "# Aplicar la función a la columna extra\n",
    "Green['extra'] = Green.apply(asignar_valor, axis=1)\n"
   ]
  },
  {
   "cell_type": "markdown",
   "metadata": {},
   "source": [
    "Luego se unifican tarifa base y extras:"
   ]
  },
  {
   "cell_type": "code",
   "execution_count": 16,
   "metadata": {},
   "outputs": [],
   "source": [
    "# Crear la columna \"fare_surcharges\" que sea la suma de tolls, mta_tax, congestion_surcharge, airport_fee\n",
    "Green['fare_surcharges'] = Green['tolls_amount'] + Green['extra'] + Green['congestion_surcharge'] + Green['Airport_fee']\n",
    "\n",
    "# Crear la columna \"base_fare\" que sea la suma de base_passenger_fare y sales_tax\n",
    "Green['base_fare'] = Green['fare_amount'] + 0.8 # 0.5 MTA + 0.3 Improvement\n",
    "\n",
    "# Eliminar las columnas de tarifas individuales\n",
    "columnas_eliminar = ['fare_amount', 'extra', 'mta_tax', 'tip_amount', 'tolls_amount',\n",
    "       'improvement_surcharge', 'total_amount', 'congestion_surcharge']\n",
    "Green = Green.drop(columns=columnas_eliminar)"
   ]
  },
  {
   "cell_type": "markdown",
   "metadata": {},
   "source": [
    "### 12. Cambiar formato de tiempos de viaje y espera:"
   ]
  },
  {
   "cell_type": "code",
   "execution_count": 17,
   "metadata": {},
   "outputs": [],
   "source": [
    "# Convertir los datos de timedelta64[us] a minutos y luego a un entero\n",
    "Green['travel_time_minutes'] = Green['travel_time'] / pd.Timedelta(minutes=1)\n",
    "\n",
    "# Convertir a entero\n",
    "Green['travel_time_minutes'] = Green['travel_time_minutes'].astype(int)\n",
    "\n",
    "# Convertir a entero de 32 bits\n",
    "Green['time_out'] = Green['time_out'].astype('int32')\n",
    "Green['travel_time'] = Green['travel_time_minutes'].astype('int32')\n",
    "\n",
    "Green = Green.drop(columns=['travel_time_minutes'])"
   ]
  },
  {
   "cell_type": "markdown",
   "metadata": {},
   "source": [
    "### 13. Verificar Outliers en tiempo de servicio:"
   ]
  },
  {
   "cell_type": "code",
   "execution_count": 18,
   "metadata": {},
   "outputs": [
    {
     "name": "stdout",
     "output_type": "stream",
     "text": [
      "Servicios que superan 4 horas de trayecto: 276\n"
     ]
    }
   ],
   "source": [
    "# Servicios que superan 4 horas de trayecto\n",
    "Servicio_sobre_4_hrs = (Green['travel_time'] > 240).sum()\n",
    "\n",
    "print(\"Servicios que superan 4 horas de trayecto:\", Servicio_sobre_4_hrs)"
   ]
  },
  {
   "cell_type": "code",
   "execution_count": 19,
   "metadata": {},
   "outputs": [],
   "source": [
    "# Eliminar los registros donde el tiempo de trayecto supera las 4 horas (240 minutos)\n",
    "Green =Green[Green['travel_time'] <= 240]"
   ]
  },
  {
   "cell_type": "markdown",
   "metadata": {},
   "source": [
    "se deja especificado que igual deben elimnarse de existir."
   ]
  },
  {
   "cell_type": "markdown",
   "metadata": {},
   "source": [
    "### 14. Revisar variación de Outliers:"
   ]
  },
  {
   "cell_type": "code",
   "execution_count": 20,
   "metadata": {},
   "outputs": [
    {
     "data": {
      "image/png": "[encoded data removed]",
      "text/plain": [
       "<Figure size 1600x600 with 14 Axes>"
      ]
     },
     "metadata": {},
     "output_type": "display_data"
    }
   ],
   "source": [
    "# Selecciona solo las columnas numéricas\n",
    "df_numerical = Green.select_dtypes(include='number')\n",
    "\n",
    "# Calcula el IQR (rango intercuartílico) para cada columna y ordénalas por el IQR\n",
    "iqr_values = (df_numerical.quantile(0.75) - df_numerical.quantile(0.25)).sort_values(ascending=False)\n",
    "sorted_columns = iqr_values.index\n",
    "\n",
    "# Ordena las columnas en df_numerical de acuerdo con el orden de iqr_values\n",
    "df_numerical = df_numerical[sorted_columns]\n",
    "\n",
    "\n",
    "# Configura el estilo de Seaborn\n",
    "sns.set(style=\"whitegrid\")\n",
    "\n",
    "# Tamaño de la figura y espaciado entre subtramas\n",
    "plt.figure(figsize=(16, 6))\n",
    "plt.subplots_adjust(wspace=0.4)  # Ajusta el espaciado horizontal entre subtramas\n",
    "\n",
    "# Crea el gráfico de caja utilizando Seaborn\n",
    "for i, column in enumerate(sorted_columns):\n",
    "    ax = plt.subplot(1, len(sorted_columns), i+1)  # Subtrama para cada variable\n",
    "    sns.boxplot(y=df_numerical[column], color='skyblue', ax=ax)\n",
    "    ax.set_title(column, rotation=90, fontsize=10)  # Rotar el título y ajustar tamaño de fuente\n",
    "    plt.xlabel('')\n",
    "    plt.ylabel('')\n",
    "    plt.xticks(rotation=90)  # Rotar las etiquetas del eje x verticalmente\n",
    "\n",
    "plt.tight_layout()\n",
    "plt.show()"
   ]
  },
  {
   "cell_type": "code",
   "execution_count": 21,
   "metadata": {},
   "outputs": [
    {
     "name": "stdout",
     "output_type": "stream",
     "text": [
      "No. Registros con Año diferente:  0\n",
      "No. Registros con Mes diferente:  4\n"
     ]
    }
   ],
   "source": [
    "# Servicios que superan 4 horas de trayecto\n",
    "moda_Año = Green[Green['year'] != 0]['year'].mode()[0]\n",
    "moda_Mes = Green[Green['month'] != 0]['month'].mode()[0]\n",
    "\n",
    "Año_diferente = (Green['year'] != moda_Año).sum()\n",
    "Mes_diferente = (Green['month'] != moda_Mes).sum()\n",
    "\n",
    "print('No. Registros con Año diferente: ',Año_diferente)\n",
    "print('No. Registros con Mes diferente: ',Mes_diferente)\n",
    "\n",
    "Green['year'] = Green['year'].apply(lambda x: moda_Año if x > 0 else x)\n",
    "Green['month'] = Green['month'].apply(lambda x: moda_Mes if x > 0 else x)"
   ]
  },
  {
   "cell_type": "markdown",
   "metadata": {},
   "source": [
    "### 15. Agragar columnas auxiliares para definir nuevos outliers:"
   ]
  },
  {
   "cell_type": "code",
   "execution_count": 22,
   "metadata": {},
   "outputs": [],
   "source": [
    "# Filtrar los registros donde trip_distance es cero y asignar un valor NaN\n",
    "Green['$mile'] = np.where(Green['trip_distance'] != 0, Green['base_fare'] / Green['trip_distance'], np.nan)\n",
    "\n",
    "# Filtrar los registros donde trip_minutes es cero y asignar un valor NaN\n",
    "Green['$minute'] = np.where(Green['travel_time'] != 0, Green['base_fare'] / Green['travel_time'], np.nan)"
   ]
  },
  {
   "cell_type": "markdown",
   "metadata": {},
   "source": [
    "Revisar porcentaje de elinnación de registros:"
   ]
  },
  {
   "cell_type": "code",
   "execution_count": 23,
   "metadata": {},
   "outputs": [
    {
     "name": "stdout",
     "output_type": "stream",
     "text": [
      "Porcentaje de eliminación en este punto: 0.69\n"
     ]
    }
   ],
   "source": [
    "Total_Servicios_Sin_Outliers_extremos=len(Green)\n",
    "Total_Servicios_Sin_Outliers_extremos\n",
    "\n",
    "print(\"Porcentaje de eliminación en este punto:\",round((Total_Registros_inicial-Total_Servicios_Sin_Outliers_extremos)/\n",
    "                                                       Total_Registros_inicial,4)*100)"
   ]
  },
  {
   "cell_type": "markdown",
   "metadata": {},
   "source": [
    "### 16. Eliminar Outliers basado en rangos intercurtílicos:"
   ]
  },
  {
   "cell_type": "code",
   "execution_count": 24,
   "metadata": {},
   "outputs": [
    {
     "name": "stdout",
     "output_type": "stream",
     "text": [
      "Promedio de $/milla sin datos atípicos: 7.403147853701234\n",
      "Promedio de $/minuto sin datos atípicos: 1.3493982288801971\n"
     ]
    }
   ],
   "source": [
    "# Calcular los cuartiles\n",
    "Q1_mile = Green['$mile'].quantile(0.25)\n",
    "Q3_mile = Green['$mile'].quantile(0.75)\n",
    "IQR_mile = Q3_mile - Q1_mile\n",
    "\n",
    "Q1_minute = Green['$minute'].quantile(0.25)\n",
    "Q3_minute = Green['$minute'].quantile(0.75)\n",
    "IQR_minute = Q3_minute - Q1_minute\n",
    "\n",
    "# Multiplicador para rango intercuartílico:\n",
    "multiplicador = 2\n",
    "\n",
    "# Definir los límites superior e inferior\n",
    "umbral_inf_mile = Q1_mile - multiplicador * IQR_mile\n",
    "umbral_sup_mile = Q3_mile + multiplicador * IQR_mile\n",
    "\n",
    "umbral_inf_minute =  Q3_minute - multiplicador * IQR_minute # para evitar borrar todos los registros\n",
    "umbral_sup_minute = Q3_minute + multiplicador * IQR_minute\n",
    "\n",
    "# Filtrar los registros que caen dentro del rango intercuartílico para cada columna\n",
    "Green_filtrado = Green[\n",
    "    (Green['$mile'] >= umbral_inf_mile) & (Green['$mile'] <= umbral_sup_mile) &\n",
    "    (Green['$minute'] >= umbral_inf_minute) & (Green['$minute'] <= umbral_sup_minute)\n",
    "]\n",
    "\n",
    "# Calcular el promedio para las columnas filtradas\n",
    "promedio_cost_mile_filtrado = Green_filtrado['$mile'].mean()\n",
    "promedio_cost_minute_filtrado = Green_filtrado['$minute'].mean()\n",
    "\n",
    "# Imprimir los resultados\n",
    "print(\"Promedio de $/milla sin datos atípicos:\", promedio_cost_mile_filtrado)\n",
    "print(\"Promedio de $/minuto sin datos atípicos:\", promedio_cost_minute_filtrado)\n"
   ]
  },
  {
   "cell_type": "code",
   "execution_count": 25,
   "metadata": {},
   "outputs": [
    {
     "name": "stdout",
     "output_type": "stream",
     "text": [
      "el número de registros sobre el umbral de $/milla es: 2508\n",
      "el número de registros sobre el umbral de $/minuto es: 2446\n"
     ]
    }
   ],
   "source": [
    "# Número de servicios con $mile sobre el umbral:\n",
    "Cost_mile_sobre_umbral = (Green['$mile'] > umbral_sup_mile ).sum()\n",
    "\n",
    "# Número de servicios con $time sobre el umbral:\n",
    "Cost_minute_sobre_umbral = (Green['$minute'] > umbral_sup_minute).sum()\n",
    "\n",
    "print(f'el número de registros sobre el umbral de $/milla es: {Cost_mile_sobre_umbral}')\n",
    "print(f'el número de registros sobre el umbral de $/minuto es: {Cost_minute_sobre_umbral}')"
   ]
  },
  {
   "cell_type": "markdown",
   "metadata": {},
   "source": [
    "Verificar nivel de elimnación:"
   ]
  },
  {
   "cell_type": "code",
   "execution_count": 26,
   "metadata": {},
   "outputs": [
    {
     "name": "stdout",
     "output_type": "stream",
     "text": [
      "Porcentaje de eliminación en este punto: 12.41\n"
     ]
    }
   ],
   "source": [
    "Total_servicios_Final=len(Green_filtrado)\n",
    "\n",
    "print(\"Porcentaje de eliminación en este punto:\",round((Total_Registros_inicial-Total_servicios_Final)/\n",
    "                                                       Total_Registros_inicial,4)*100)"
   ]
  },
  {
   "cell_type": "markdown",
   "metadata": {},
   "source": [
    "### 17. Eliminar datos con ubicaciones no definidas:"
   ]
  },
  {
   "cell_type": "code",
   "execution_count": 27,
   "metadata": {},
   "outputs": [
    {
     "name": "stdout",
     "output_type": "stream",
     "text": [
      "registros con ubicación DO 264 (NV):  69\n",
      "registros con ubicación DO 265 (NA):  165\n",
      "registros con ubicación PU 264 (NV):  13\n",
      "registros con ubicación PU 265 (NA):  22\n",
      "Total:  269\n"
     ]
    }
   ],
   "source": [
    "# Número de servicios con ubicación de recogida o llegada desconocido:\n",
    "DO_location_264 = (Green_filtrado['DOLocationID'] == 264).sum()\n",
    "DO_location_265 = (Green_filtrado['DOLocationID'] == 265).sum()\n",
    "PU_location_264 = (Green_filtrado['PULocationID'] == 264).sum()\n",
    "PU_location_265 = (Green_filtrado['PULocationID'] == 265).sum()\n",
    "\n",
    "print('registros con ubicación DO 264 (NV): ',DO_location_264)\n",
    "print('registros con ubicación DO 265 (NA): ',DO_location_265)\n",
    "print('registros con ubicación PU 264 (NV): ',PU_location_264)\n",
    "print('registros con ubicación PU 265 (NA): ',PU_location_265)\n",
    "\n",
    "print('Total: ',PU_location_265+PU_location_264+DO_location_265+DO_location_264)"
   ]
  },
  {
   "cell_type": "markdown",
   "metadata": {},
   "source": [
    "Eliminar registros:"
   ]
  },
  {
   "cell_type": "code",
   "execution_count": 28,
   "metadata": {},
   "outputs": [],
   "source": [
    "# Eliminar los registros con DOLocationID igual a 264\n",
    "Green_filtrado = Green_filtrado.loc[Green_filtrado['DOLocationID'] != 264]\n",
    "\n",
    "# Eliminar los registros con DOLocationID igual a 265\n",
    "Green_filtrado = Green_filtrado.loc[Green_filtrado['DOLocationID'] != 265]\n",
    "\n",
    "# Eliminar los registros con PULocationID igual a 264\n",
    "Green_filtrado = Green_filtrado.loc[Green_filtrado['PULocationID'] != 264]\n",
    "\n",
    "# Eliminar los registros con PULocationID igual a 265\n",
    "Green_filtrado = Green_filtrado.loc[Green_filtrado['PULocationID'] != 265]\n"
   ]
  },
  {
   "cell_type": "markdown",
   "metadata": {},
   "source": [
    "Revisar nivel de elimanción:"
   ]
  },
  {
   "cell_type": "code",
   "execution_count": 29,
   "metadata": {},
   "outputs": [
    {
     "name": "stdout",
     "output_type": "stream",
     "text": [
      "Porcentaje de eliminación en este punto: 12.809999999999999\n"
     ]
    }
   ],
   "source": [
    "Total_servicios_Final=len(Green_filtrado)\n",
    "\n",
    "print(\"Porcentaje de eliminación en este punto:\",round((Total_Registros_inicial-Total_servicios_Final)/\n",
    "                                                       Total_Registros_inicial,4)*100)"
   ]
  },
  {
   "cell_type": "markdown",
   "metadata": {},
   "source": [
    "### 18. Realizar agregaciones:"
   ]
  },
  {
   "cell_type": "code",
   "execution_count": 30,
   "metadata": {},
   "outputs": [],
   "source": [
    "# Crear la columna \"service_number\" y asignar el valor 1 a todas las filas\n",
    "Green_filtrado['service_number'] = 1\n",
    "\n",
    "# Crear la columna \"service_Type\" y asignar el valor Green a todas las filas\n",
    "Green_filtrado['service_type'] = 'Green'\n",
    "\n",
    "# \n",
    "Green_filtrado.rename(columns={'trip_distance': 'trip_miles'}, inplace=True)\n",
    "\n",
    "\n",
    "# Definir las dimensiones de agrupación y las variables de agregación\n",
    "dimensiones = ['service_type','year', 'month', 'day', 'day_of_week','hour', 'PULocationID', 'DOLocationID']\n",
    "variables_agregacion = ['trip_miles', 'time_out', 'travel_time', 'fare_surcharges', 'base_fare', 'service_number']\n",
    "\n",
    "# Agrupar el DataFrame y calcular la suma de las variables de agregación\n",
    "Green_agrupado = Green_filtrado.groupby(dimensiones)[variables_agregacion].sum().reset_index()"
   ]
  },
  {
   "cell_type": "code",
   "execution_count": 31,
   "metadata": {},
   "outputs": [
    {
     "name": "stdout",
     "output_type": "stream",
     "text": [
      "<class 'pandas.core.frame.DataFrame'>\n",
      "RangeIndex: 43642 entries, 0 to 43641\n",
      "Data columns (total 14 columns):\n",
      " #   Column           Non-Null Count  Dtype  \n",
      "---  ------           --------------  -----  \n",
      " 0   service_type     43642 non-null  object \n",
      " 1   year             43642 non-null  int32  \n",
      " 2   month            43642 non-null  int32  \n",
      " 3   day              43642 non-null  int32  \n",
      " 4   day_of_week      43642 non-null  object \n",
      " 5   hour             43642 non-null  int64  \n",
      " 6   PULocationID     43642 non-null  int32  \n",
      " 7   DOLocationID     43642 non-null  int32  \n",
      " 8   trip_miles       43642 non-null  float64\n",
      " 9   time_out         43642 non-null  int32  \n",
      " 10  travel_time      43642 non-null  int32  \n",
      " 11  fare_surcharges  43642 non-null  float64\n",
      " 12  base_fare        43642 non-null  float64\n",
      " 13  service_number   43642 non-null  int64  \n",
      "dtypes: float64(3), int32(7), int64(2), object(2)\n",
      "memory usage: 3.5+ MB\n"
     ]
    }
   ],
   "source": [
    "Green_agrupado.info()"
   ]
  },
  {
   "cell_type": "markdown",
   "metadata": {},
   "source": [
    "### 19. Exportar archivo a parquet:"
   ]
  },
  {
   "cell_type": "code",
   "execution_count": 32,
   "metadata": {},
   "outputs": [],
   "source": [
    "Green_agrupado.to_parquet('../DataClean/Green_Agrupado.parquet')"
   ]
  },
  {
   "cell_type": "code",
   "execution_count": 33,
   "metadata": {},
   "outputs": [
    {
     "data": {
      "text/html": [
       "<div>\n",
       "<style scoped>\n",
       "    .dataframe tbody tr th:only-of-type {\n",
       "        vertical-align: middle;\n",
       "    }\n",
       "\n",
       "    .dataframe tbody tr th {\n",
       "        vertical-align: top;\n",
       "    }\n",
       "\n",
       "    .dataframe thead th {\n",
       "        text-align: right;\n",
       "    }\n",
       "</style>\n",
       "<table border=\"1\" class=\"dataframe\">\n",
       "  <thead>\n",
       "    <tr style=\"text-align: right;\">\n",
       "      <th></th>\n",
       "      <th>year</th>\n",
       "      <th>month</th>\n",
       "      <th>day</th>\n",
       "      <th>hour</th>\n",
       "      <th>PULocationID</th>\n",
       "      <th>DOLocationID</th>\n",
       "      <th>trip_miles</th>\n",
       "      <th>time_out</th>\n",
       "      <th>travel_time</th>\n",
       "      <th>fare_surcharges</th>\n",
       "      <th>base_fare</th>\n",
       "      <th>service_number</th>\n",
       "    </tr>\n",
       "  </thead>\n",
       "  <tbody>\n",
       "    <tr>\n",
       "      <th>count</th>\n",
       "      <td>43642.0</td>\n",
       "      <td>43642.0</td>\n",
       "      <td>43642.000000</td>\n",
       "      <td>43642.000000</td>\n",
       "      <td>43642.000000</td>\n",
       "      <td>43642.000000</td>\n",
       "      <td>43642.000000</td>\n",
       "      <td>43642.0</td>\n",
       "      <td>43642.000000</td>\n",
       "      <td>43642.000000</td>\n",
       "      <td>43642.000000</td>\n",
       "      <td>43642.00000</td>\n",
       "    </tr>\n",
       "    <tr>\n",
       "      <th>mean</th>\n",
       "      <td>2023.0</td>\n",
       "      <td>12.0</td>\n",
       "      <td>15.038312</td>\n",
       "      <td>14.042642</td>\n",
       "      <td>98.148343</td>\n",
       "      <td>140.203405</td>\n",
       "      <td>3.889065</td>\n",
       "      <td>0.0</td>\n",
       "      <td>19.527313</td>\n",
       "      <td>3.086498</td>\n",
       "      <td>23.912393</td>\n",
       "      <td>1.28287</td>\n",
       "    </tr>\n",
       "    <tr>\n",
       "      <th>std</th>\n",
       "      <td>0.0</td>\n",
       "      <td>0.0</td>\n",
       "      <td>8.590237</td>\n",
       "      <td>5.426558</td>\n",
       "      <td>60.543485</td>\n",
       "      <td>75.488412</td>\n",
       "      <td>3.645773</td>\n",
       "      <td>0.0</td>\n",
       "      <td>17.105147</td>\n",
       "      <td>3.185060</td>\n",
       "      <td>18.115105</td>\n",
       "      <td>0.87112</td>\n",
       "    </tr>\n",
       "    <tr>\n",
       "      <th>min</th>\n",
       "      <td>2023.0</td>\n",
       "      <td>12.0</td>\n",
       "      <td>1.000000</td>\n",
       "      <td>0.000000</td>\n",
       "      <td>3.000000</td>\n",
       "      <td>1.000000</td>\n",
       "      <td>0.390000</td>\n",
       "      <td>0.0</td>\n",
       "      <td>2.000000</td>\n",
       "      <td>0.000000</td>\n",
       "      <td>4.500000</td>\n",
       "      <td>1.00000</td>\n",
       "    </tr>\n",
       "    <tr>\n",
       "      <th>25%</th>\n",
       "      <td>2023.0</td>\n",
       "      <td>12.0</td>\n",
       "      <td>8.000000</td>\n",
       "      <td>11.000000</td>\n",
       "      <td>66.000000</td>\n",
       "      <td>74.000000</td>\n",
       "      <td>1.610000</td>\n",
       "      <td>0.0</td>\n",
       "      <td>9.000000</td>\n",
       "      <td>1.000000</td>\n",
       "      <td>12.900000</td>\n",
       "      <td>1.00000</td>\n",
       "    </tr>\n",
       "    <tr>\n",
       "      <th>50%</th>\n",
       "      <td>2023.0</td>\n",
       "      <td>12.0</td>\n",
       "      <td>15.000000</td>\n",
       "      <td>15.000000</td>\n",
       "      <td>75.000000</td>\n",
       "      <td>140.000000</td>\n",
       "      <td>2.740000</td>\n",
       "      <td>0.0</td>\n",
       "      <td>15.000000</td>\n",
       "      <td>2.500000</td>\n",
       "      <td>18.500000</td>\n",
       "      <td>1.00000</td>\n",
       "    </tr>\n",
       "    <tr>\n",
       "      <th>75%</th>\n",
       "      <td>2023.0</td>\n",
       "      <td>12.0</td>\n",
       "      <td>22.000000</td>\n",
       "      <td>18.000000</td>\n",
       "      <td>129.000000</td>\n",
       "      <td>216.000000</td>\n",
       "      <td>4.840000</td>\n",
       "      <td>0.0</td>\n",
       "      <td>24.000000</td>\n",
       "      <td>3.750000</td>\n",
       "      <td>29.300000</td>\n",
       "      <td>1.00000</td>\n",
       "    </tr>\n",
       "    <tr>\n",
       "      <th>max</th>\n",
       "      <td>2023.0</td>\n",
       "      <td>12.0</td>\n",
       "      <td>31.000000</td>\n",
       "      <td>23.000000</td>\n",
       "      <td>263.000000</td>\n",
       "      <td>263.000000</td>\n",
       "      <td>54.160000</td>\n",
       "      <td>0.0</td>\n",
       "      <td>372.000000</td>\n",
       "      <td>42.000000</td>\n",
       "      <td>329.600000</td>\n",
       "      <td>19.00000</td>\n",
       "    </tr>\n",
       "  </tbody>\n",
       "</table>\n",
       "</div>"
      ],
      "text/plain": [
       "          year    month           day          hour  PULocationID  \\\n",
       "count  43642.0  43642.0  43642.000000  43642.000000  43642.000000   \n",
       "mean    2023.0     12.0     15.038312     14.042642     98.148343   \n",
       "std        0.0      0.0      8.590237      5.426558     60.543485   \n",
       "min     2023.0     12.0      1.000000      0.000000      3.000000   \n",
       "25%     2023.0     12.0      8.000000     11.000000     66.000000   \n",
       "50%     2023.0     12.0     15.000000     15.000000     75.000000   \n",
       "75%     2023.0     12.0     22.000000     18.000000    129.000000   \n",
       "max     2023.0     12.0     31.000000     23.000000    263.000000   \n",
       "\n",
       "       DOLocationID    trip_miles  time_out   travel_time  fare_surcharges  \\\n",
       "count  43642.000000  43642.000000   43642.0  43642.000000     43642.000000   \n",
       "mean     140.203405      3.889065       0.0     19.527313         3.086498   \n",
       "std       75.488412      3.645773       0.0     17.105147         3.185060   \n",
       "min        1.000000      0.390000       0.0      2.000000         0.000000   \n",
       "25%       74.000000      1.610000       0.0      9.000000         1.000000   \n",
       "50%      140.000000      2.740000       0.0     15.000000         2.500000   \n",
       "75%      216.000000      4.840000       0.0     24.000000         3.750000   \n",
       "max      263.000000     54.160000       0.0    372.000000        42.000000   \n",
       "\n",
       "          base_fare  service_number  \n",
       "count  43642.000000     43642.00000  \n",
       "mean      23.912393         1.28287  \n",
       "std       18.115105         0.87112  \n",
       "min        4.500000         1.00000  \n",
       "25%       12.900000         1.00000  \n",
       "50%       18.500000         1.00000  \n",
       "75%       29.300000         1.00000  \n",
       "max      329.600000        19.00000  "
      ]
     },
     "execution_count": 33,
     "metadata": {},
     "output_type": "execute_result"
    }
   ],
   "source": [
    "Green_agrupado.describe()"
   ]
  }
 ],
 "metadata": {
  "kernelspec": {
   "display_name": "Python 3",
   "language": "python",
   "name": "python3"
  },
  "language_info": {
   "codemirror_mode": {
    "name": "ipython",
    "version": 3
   },
   "file_extension": ".py",
   "mimetype": "text/x-python",
   "name": "python",
   "nbconvert_exporter": "python",
   "pygments_lexer": "ipython3",
   "version": "3.10.11"
  }
 },
 "nbformat": 4,
 "nbformat_minor": 2
}
