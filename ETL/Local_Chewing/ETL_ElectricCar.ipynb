{
 "cells": [
  {
   "cell_type": "markdown",
   "metadata": {},
   "source": [
    "### 1. Importar Lista de vehículos ligeros eléctricos con precios en Europa \"WEB SCRAPING\":"
   ]
  },
  {
   "cell_type": "code",
   "execution_count": 1,
   "metadata": {},
   "outputs": [],
   "source": [
    "import requests\n",
    "from bs4 import BeautifulSoup\n",
    "import pandas as pd\n",
    "import numpy as np"
   ]
  },
  {
   "cell_type": "code",
   "execution_count": 2,
   "metadata": {},
   "outputs": [],
   "source": [
    "# URL base de la página a hacer scraping\n",
    "base_url = 'https://ev-database.org/'\n",
    "url = base_url\n",
    "\n",
    "# Lista para almacenar los datos\n",
    "data = []\n",
    "\n",
    "# Realizar solicitudes GET a cada página\n",
    "while True:\n",
    "    # Realizar la solicitud GET a la página\n",
    "    response = requests.get(url)\n",
    "\n",
    "    # Verificar si la solicitud fue exitosa (código de estado 200)\n",
    "    if response.status_code == 200:\n",
    "        # Parsear el contenido HTML\n",
    "        soup = BeautifulSoup(response.text, 'html.parser')\n",
    "\n",
    "        # Encontrar todos los elementos <div> con la clase 'list-item'\n",
    "        list_items = soup.find_all('div', class_='list-item')\n",
    "\n",
    "        # Iterar sobre los elementos 'list-item' y extraer información\n",
    "        for item in list_items:\n",
    "            # Buscar el elemento <div> con la clase 'item-data'\n",
    "            item_data = item.find('div', class_='item-data')\n",
    "            if item_data:\n",
    "                # Encontrar el nombre del vehículo\n",
    "                car_name = item_data.find('a', class_='title').text.strip()\n",
    "\n",
    "                # Encontrar la velocidad máxima\n",
    "                top_speed_tag = item_data.find('span', class_='topspeed')\n",
    "                top_speed = top_speed_tag.text.strip() if top_speed_tag else \"Velocidad máxima no encontrada\"\n",
    "\n",
    "                # Encontrar el tiempo de 0 a 100 km/h\n",
    "                acceleration_tag = item_data.find('span', class_='acceleration')\n",
    "                acceleration = acceleration_tag.text.strip() if acceleration_tag else \"Tiempo de 0 a 100 km/h no encontrado\"\n",
    "\n",
    "                # Encontrar el rango\n",
    "                range_tag = item_data.find('span', class_='erange_real')\n",
    "                range_value = range_tag.text.strip() if range_tag else \"Rango no encontrado\"\n",
    "\n",
    "                # Encontrar la velocidad de carga rápida\n",
    "                fastcharge_speed_tag = item_data.find('span', class_='fastcharge_speed_print')\n",
    "                fastcharge_speed = fastcharge_speed_tag.text.strip() if fastcharge_speed_tag else \"Velocidad de carga rápida no encontrada\"\n",
    "\n",
    "                # Encontrar el contenedor de precios\n",
    "                pricing_container = item.find('div', class_='pricing')\n",
    "                if pricing_container:\n",
    "                    # Encontrar todos los elementos de precio\n",
    "                    pricing_elements = pricing_container.find_all('div', class_='price_buy')\n",
    "                    \n",
    "                    # Crear un diccionario para almacenar los precios de cada país\n",
    "                    prices = {}\n",
    "                    \n",
    "                    # Iterar sobre los elementos de precio\n",
    "                    for pricing_element in pricing_elements:\n",
    "                        # Extraer el precio y el país\n",
    "                        price_text = pricing_element.find('span').text.strip()\n",
    "                        country_code = pricing_element.find('span', class_='flag-icon').attrs['class'][1].replace('country_', '').upper()\n",
    "                        # Agregar el precio al diccionario de precios\n",
    "                        prices[country_code] = price_text\n",
    "                \n",
    "                    # Agregar los datos a la lista\n",
    "                    data.append({\n",
    "                        \"Nombre del vehículo\": car_name,\n",
    "                        \"Velocidad máxima\": top_speed,\n",
    "                        \"Tiempo de 0 a 100 km/h\": acceleration,\n",
    "                        \"Rango\": range_value,\n",
    "                        \"Velocidad de carga rápida\": fastcharge_speed,\n",
    "                        \"Precios por país\": prices\n",
    "                    })\n",
    "\n",
    "        # Encontrar el enlace a la siguiente página, si existe\n",
    "        next_page_link = soup.find('a', class_='next')\n",
    "        if next_page_link:\n",
    "            url = base_url + next_page_link['href']\n",
    "        else:\n",
    "            break  # Salir del bucle si no hay más páginas disponibles\n",
    "    else:\n",
    "        print('Error al acceder a la página:', response.status_code)\n",
    "        break\n"
   ]
  },
  {
   "cell_type": "code",
   "execution_count": 3,
   "metadata": {},
   "outputs": [
    {
     "data": {
      "text/plain": [
       "list"
      ]
     },
     "execution_count": 3,
     "metadata": {},
     "output_type": "execute_result"
    }
   ],
   "source": [
    "type(data)"
   ]
  },
  {
   "cell_type": "markdown",
   "metadata": {},
   "source": [
    "### 2. Corregir formato de números y renombrar columnas:"
   ]
  },
  {
   "cell_type": "code",
   "execution_count": 4,
   "metadata": {},
   "outputs": [],
   "source": [
    "# Crear un DataFrame de Pandas con los datos\n",
    "df = pd.DataFrame(data)\n",
    "\n",
    "# Renombrar las columnas\n",
    "df.rename(columns={\n",
    "    'Velocidad máxima': 'Velocidad Máxima (Km/h)',\n",
    "    'Tiempo de 0 a 100 km/h': 'Aceleración 0 a 100 Km/h (seg)',\n",
    "    'Rango': 'Rango (Km)',\n",
    "    'Velocidad de carga rápida': 'Carga rápida (Km/h)'\n",
    "}, inplace=True)\n",
    "\n",
    "# Limpiar los datos numéricos\n",
    "df['Velocidad Máxima (Km/h)'] = df['Velocidad Máxima (Km/h)'].str.extract('(\\d+)').astype(float)\n",
    "df['Aceleración 0 a 100 Km/h (seg)'] = df['Aceleración 0 a 100 Km/h (seg)'].str.extract('(\\d+\\.?\\d*)').astype(float)\n",
    "df['Rango (Km)'] = df['Rango (Km)'].str.extract('(\\d+)').astype(float)\n",
    "df['Carga rápida (Km/h)'] = df['Carga rápida (Km/h)'].str.extract('(\\d+)').astype(float)\n"
   ]
  },
  {
   "cell_type": "markdown",
   "metadata": {},
   "source": [
    "### 3. Renombrar columnas de precios y arreglar valores:"
   ]
  },
  {
   "cell_type": "code",
   "execution_count": 5,
   "metadata": {},
   "outputs": [
    {
     "ename": "TypeError",
     "evalue": "eval() arg 1 must be a string, bytes or code object",
     "output_type": "error",
     "traceback": [
      "\u001b[0;31m---------------------------------------------------------------------------\u001b[0m",
      "\u001b[0;31mTypeError\u001b[0m                                 Traceback (most recent call last)",
      "\u001b[0;32m/tmp/ipykernel_141110/3356459288.py\u001b[0m in \u001b[0;36m<module>\u001b[0;34m\u001b[0m\n\u001b[1;32m     11\u001b[0m     \u001b[0;31m#precios_dict = row['Precios por país']\u001b[0m\u001b[0;34m\u001b[0m\u001b[0;34m\u001b[0m\u001b[0m\n\u001b[1;32m     12\u001b[0m     \u001b[0mprecios\u001b[0m \u001b[0;34m=\u001b[0m \u001b[0mrow\u001b[0m\u001b[0;34m[\u001b[0m\u001b[0;34m'Precios por país'\u001b[0m\u001b[0;34m]\u001b[0m\u001b[0;34m\u001b[0m\u001b[0;34m\u001b[0m\u001b[0m\n\u001b[0;32m---> 13\u001b[0;31m     \u001b[0mprecios_dict\u001b[0m \u001b[0;34m=\u001b[0m \u001b[0meval\u001b[0m\u001b[0;34m(\u001b[0m\u001b[0mprecios\u001b[0m\u001b[0;34m)\u001b[0m\u001b[0;34m\u001b[0m\u001b[0;34m\u001b[0m\u001b[0m\n\u001b[0m\u001b[1;32m     14\u001b[0m \u001b[0;34m\u001b[0m\u001b[0m\n\u001b[1;32m     15\u001b[0m \u001b[0;31m#    if len(precios_dict) != 3:\u001b[0m\u001b[0;34m\u001b[0m\u001b[0;34m\u001b[0m\u001b[0m\n",
      "\u001b[0;31mTypeError\u001b[0m: eval() arg 1 must be a string, bytes or code object"
     ]
    }
   ],
   "source": [
    "# Suponiendo que df es tu DataFrame y 'precios por país' es la columna con los precios\n",
    "# Crea columnas vacías para los precios de cada país\n",
    "df['Precio Alemania (€)'] = ''\n",
    "df['Precio Holanda (€)'] = ''\n",
    "df['Precio Inglaterra (£)'] = ''\n",
    "c = 4\n",
    "# Itera sobre las filas del DataFrame\n",
    "msn = 'TODO BIEN'\n",
    "for index, row in df.iterrows():\n",
    "    # Extrae el diccionario de precios de la columna 'precios por país'\n",
    "    precios_dict = row['Precios por país']\n",
    "    #precios = row['Precios por país']\n",
    "    #precios_dict = eval(precios)\n",
    "\n",
    "#    if len(precios_dict) != 3: \n",
    "#        msn = 'Hay filas que en PrecioPorPais no tiene tres precios'\n",
    "#        break\n",
    "#    \n",
    "#    precios_tuple = tuple(precios_dict.values())\n",
    "#\n",
    "#    df.at[index, 'Precio Alemania (€)'] = precios_tuple[0]\n",
    "#    df.at[index, 'Precio Holanda (€)'] = precios_tuple[1]\n",
    "#    df.at[index, 'Precio Inglaterra (£)'] = precios_tuple[2]\n",
    "\n",
    "    # Extrae el precio para Alemania\n",
    "    if 'FLAG-ICON-DE' in precios_dict:\n",
    "        df.at[index, 'Precio Alemania (€)'] = precios_dict['FLAG-ICON-DE']\n",
    "\n",
    "        if c <= 5:\n",
    "          print(f'{precios_dict[\"FLAG-ICON-DE\"]}')\n",
    "          print(f'type index:{type(index)}')\n",
    "          print(f'row:\\n{row}')\n",
    "          print(f\"{df.at[index, 'Precio Alemania (€)']}={precios_dict['FLAG-ICON-DE']}\")\n",
    "          print(f\"{type(df.at[index, 'Precio Alemania (€)'])}|{type(precios_dict['FLAG-ICON-DE'])}\")\n",
    "          c += 1\n",
    "    # Extrae el precio para Holanda\n",
    "    if 'FLAG-ICON-NL' in precios_dict:\n",
    "        df.at[index, 'Precio Holanda (€)'] = precios_dict['FLAG-ICON-NL']\n",
    "    \n",
    "    # Extrae el precio para Inglaterra\n",
    "    if 'FLAG-ICON-GB' in precios_dict:\n",
    "        df.at[index, 'Precio Inglaterra (£)'] = precios_dict['FLAG-ICON-GB']\n"
   ]
  },
  {
   "cell_type": "code",
   "execution_count": null,
   "metadata": {},
   "outputs": [],
   "source": [
    "# Quitar el símbolo del euro (€) de las columnas de precios de Alemania y Holanda\n",
    "df['Precio Alemania (€)'] = df['Precio Alemania (€)'].str.replace('€', '')\n",
    "df['Precio Holanda (€)'] = df['Precio Holanda (€)'].str.replace('€', '')\n",
    "\n",
    "# Quitar el símbolo de la libra esterlina (£) de la columna de precios de Inglaterra\n",
    "df['Precio Inglaterra (£)'] = df['Precio Inglaterra (£)'].str.replace('£', '')\n",
    "\n",
    "# Reemplazar \"N/A\" con NaN\n",
    "df['Precio Alemania (€)'] = df['Precio Alemania (€)'].replace('N/A', np.nan)\n",
    "df['Precio Holanda (€)'] = df['Precio Holanda (€)'].replace('N/A', np.nan)\n",
    "df['Precio Inglaterra (£)'] = df['Precio Inglaterra (£)'].replace('N/A', np.nan)\n",
    "\n",
    "\n",
    "# Quitar las comas y asteriscos de los valores y convertirlos a tipo numérico\n",
    "df['Precio Alemania (€)'] = df['Precio Alemania (€)'].str.replace(',', '').str.replace('*', '').astype(float)\n",
    "df['Precio Holanda (€)'] = df['Precio Holanda (€)'].str.replace(',', '').str.replace('*', '').astype(float)\n",
    "df['Precio Inglaterra (£)'] = df['Precio Inglaterra (£)'].str.replace(',', '').str.replace('*', '').astype(float)"
   ]
  },
  {
   "cell_type": "markdown",
   "metadata": {},
   "source": [
    "### 4. Unificar precios a promedio Europa en Euros:"
   ]
  },
  {
   "cell_type": "code",
   "execution_count": null,
   "metadata": {},
   "outputs": [],
   "source": [
    "# Crear la columna \"Europa (€)\" que promedia los valores de las tres columnas de precios, ignorando los valores nulos\n",
    "df['Europa (€)'] = df[['Precio Alemania (€)', 'Precio Holanda (€)', 'Precio Inglaterra (£)']].mean(axis=1, skipna=True)\n",
    "\n",
    "# Eliminar las columnas individuales de precios\n",
    "df.drop(columns=['Precio Alemania (€)', 'Precio Holanda (€)', 'Precio Inglaterra (£)','Precios por país'], inplace=True)\n"
   ]
  },
  {
   "cell_type": "markdown",
   "metadata": {},
   "source": [
    "### 5. Eliminar registros nulos y duplicados:"
   ]
  },
  {
   "cell_type": "code",
   "execution_count": null,
   "metadata": {},
   "outputs": [],
   "source": [
    "# Eliminar registros nulos\n",
    "df.dropna(inplace=True)\n",
    "\n",
    "# Eliminar registros duplicados\n",
    "df.drop_duplicates(inplace=True)\n",
    "\n",
    "df['Europa (€)']=df['Europa (€)'].round(decimals=2)"
   ]
  },
  {
   "cell_type": "markdown",
   "metadata": {},
   "source": [
    "Los datos se dejaron bajar una sola vez y se bloqueó la IP, se requiere un plan pago de la api para acceder a los datos en esta ubicación: data-services@ev-database.org; solicitando el uso de datos pago en esta url: data-services@ev-database.org"
   ]
  },
  {
   "cell_type": "markdown",
   "metadata": {},
   "source": [
    "### 6. Cambio de precio a Dolar:"
   ]
  },
  {
   "cell_type": "markdown",
   "metadata": {},
   "source": [
    "revisar si GCP soporta la librería forex_python"
   ]
  },
  {
   "cell_type": "code",
   "execution_count": null,
   "metadata": {},
   "outputs": [],
   "source": [
    "# Convertir a dolar mediante búsqueda de la tasa Scraping a \"https://www.google.com/finance/quote/EUR-USD?sa=X&ved=2ahUKEwjUhIO6x9SFAxUjfDABHXpWBXEQmY0JegQIGhAv\"\n",
    "\n",
    "# URL de la página con la tasa de cambio\n",
    "url = \"https://www.google.com/finance/quote/EUR-USD?sa=X&ved=2ahUKEwjUhIO6x9SFAxUjfDABHXpWBXEQmY0JegQIGhAv\"\n",
    "\n",
    "# Realizar la solicitud GET a la página\n",
    "response = requests.get(url)\n",
    "\n",
    "soup = BeautifulSoup(response.content, \"html.parser\")\n",
    "    \n",
    "# Encontrar el elemento con la clase \"YMlKec fxKbKc\"\n",
    "div_tasa_cambio = soup.find(\"div\", class_=\"YMlKec fxKbKc\")\n",
    "\n",
    "tasa_cambio = div_tasa_cambio.text.strip().replace(',', '.')  # Reemplazar \",\" por \".\" para convertir a número decimal\n",
    "tasa_cambio = float(div_tasa_cambio.text.strip().replace(',', '.'))\n",
    "\n",
    "# Obtener la tasa de conversión actual de EUR a USD\n",
    "tasa_conversion = tasa_cambio\n",
    "\n",
    "df['Precio($USD)']=round(df['Europa (€)']*tasa_conversion,2)\n",
    "\n",
    "df=df.drop(columns=['Europa (€)'])\n"
   ]
  },
  {
   "cell_type": "code",
   "execution_count": null,
   "metadata": {},
   "outputs": [],
   "source": [
    "df"
   ]
  }
 ],
 "metadata": {
  "kernelspec": {
   "display_name": "Python 3",
   "language": "python",
   "name": "python3"
  },
  "language_info": {
   "codemirror_mode": {
    "name": "ipython",
    "version": 3
   },
   "file_extension": ".py",
   "mimetype": "text/x-python",
   "name": "python",
   "nbconvert_exporter": "python",
   "pygments_lexer": "ipython3",
   "version": "3.10.12"
  }
 },
 "nbformat": 4,
 "nbformat_minor": 2
}
