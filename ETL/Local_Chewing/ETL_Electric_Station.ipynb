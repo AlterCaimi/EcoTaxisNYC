{
 "cells": [
  {
   "cell_type": "markdown",
   "metadata": {},
   "source": [
    "### Estaciones de servico de carga eléctrica (API):"
   ]
  },
  {
   "cell_type": "code",
   "execution_count": 30,
   "metadata": {},
   "outputs": [
    {
     "name": "stdout",
     "output_type": "stream",
     "text": [
      "Error al realizar la solicitud: 403\n"
     ]
    }
   ],
   "source": [
    "\"\"\"\n",
    "CÓDIGO USADO INICIALMENTE PARA LA DESCARGA DE DATOS POR API:\n",
    "\n",
    "import requests\n",
    "\n",
    "# URL base de la API\n",
    "base_url = 'https://developer.nrel.gov/api/alt-fuel-stations/v1.csv'\n",
    "\n",
    "# Clave de API\n",
    "api_key = 'w30dJhEvcdCHxEHImCSL0GIAXETjLIJ41lgoN0Jr'\n",
    "\n",
    "# Parámetros para enviar en la solicitud POST\n",
    "params = {\n",
    "    \n",
    "    \"fuel_type\": \"ELEC\",\n",
    "    \"access\": \"public\",\n",
    "    \"status\": \"E\",\n",
    "    \"country\": \"US\",\n",
    "    \"state\": \"NY\",\n",
    "    \"format\": \"csv\",\n",
    "    \n",
    "}\n",
    "\n",
    "# Realizar la solicitud POST\n",
    "response = requests.post(url, data=params)\n",
    "\n",
    "## Realizar la solicitud GET a la API\n",
    "response = requests.get(base_url)\n",
    "\n",
    "#Verificar si la solicitud fue exitosa (código de estado 200)\n",
    "if response.status_code == 200:\n",
    "    # Guardar el contenido de la respuesta en un archivo CSV\n",
    "    with open('fuel_stations_data.csv', 'wb') as file:\n",
    "        file.write(response.content)\n",
    "    print('Descarga exitosa del archivo CSV.')\n",
    "else:\n",
    "    # Si la solicitud no fue exitosa, imprimir un mensaje de error\n",
    "    print('Error al realizar la solicitud:', response.status_code)\n",
    "\"\"\""
   ]
  },
  {
   "cell_type": "markdown",
   "metadata": {},
   "source": [
    "Descargó todos los registros sin filtro, no funcionaron los parámetros de filtrado y el servicio solo pudo consumirse una vez. Me bloqueó por tiempo ilimiatado.Se puede descaragar manualmente con los filtros hasta estado de NY. https://afdc.energy.gov/data_download"
   ]
  },
  {
   "cell_type": "markdown",
   "metadata": {},
   "source": [
    "### 1. Abrir archivo"
   ]
  },
  {
   "cell_type": "code",
   "execution_count": 34,
   "metadata": {},
   "outputs": [],
   "source": [
    "import pandas as pd\n",
    "df=pd.read_csv(\"../Datasets/alt_fuel_stations (Apr 21 2024).csv\")"
   ]
  },
  {
   "cell_type": "markdown",
   "metadata": {},
   "source": [
    "### 2. ETL Estaciones de Servicios:"
   ]
  },
  {
   "cell_type": "code",
   "execution_count": 35,
   "metadata": {},
   "outputs": [],
   "source": [
    " # Seleccionar las columnas requeridas\n",
    "df = df[['Station Name', 'City', 'Latitude', 'Longitude']]\n",
    "# Asegurarse de que las columnas 'Latitude' y 'Longitude' están en el formato adecuado (float)\n",
    "df['Latitude'] = df['Latitude'].astype(float)\n",
    "df['Longitude'] = df['Longitude'].astype(float)\n",
    "\n",
    "nuevos_nombres = {\n",
    "'Station Name': 'stationName',\n",
    "'City': 'city',\n",
    "'Latitude': 'latitude',\n",
    "'Longitude': 'longitude',\n",
    "}\n",
    "\n",
    "# Renombrar las columnas utilizando el método rename()\n",
    "df = df.rename(columns=nuevos_nombres)"
   ]
  }
 ],
 "metadata": {
  "kernelspec": {
   "display_name": "Python 3",
   "language": "python",
   "name": "python3"
  },
  "language_info": {
   "codemirror_mode": {
    "name": "ipython",
    "version": 3
   },
   "file_extension": ".py",
   "mimetype": "text/x-python",
   "name": "python",
   "nbconvert_exporter": "python",
   "pygments_lexer": "ipython3",
   "version": "3.10.11"
  }
 },
 "nbformat": 4,
 "nbformat_minor": 2
}
