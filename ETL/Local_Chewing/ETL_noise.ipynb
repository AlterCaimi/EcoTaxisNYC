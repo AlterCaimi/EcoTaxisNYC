{
 "cells": [
  {
   "cell_type": "code",
   "execution_count": 1,
   "metadata": {},
   "outputs": [],
   "source": [
    "import pandas as pd\n",
    "from google.cloud import bigquery"
   ]
  },
  {
   "cell_type": "markdown",
   "metadata": {},
   "source": [
    "Cargamos un dataframe con el dataset de sonidos en New York"
   ]
  },
  {
   "cell_type": "code",
   "execution_count": 2,
   "metadata": {},
   "outputs": [],
   "source": [
    "df = pd.read_csv('../Datasets/SONYCUrbanSoundTagging.csv')"
   ]
  },
  {
   "cell_type": "markdown",
   "metadata": {},
   "source": [
    "Veamos información general del set de datos de los ruidos de NYC"
   ]
  },
  {
   "cell_type": "code",
   "execution_count": 3,
   "metadata": {},
   "outputs": [
    {
     "name": "stdout",
     "output_type": "stream",
     "text": [
      "<class 'pandas.core.frame.DataFrame'>\n",
      "RangeIndex: 62022 entries, 0 to 62021\n",
      "Data columns (total 78 columns):\n",
      " #   Column                                        Non-Null Count  Dtype  \n",
      "---  ------                                        --------------  -----  \n",
      " 0   split                                         62022 non-null  object \n",
      " 1   sensor_id                                     62022 non-null  int64  \n",
      " 2   audio_filename                                62022 non-null  object \n",
      " 3   annotator_id                                  62022 non-null  int64  \n",
      " 4   borough                                       62022 non-null  int64  \n",
      " 5   block                                         62022 non-null  int64  \n",
      " 6   latitude                                      62022 non-null  float64\n",
      " 7   longitude                                     62022 non-null  float64\n",
      " 8   year                                          62022 non-null  int64  \n",
      " 9   week                                          62022 non-null  int64  \n",
      " 10  day                                           62022 non-null  int64  \n",
      " 11  hour                                          62022 non-null  int64  \n",
      " 12  1-1_small-sounding-engine_presence            62022 non-null  int64  \n",
      " 13  1-2_medium-sounding-engine_presence           62022 non-null  int64  \n",
      " 14  1-3_large-sounding-engine_presence            62022 non-null  int64  \n",
      " 15  1-X_engine-of-uncertain-size_presence         62022 non-null  int64  \n",
      " 16  2-1_rock-drill_presence                       62022 non-null  int64  \n",
      " 17  2-2_jackhammer_presence                       62022 non-null  int64  \n",
      " 18  2-3_hoe-ram_presence                          62022 non-null  int64  \n",
      " 19  2-4_pile-driver_presence                      62022 non-null  int64  \n",
      " 20  2-X_other-unknown-impact-machinery_presence   62022 non-null  int64  \n",
      " 21  3-1_non-machinery-impact_presence             62022 non-null  int64  \n",
      " 22  4-1_chainsaw_presence                         62022 non-null  int64  \n",
      " 23  4-2_small-medium-rotating-saw_presence        62022 non-null  int64  \n",
      " 24  4-3_large-rotating-saw_presence               62022 non-null  int64  \n",
      " 25  4-X_other-unknown-powered-saw_presence        62022 non-null  int64  \n",
      " 26  5-1_car-horn_presence                         62022 non-null  int64  \n",
      " 27  5-2_car-alarm_presence                        62022 non-null  int64  \n",
      " 28  5-3_siren_presence                            62022 non-null  int64  \n",
      " 29  5-4_reverse-beeper_presence                   62022 non-null  int64  \n",
      " 30  5-X_other-unknown-alert-signal_presence       62022 non-null  int64  \n",
      " 31  6-1_stationary-music_presence                 62022 non-null  int64  \n",
      " 32  6-2_mobile-music_presence                     62022 non-null  int64  \n",
      " 33  6-3_ice-cream-truck_presence                  62022 non-null  int64  \n",
      " 34  6-X_music-from-uncertain-source_presence      62022 non-null  int64  \n",
      " 35  7-1_person-or-small-group-talking_presence    62022 non-null  int64  \n",
      " 36  7-2_person-or-small-group-shouting_presence   62022 non-null  int64  \n",
      " 37  7-3_large-crowd_presence                      62022 non-null  int64  \n",
      " 38  7-4_amplified-speech_presence                 62022 non-null  int64  \n",
      " 39  7-X_other-unknown-human-voice_presence        62022 non-null  int64  \n",
      " 40  8-1_dog-barking-whining_presence              62022 non-null  int64  \n",
      " 41  1-1_small-sounding-engine_proximity           62022 non-null  object \n",
      " 42  1-2_medium-sounding-engine_proximity          62022 non-null  object \n",
      " 43  1-3_large-sounding-engine_proximity           62022 non-null  object \n",
      " 44  1-X_engine-of-uncertain-size_proximity        62022 non-null  object \n",
      " 45  2-1_rock-drill_proximity                      62022 non-null  object \n",
      " 46  2-2_jackhammer_proximity                      62022 non-null  object \n",
      " 47  2-3_hoe-ram_proximity                         62022 non-null  object \n",
      " 48  2-4_pile-driver_proximity                     62022 non-null  object \n",
      " 49  2-X_other-unknown-impact-machinery_proximity  62022 non-null  object \n",
      " 50  3-1_non-machinery-impact_proximity            62022 non-null  object \n",
      " 51  4-1_chainsaw_proximity                        62022 non-null  object \n",
      " 52  4-2_small-medium-rotating-saw_proximity       62022 non-null  object \n",
      " 53  4-3_large-rotating-saw_proximity              62022 non-null  object \n",
      " 54  4-X_other-unknown-powered-saw_proximity       62022 non-null  object \n",
      " 55  5-1_car-horn_proximity                        62022 non-null  object \n",
      " 56  5-2_car-alarm_proximity                       62022 non-null  object \n",
      " 57  5-3_siren_proximity                           62022 non-null  object \n",
      " 58  5-4_reverse-beeper_proximity                  62022 non-null  object \n",
      " 59  5-X_other-unknown-alert-signal_proximity      62022 non-null  object \n",
      " 60  6-1_stationary-music_proximity                62022 non-null  object \n",
      " 61  6-2_mobile-music_proximity                    62022 non-null  object \n",
      " 62  6-3_ice-cream-truck_proximity                 62022 non-null  object \n",
      " 63  6-X_music-from-uncertain-source_proximity     62022 non-null  object \n",
      " 64  7-1_person-or-small-group-talking_proximity   62022 non-null  object \n",
      " 65  7-2_person-or-small-group-shouting_proximity  62022 non-null  object \n",
      " 66  7-3_large-crowd_proximity                     62022 non-null  object \n",
      " 67  7-4_amplified-speech_proximity                62022 non-null  object \n",
      " 68  7-X_other-unknown-human-voice_proximity       62022 non-null  object \n",
      " 69  8-1_dog-barking-whining_proximity             62022 non-null  object \n",
      " 70  1_engine_presence                             62022 non-null  int64  \n",
      " 71  2_machinery-impact_presence                   62022 non-null  int64  \n",
      " 72  3_non-machinery-impact_presence               62022 non-null  int64  \n",
      " 73  4_powered-saw_presence                        62022 non-null  int64  \n",
      " 74  5_alert-signal_presence                       62022 non-null  int64  \n",
      " 75  6_music_presence                              62022 non-null  int64  \n",
      " 76  7_human-voice_presence                        62022 non-null  int64  \n",
      " 77  8_dog_presence                                62022 non-null  int64  \n",
      "dtypes: float64(2), int64(45), object(31)\n",
      "memory usage: 36.9+ MB\n"
     ]
    }
   ],
   "source": [
    "df.info()"
   ]
  },
  {
   "cell_type": "markdown",
   "metadata": {},
   "source": [
    "La columna 'split' indica el conjunto al que pertenece la grabacion: entrenamiento, validación y\n",
    "prueba.<br>Esta variable 'split' no aporta al analisis para el dashboard y en el modelo de prediccion."
   ]
  },
  {
   "cell_type": "markdown",
   "metadata": {},
   "source": [
    "Hay 56 dispositivos sensores que captan los sonidos de la ciudad.<br>Esta variable no aporta al analisis para el dashboard y en el modelo de prediccion."
   ]
  },
  {
   "cell_type": "markdown",
   "metadata": {},
   "source": [
    "Hay 18510 archivos de audio en formato .wav que contienen los sonidos grabados de NYC.<br>Esta variable 'audio_filename' no aporta al analisis para el dashboard y en el modelo de prediccion."
   ]
  },
  {
   "cell_type": "markdown",
   "metadata": {},
   "source": [
    "Hay 4158 personas que anotan. Los valores negativos indican que los sonidos fueron clasificados por miembros de SONYC. Si los valores son positivos lo sonidos fueron clasificados por colaboradores de Zooniverse.<br>Esta variable 'annotator_id' no aporta al analisis para el dashboard y en el modelo de prediccion."
   ]
  },
  {
   "cell_type": "markdown",
   "metadata": {},
   "source": [
    "Los sonidos distintos a motores pequeños y medianos no aportan al analisis para el dashboard y en el modelo de prediccion."
   ]
  },
  {
   "cell_type": "markdown",
   "metadata": {},
   "source": [
    "Solo nos quedaremos con las siguientes variables:"
   ]
  },
  {
   "cell_type": "code",
   "execution_count": 4,
   "metadata": {},
   "outputs": [],
   "source": [
    "df_noise = df[[\n",
    "    'borough', 'block', 'latitude', 'longitude', 'year', 'week', 'day', 'hour',\n",
    "    '1-1_small-sounding-engine_presence', '1-2_medium-sounding-engine_presence']]"
   ]
  },
  {
   "cell_type": "code",
   "execution_count": 5,
   "metadata": {},
   "outputs": [],
   "source": [
    "#Cambia el nombre de las columnas que empizan con un numero\n",
    "df_noise = df_noise.rename(\n",
    "    columns={\n",
    "        '1-1_small-sounding-engine_presence': 'smallSoundingEngine',\n",
    "        '1-2_medium-sounding-engine_presence': 'mediumSoundingEngine'\n",
    "    }\n",
    ")"
   ]
  },
  {
   "cell_type": "code",
   "execution_count": 6,
   "metadata": {},
   "outputs": [
    {
     "name": "stdout",
     "output_type": "stream",
     "text": [
      "<class 'pandas.core.frame.DataFrame'>\n",
      "RangeIndex: 62022 entries, 0 to 62021\n",
      "Data columns (total 10 columns):\n",
      " #   Column                Non-Null Count  Dtype  \n",
      "---  ------                --------------  -----  \n",
      " 0   borough               62022 non-null  int64  \n",
      " 1   block                 62022 non-null  int64  \n",
      " 2   latitude              62022 non-null  float64\n",
      " 3   longitude             62022 non-null  float64\n",
      " 4   year                  62022 non-null  int64  \n",
      " 5   week                  62022 non-null  int64  \n",
      " 6   day                   62022 non-null  int64  \n",
      " 7   hour                  62022 non-null  int64  \n",
      " 8   smallSoundingEngine   62022 non-null  int64  \n",
      " 9   mediumSoundingEngine  62022 non-null  int64  \n",
      "dtypes: float64(2), int64(8)\n",
      "memory usage: 4.7 MB\n"
     ]
    }
   ],
   "source": [
    "df_noise.info()"
   ]
  },
  {
   "cell_type": "markdown",
   "metadata": {},
   "source": [
    "df_noise contiene las variables que usaremos para el dashborad"
   ]
  },
  {
   "cell_type": "markdown",
   "metadata": {},
   "source": [
    "Configuracion de credenciales para la conexion a Google Cloud Platform"
   ]
  },
  {
   "cell_type": "markdown",
   "metadata": {},
   "source": [
    "El archivo 'sturdy-gate-417001-19ab59ab9df1.json' que tiene las credenciales de la cuenta de servicio en GCP se descarga cuando se crea una nueva cuenta de servicio y se agrega una nueva clave."
   ]
  },
  {
   "cell_type": "code",
   "execution_count": 5,
   "metadata": {},
   "outputs": [],
   "source": [
    "key_path = '../../sturdy-gate-417001-19ab59ab9df1.json'\n",
    "client = bigquery.Client.from_service_account_json(key_path)"
   ]
  },
  {
   "cell_type": "code",
   "execution_count": 7,
   "metadata": {},
   "outputs": [],
   "source": [
    "# id de la tabla para los ruidos de NYC\n",
    "table_id = 'sturdy-gate-417001.data_clean.noise'\n",
    "\n",
    "# creamos la estructura de la tabla\n",
    "schema = []\n",
    "table = bigquery.Table(table_id, schema=schema)\n",
    "\n",
    "# enviando la instruccion a bigquery\n",
    "table = client.create_table(table)"
   ]
  },
  {
   "cell_type": "code",
   "execution_count": 15,
   "metadata": {},
   "outputs": [],
   "source": [
    "job_config = bigquery.LoadJobConfig(\n",
    "    # especificamos el esquema de la tabla noise\n",
    "    schema=[\n",
    "        # Aqui especificamos el tipo de columna cuyo tipo no se puede detectar automaticamente\n",
    "        bigquery.SchemaField('borough', 'INTEGER'),\n",
    "        bigquery.SchemaField('block', 'INTEGER'),\n",
    "        bigquery.SchemaField('latitude', 'FLOAT'),\n",
    "        bigquery.SchemaField('longitude', 'FLOAT'),\n",
    "        bigquery.SchemaField('year', 'INTEGER'),\n",
    "        bigquery.SchemaField('week', 'INTEGER'),\n",
    "        bigquery.SchemaField('day', 'INTEGER'),\n",
    "        bigquery.SchemaField('hour', 'INTEGER'),\n",
    "        bigquery.SchemaField('1-1_small-sounding-engine_presence', 'INTEGER'),\n",
    "        bigquery.SchemaField('1-2_medium-sounding-engine_presence', 'INTEGER')\n",
    "    ],\n",
    "    write_disposition='WRITE_TRUNCATE' # WRITE_APPEND para sobrescribir\n",
    ")"
   ]
  },
  {
   "cell_type": "code",
   "execution_count": 16,
   "metadata": {},
   "outputs": [],
   "source": [
    "# Proceso de ingesta\n",
    "job = client.load_table_from_dataframe(\n",
    "    df_noise, #dataframe a cargar en GCP\n",
    "    table_id, #tabla creada previamente en bigquery para recibir la carga\n",
    "    job_config=job_config #configuracion de carga\n",
    ")"
   ]
  },
  {
   "cell_type": "code",
   "execution_count": 17,
   "metadata": {},
   "outputs": [
    {
     "data": {
      "text/plain": [
       "LoadJob<project=sturdy-gate-417001, location=southamerica-east1, id=ca156e5b-d52d-4b6c-bc95-b84c9ae5cef5>"
      ]
     },
     "execution_count": 17,
     "metadata": {},
     "output_type": "execute_result"
    }
   ],
   "source": [
    "job.result()"
   ]
  }
 ],
 "metadata": {
  "kernelspec": {
   "display_name": "Python 3",
   "language": "python",
   "name": "python3"
  },
  "language_info": {
   "codemirror_mode": {
    "name": "ipython",
    "version": 3
   },
   "file_extension": ".py",
   "mimetype": "text/x-python",
   "name": "python",
   "nbconvert_exporter": "python",
   "pygments_lexer": "ipython3",
   "version": "3.10.12"
  }
 },
 "nbformat": 4,
 "nbformat_minor": 2
}
