{
 "cells": [
  {
   "cell_type": "markdown",
   "metadata": {},
   "source": [
    "### Esta es una vesrsión reducida de los datos para las pruebas"
   ]
  },
  {
   "cell_type": "code",
   "execution_count": 2,
   "metadata": {},
   "outputs": [
    {
     "name": "stdout",
     "output_type": "stream",
     "text": [
      "<class 'pandas.core.frame.DataFrame'>\n",
      "RangeIndex: 100 entries, 0 to 99\n",
      "Data columns (total 24 columns):\n",
      " #   Column                Non-Null Count  Dtype         \n",
      "---  ------                --------------  -----         \n",
      " 0   hvfhs_license_num     100 non-null    object        \n",
      " 1   dispatching_base_num  100 non-null    object        \n",
      " 2   originating_base_num  71 non-null     object        \n",
      " 3   request_datetime      100 non-null    datetime64[us]\n",
      " 4   on_scene_datetime     71 non-null     datetime64[us]\n",
      " 5   pickup_datetime       100 non-null    datetime64[us]\n",
      " 6   dropoff_datetime      100 non-null    datetime64[us]\n",
      " 7   PULocationID          100 non-null    int32         \n",
      " 8   DOLocationID          100 non-null    int32         \n",
      " 9   trip_miles            100 non-null    float64       \n",
      " 10  trip_time             100 non-null    int64         \n",
      " 11  base_passenger_fare   100 non-null    float64       \n",
      " 12  tolls                 100 non-null    float64       \n",
      " 13  bcf                   100 non-null    float64       \n",
      " 14  sales_tax             100 non-null    float64       \n",
      " 15  congestion_surcharge  100 non-null    float64       \n",
      " 16  airport_fee           100 non-null    float64       \n",
      " 17  tips                  100 non-null    float64       \n",
      " 18  driver_pay            100 non-null    float64       \n",
      " 19  shared_request_flag   100 non-null    object        \n",
      " 20  shared_match_flag     100 non-null    object        \n",
      " 21  access_a_ride_flag    100 non-null    object        \n",
      " 22  wav_request_flag      100 non-null    object        \n",
      " 23  wav_match_flag        100 non-null    object        \n",
      "dtypes: datetime64[us](4), float64(9), int32(2), int64(1), object(8)\n",
      "memory usage: 18.1+ KB\n",
      "<class 'pandas.core.frame.DataFrame'>\n",
      "RangeIndex: 100 entries, 100 to 199\n",
      "Data columns (total 24 columns):\n",
      " #   Column                Non-Null Count  Dtype         \n",
      "---  ------                --------------  -----         \n",
      " 0   hvfhs_license_num     100 non-null    object        \n",
      " 1   dispatching_base_num  100 non-null    object        \n",
      " 2   originating_base_num  84 non-null     object        \n",
      " 3   request_datetime      100 non-null    datetime64[us]\n",
      " 4   on_scene_datetime     84 non-null     datetime64[us]\n",
      " 5   pickup_datetime       100 non-null    datetime64[us]\n",
      " 6   dropoff_datetime      100 non-null    datetime64[us]\n",
      " 7   PULocationID          100 non-null    int32         \n",
      " 8   DOLocationID          100 non-null    int32         \n",
      " 9   trip_miles            100 non-null    float64       \n",
      " 10  trip_time             100 non-null    int64         \n",
      " 11  base_passenger_fare   100 non-null    float64       \n",
      " 12  tolls                 100 non-null    float64       \n",
      " 13  bcf                   100 non-null    float64       \n",
      " 14  sales_tax             100 non-null    float64       \n",
      " 15  congestion_surcharge  100 non-null    float64       \n",
      " 16  airport_fee           100 non-null    float64       \n",
      " 17  tips                  100 non-null    float64       \n",
      " 18  driver_pay            100 non-null    float64       \n",
      " 19  shared_request_flag   100 non-null    object        \n",
      " 20  shared_match_flag     100 non-null    object        \n",
      " 21  access_a_ride_flag    100 non-null    object        \n",
      " 22  wav_request_flag      100 non-null    object        \n",
      " 23  wav_match_flag        100 non-null    object        \n",
      "dtypes: datetime64[us](4), float64(9), int32(2), int64(1), object(8)\n",
      "memory usage: 18.1+ KB\n"
     ]
    }
   ],
   "source": [
    "import pandas as pd\n",
    "\n",
    "# Leer el archivo parquet en un DataFrame\n",
    "df = pd.read_parquet('../Datasets/fhvhv_tripdata_2024-01.parquet')\n",
    "\n",
    "# Crear un DataFrame con los primeros cien registros\n",
    "df_01Al100 = df.head(100)\n",
    "df_01Al100.info()\n",
    "\n",
    "# Crear un DataFrame con los registros del 101 al 200\n",
    "df_101Al200 = df[100:200]\n",
    "df_101Al200.info()\n",
    "\n",
    "# Guardar los DataFrames como archivos parquet\n",
    "df_01Al100.to_parquet('../Datasets/fhvhv_tripdata_2024-01_01Al100.parquet')\n",
    "df_101Al200.to_parquet('../Datasets/fhvhv_tripdata_2024-01_101Al200.parquet')\n"
   ]
  },
  {
   "cell_type": "code",
   "execution_count": 3,
   "metadata": {},
   "outputs": [
    {
     "name": "stdout",
     "output_type": "stream",
     "text": [
      "<class 'pandas.core.frame.DataFrame'>\n",
      "RangeIndex: 100 entries, 100 to 199\n",
      "Data columns (total 24 columns):\n",
      " #   Column                Non-Null Count  Dtype         \n",
      "---  ------                --------------  -----         \n",
      " 0   hvfhs_license_num     100 non-null    object        \n",
      " 1   dispatching_base_num  100 non-null    object        \n",
      " 2   originating_base_num  84 non-null     object        \n",
      " 3   request_datetime      100 non-null    datetime64[us]\n",
      " 4   on_scene_datetime     84 non-null     datetime64[us]\n",
      " 5   pickup_datetime       100 non-null    datetime64[us]\n",
      " 6   dropoff_datetime      100 non-null    datetime64[us]\n",
      " 7   PULocationID          100 non-null    int32         \n",
      " 8   DOLocationID          100 non-null    int32         \n",
      " 9   trip_miles            100 non-null    float64       \n",
      " 10  trip_time             100 non-null    int64         \n",
      " 11  base_passenger_fare   100 non-null    float64       \n",
      " 12  tolls                 100 non-null    float64       \n",
      " 13  bcf                   100 non-null    float64       \n",
      " 14  sales_tax             100 non-null    float64       \n",
      " 15  congestion_surcharge  100 non-null    float64       \n",
      " 16  airport_fee           100 non-null    float64       \n",
      " 17  tips                  100 non-null    float64       \n",
      " 18  driver_pay            100 non-null    float64       \n",
      " 19  shared_request_flag   100 non-null    object        \n",
      " 20  shared_match_flag     100 non-null    object        \n",
      " 21  access_a_ride_flag    100 non-null    object        \n",
      " 22  wav_request_flag      100 non-null    object        \n",
      " 23  wav_match_flag        100 non-null    object        \n",
      "dtypes: datetime64[us](4), float64(9), int32(2), int64(1), object(8)\n",
      "memory usage: 18.1+ KB\n"
     ]
    }
   ],
   "source": [
    "df_101Al200.info()"
   ]
  }
 ],
 "metadata": {
  "kernelspec": {
   "display_name": "Python 3",
   "language": "python",
   "name": "python3"
  },
  "language_info": {
   "codemirror_mode": {
    "name": "ipython",
    "version": 3
   },
   "file_extension": ".py",
   "mimetype": "text/x-python",
   "name": "python",
   "nbconvert_exporter": "python",
   "pygments_lexer": "ipython3",
   "version": "3.10.12"
  }
 },
 "nbformat": 4,
 "nbformat_minor": 2
}
