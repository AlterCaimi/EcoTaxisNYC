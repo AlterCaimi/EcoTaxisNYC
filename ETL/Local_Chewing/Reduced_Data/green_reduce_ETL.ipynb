{
 "cells": [
  {
   "cell_type": "markdown",
   "metadata": {},
   "source": [
    "### Esta es una vesrsión reducida de los datos para las pruebas"
   ]
  },
  {
   "cell_type": "code",
   "execution_count": 1,
   "metadata": {},
   "outputs": [
    {
     "name": "stdout",
     "output_type": "stream",
     "text": [
      "       VendorID lpep_pickup_datetime lpep_dropoff_datetime store_and_fwd_flag  \\\n",
      "0             2  2024-01-01 00:46:55   2024-01-01 00:58:25                  N   \n",
      "1             2  2024-01-01 00:31:42   2024-01-01 00:52:34                  N   \n",
      "2             2  2024-01-01 00:30:21   2024-01-01 00:49:23                  N   \n",
      "3             1  2024-01-01 00:30:20   2024-01-01 00:42:12                  N   \n",
      "4             2  2024-01-01 00:32:38   2024-01-01 00:43:37                  N   \n",
      "...         ...                  ...                   ...                ...   \n",
      "56546         2  2024-01-31 20:46:00   2024-01-31 20:55:00               None   \n",
      "56547         2  2024-01-31 21:06:00   2024-01-31 21:11:00               None   \n",
      "56548         2  2024-01-31 21:36:00   2024-01-31 21:40:00               None   \n",
      "56549         2  2024-01-31 22:45:00   2024-01-31 22:51:00               None   \n",
      "56550         2  2024-01-31 22:28:00   2024-01-31 22:59:00               None   \n",
      "\n",
      "       RatecodeID  PULocationID  DOLocationID  passenger_count  trip_distance  \\\n",
      "0             1.0           236           239              1.0           1.98   \n",
      "1             1.0            65           170              5.0           6.54   \n",
      "2             1.0            74           262              1.0           3.08   \n",
      "3             1.0            74           116              1.0           2.40   \n",
      "4             1.0            74           243              1.0           5.14   \n",
      "...           ...           ...           ...              ...            ...   \n",
      "56546         NaN            33            25              NaN           0.00   \n",
      "56547         NaN            72            72              NaN           0.49   \n",
      "56548         NaN            72            72              NaN           0.52   \n",
      "56549         NaN            41            42              NaN           1.17   \n",
      "56550         NaN            33            91              NaN           9.27   \n",
      "\n",
      "       fare_amount  extra  mta_tax  tip_amount  tolls_amount  ehail_fee  \\\n",
      "0            12.80    1.0      0.5        3.61           0.0        NaN   \n",
      "1            30.30    1.0      0.5        7.11           0.0        NaN   \n",
      "2            19.80    1.0      0.5        3.00           0.0        NaN   \n",
      "3            14.20    1.0      1.5        0.00           0.0        NaN   \n",
      "4            22.60    1.0      0.5        6.28           0.0        NaN   \n",
      "...            ...    ...      ...         ...           ...        ...   \n",
      "56546        11.58    0.0      0.0        3.14           0.0        NaN   \n",
      "56547        11.58    0.0      0.0        0.00           0.0        NaN   \n",
      "56548        11.58    0.0      0.0        2.52           0.0        NaN   \n",
      "56549        14.22    0.0      0.0        0.00           0.0        NaN   \n",
      "56550        44.62    0.0      0.0        4.56           0.0        NaN   \n",
      "\n",
      "       improvement_surcharge  total_amount  payment_type  trip_type  \\\n",
      "0                        1.0         21.66           1.0        1.0   \n",
      "1                        1.0         42.66           1.0        1.0   \n",
      "2                        1.0         28.05           1.0        1.0   \n",
      "3                        1.0         16.70           2.0        1.0   \n",
      "4                        1.0         31.38           1.0        1.0   \n",
      "...                      ...           ...           ...        ...   \n",
      "56546                    1.0         15.72           NaN        NaN   \n",
      "56547                    1.0         12.58           NaN        NaN   \n",
      "56548                    1.0         15.10           NaN        NaN   \n",
      "56549                    1.0         15.22           NaN        NaN   \n",
      "56550                    1.0         50.18           NaN        NaN   \n",
      "\n",
      "       congestion_surcharge  \n",
      "0                      2.75  \n",
      "1                      2.75  \n",
      "2                      2.75  \n",
      "3                      0.00  \n",
      "4                      0.00  \n",
      "...                     ...  \n",
      "56546                   NaN  \n",
      "56547                   NaN  \n",
      "56548                   NaN  \n",
      "56549                   NaN  \n",
      "56550                   NaN  \n",
      "\n",
      "[56551 rows x 20 columns]\n"
     ]
    }
   ],
   "source": [
    "import pandas as pd\n",
    "\n",
    "# Leer el archivo parquet en un DataFrame\n",
    "df = pd.read_parquet('../Datasets/green_tripdata_2024-01.parquet')\n",
    "\n",
    "# Mostrar el DataFrame\n",
    "print(df)"
   ]
  },
  {
   "cell_type": "code",
   "execution_count": 2,
   "metadata": {},
   "outputs": [
    {
     "name": "stdout",
     "output_type": "stream",
     "text": [
      "(100, 20)\n"
     ]
    }
   ],
   "source": [
    "df = df.head(100)\n",
    "print(df.shape)\n",
    "# Guardar el DataFrame como un archivo parquet\n",
    "df.to_parquet('../Datasets/green_tripdata_2024-01_01Al100.parquet')"
   ]
  },
  {
   "cell_type": "code",
   "execution_count": 3,
   "metadata": {},
   "outputs": [
    {
     "name": "stdout",
     "output_type": "stream",
     "text": [
      "<class 'pandas.core.frame.DataFrame'>\n",
      "RangeIndex: 100 entries, 0 to 99\n",
      "Data columns (total 20 columns):\n",
      " #   Column                 Non-Null Count  Dtype         \n",
      "---  ------                 --------------  -----         \n",
      " 0   VendorID               100 non-null    int32         \n",
      " 1   lpep_pickup_datetime   100 non-null    datetime64[us]\n",
      " 2   lpep_dropoff_datetime  100 non-null    datetime64[us]\n",
      " 3   store_and_fwd_flag     100 non-null    object        \n",
      " 4   RatecodeID             100 non-null    float64       \n",
      " 5   PULocationID           100 non-null    int32         \n",
      " 6   DOLocationID           100 non-null    int32         \n",
      " 7   passenger_count        100 non-null    float64       \n",
      " 8   trip_distance          100 non-null    float64       \n",
      " 9   fare_amount            100 non-null    float64       \n",
      " 10  extra                  100 non-null    float64       \n",
      " 11  mta_tax                100 non-null    float64       \n",
      " 12  tip_amount             100 non-null    float64       \n",
      " 13  tolls_amount           100 non-null    float64       \n",
      " 14  ehail_fee              0 non-null      float64       \n",
      " 15  improvement_surcharge  100 non-null    float64       \n",
      " 16  total_amount           100 non-null    float64       \n",
      " 17  payment_type           100 non-null    float64       \n",
      " 18  trip_type              100 non-null    float64       \n",
      " 19  congestion_surcharge   100 non-null    float64       \n",
      "dtypes: datetime64[us](2), float64(14), int32(3), object(1)\n",
      "memory usage: 14.6+ KB\n"
     ]
    }
   ],
   "source": [
    "df.info()"
   ]
  }
 ],
 "metadata": {
  "kernelspec": {
   "display_name": "Python 3",
   "language": "python",
   "name": "python3"
  },
  "language_info": {
   "codemirror_mode": {
    "name": "ipython",
    "version": 3
   },
   "file_extension": ".py",
   "mimetype": "text/x-python",
   "name": "python",
   "nbconvert_exporter": "python",
   "pygments_lexer": "ipython3",
   "version": "3.10.12"
  }
 },
 "nbformat": 4,
 "nbformat_minor": 2
}
