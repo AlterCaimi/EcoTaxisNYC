{
 "cells": [
  {
   "cell_type": "code",
   "execution_count": 1,
   "metadata": {},
   "outputs": [
    {
     "name": "stdout",
     "output_type": "stream",
     "text": [
      "WARNING:tensorflow:From c:\\Users\\alter\\AppData\\Local\\Programs\\Python\\Python311\\Lib\\site-packages\\keras\\src\\losses.py:2976: The name tf.losses.sparse_softmax_cross_entropy is deprecated. Please use tf.compat.v1.losses.sparse_softmax_cross_entropy instead.\n",
      "\n"
     ]
    }
   ],
   "source": [
    "from ensemble_functions import *"
   ]
  },
  {
   "cell_type": "code",
   "execution_count": 2,
   "metadata": {},
   "outputs": [],
   "source": [
    "np.random.seed(42)"
   ]
  },
  {
   "cell_type": "code",
   "execution_count": 3,
   "metadata": {},
   "outputs": [],
   "source": [
    "training_data = pd.read_parquet('training_data.parquet')"
   ]
  },
  {
   "cell_type": "code",
   "execution_count": 4,
   "metadata": {},
   "outputs": [
    {
     "name": "stdout",
     "output_type": "stream",
     "text": [
      "Comienzo del entrenamiento del ensemble\n",
      "Inicio de construcción modelo LSTM\n",
      "WARNING:tensorflow:From c:\\Users\\alter\\AppData\\Local\\Programs\\Python\\Python311\\Lib\\site-packages\\keras\\src\\backend.py:873: The name tf.get_default_graph is deprecated. Please use tf.compat.v1.get_default_graph instead.\n",
      "\n",
      "WARNING:tensorflow:From c:\\Users\\alter\\AppData\\Local\\Programs\\Python\\Python311\\Lib\\site-packages\\keras\\src\\utils\\tf_utils.py:492: The name tf.ragged.RaggedTensorValue is deprecated. Please use tf.compat.v1.ragged.RaggedTensorValue instead.\n",
      "\n",
      "88/88 [==============================] - 0s 3ms/step - loss: 0.0038\n",
      "88/88 [==============================] - 0s 3ms/step\n",
      "Finalizada la construcción de LSTM\n",
      "RMSE por distrito:\n",
      "{'Bronx': 305.2651636224124, 'Brooklyn': 851.9436153073556, 'Manhattan': 2019.819220470156, 'Queens': 588.3031526140378, 'Staten Island': 61.855621935433945}\n",
      "Inicio de construcción modelo RF\n",
      "Inicio de evaluación de Bronx\n",
      "Mejores Hiperparámetros: {'max_depth': 20, 'min_samples_split': 5, 'n_estimators': 150}\n",
      "RMSE: 322.5181632969083\n",
      "-----------------------------------------------------------------------------------------\n",
      "Inicio de evaluación de Brooklyn\n",
      "Mejores Hiperparámetros: {'max_depth': None, 'min_samples_split': 5, 'n_estimators': 200}\n",
      "RMSE: 735.7777706862355\n",
      "-----------------------------------------------------------------------------------------\n",
      "Inicio de evaluación de Manhattan\n",
      "Mejores Hiperparámetros: {'max_depth': 10, 'min_samples_split': 2, 'n_estimators': 200}\n",
      "RMSE: 1420.814886784879\n",
      "-----------------------------------------------------------------------------------------\n",
      "Inicio de evaluación de Queens\n",
      "Mejores Hiperparámetros: {'max_depth': 10, 'min_samples_split': 5, 'n_estimators': 100}\n",
      "RMSE: 520.82347996801\n",
      "-----------------------------------------------------------------------------------------\n",
      "Inicio de evaluación de Staten Island\n",
      "Mejores Hiperparámetros: {'max_depth': 20, 'min_samples_split': 10, 'n_estimators': 200}\n",
      "RMSE: 52.044649154814785\n",
      "-----------------------------------------------------------------------------------------\n",
      "Inicio de construcción modelo XGB\n",
      "Inicio de evaluación de Bronx\n",
      "Mejores Hiperparámetros: {'learning_rate': 0.05, 'max_depth': 4, 'n_estimators': 1000}\n",
      "RMSE: 272.94807605763305\n",
      "-----------------------------------------------------------------------------------------\n",
      "Inicio de evaluación de Brooklyn\n",
      "Mejores Hiperparámetros: {'learning_rate': 0.05, 'max_depth': 4, 'n_estimators': 1000}\n",
      "RMSE: 710.2256695576884\n",
      "-----------------------------------------------------------------------------------------\n",
      "Inicio de evaluación de Manhattan\n",
      "Mejores Hiperparámetros: {'learning_rate': 0.1, 'max_depth': 4, 'n_estimators': 500}\n",
      "RMSE: 1445.479204318016\n",
      "-----------------------------------------------------------------------------------------\n",
      "Inicio de evaluación de Queens\n",
      "Mejores Hiperparámetros: {'learning_rate': 0.05, 'max_depth': 4, 'n_estimators': 1000}\n",
      "RMSE: 495.52152514144706\n",
      "-----------------------------------------------------------------------------------------\n",
      "Inicio de evaluación de Staten Island\n",
      "Mejores Hiperparámetros: {'learning_rate': 0.05, 'max_depth': 4, 'n_estimators': 500}\n",
      "RMSE: 50.989536739681725\n",
      "-----------------------------------------------------------------------------------------\n",
      "Inicio de construcción modelo LGBM\n",
      "Inicio de evaluación de Bronx\n",
      "Mejores Hiperparámetros: {'learning_rate': 0.2, 'max_depth': 5, 'n_estimators': 100, 'num_leaves': 50}\n",
      "RMSE: 274.4201237897801\n",
      "-----------------------------------------------------------------------------------------\n",
      "Inicio de evaluación de Brooklyn\n",
      "Mejores Hiperparámetros: {'learning_rate': 0.1, 'max_depth': 7, 'n_estimators': 100, 'num_leaves': 31}\n",
      "RMSE: 673.1465984832224\n",
      "-----------------------------------------------------------------------------------------\n",
      "Inicio de evaluación de Manhattan\n",
      "Mejores Hiperparámetros: {'learning_rate': 0.05, 'max_depth': 7, 'n_estimators': 100, 'num_leaves': 31}\n",
      "RMSE: 1359.992405649711\n",
      "-----------------------------------------------------------------------------------------\n",
      "Inicio de evaluación de Queens\n",
      "Mejores Hiperparámetros: {'learning_rate': 0.05, 'max_depth': 7, 'n_estimators': 100, 'num_leaves': 31}\n",
      "RMSE: 558.6488663840627\n",
      "-----------------------------------------------------------------------------------------\n",
      "Inicio de evaluación de Staten Island\n",
      "Mejores Hiperparámetros: {'learning_rate': 0.1, 'max_depth': 7, 'n_estimators': 100, 'num_leaves': 50}\n",
      "RMSE: 54.33653311654604\n",
      "-----------------------------------------------------------------------------------------\n",
      "INFO:tensorflow:Assets written to: C:\\Users\\alter\\AppData\\Local\\Temp\\tmppkoje9qd\\assets\n"
     ]
    },
    {
     "name": "stderr",
     "output_type": "stream",
     "text": [
      "INFO:tensorflow:Assets written to: C:\\Users\\alter\\AppData\\Local\\Temp\\tmppkoje9qd\\assets\n"
     ]
    },
    {
     "name": "stdout",
     "output_type": "stream",
     "text": [
      "Ponderacion: lin\n",
      "110/110 [==============================] - 0s 3ms/step\n",
      "Distrito: Bronx\n",
      "RMSE: 409.0920809132151\n",
      "Distrito: Brooklyn\n",
      "RMSE: 917.0249704960545\n",
      "Distrito: Manhattan\n",
      "RMSE: 1733.696762121169\n",
      "Distrito: Queens\n",
      "RMSE: 700.92588564742\n",
      "Distrito: Staten Island\n",
      "RMSE: 66.95494639755282\n",
      "Ponderacion: exp Alpha: 0.001\n",
      "110/110 [==============================] - 0s 3ms/step\n",
      "Distrito: Bronx\n",
      "RMSE: 409.0785335872535\n",
      "Distrito: Brooklyn\n",
      "RMSE: 915.8708530947157\n",
      "Distrito: Manhattan\n",
      "RMSE: 1754.0674444273475\n",
      "Distrito: Queens\n",
      "RMSE: 699.3391413602332\n",
      "Distrito: Staten Island\n",
      "RMSE: 67.02831767324722\n",
      "Ponderacion: exp Alpha: 0.01\n",
      "110/110 [==============================] - 0s 3ms/step\n",
      "Distrito: Bronx\n",
      "RMSE: 409.79787432266073\n",
      "Distrito: Brooklyn\n",
      "RMSE: 916.1830959343188\n",
      "Distrito: Manhattan\n",
      "RMSE: 1896.6695677611376\n",
      "Distrito: Queens\n",
      "RMSE: 666.8233296443578\n",
      "Distrito: Staten Island\n",
      "RMSE: 66.90709669724015\n",
      "Ponderacion: exp Alpha: 0.1\n",
      "110/110 [==============================] - 0s 3ms/step\n",
      "Distrito: Bronx\n",
      "RMSE: 417.1482907608635\n",
      "Distrito: Brooklyn\n",
      "RMSE: 981.8755978359006\n",
      "Distrito: Manhattan\n",
      "RMSE: 2168.6934219978507\n",
      "Distrito: Queens\n",
      "RMSE: 588.5936824385506\n",
      "Distrito: Staten Island\n",
      "RMSE: 66.08179304764748\n",
      "Ponderacion: exp Alpha: 0.5\n",
      "110/110 [==============================] - 0s 3ms/step\n",
      "Distrito: Bronx\n",
      "RMSE: 413.93593291597296\n",
      "Distrito: Brooklyn\n",
      "RMSE: 986.7480579777368\n",
      "Distrito: Manhattan\n",
      "RMSE: 2170.0234267117603\n",
      "Distrito: Queens\n",
      "RMSE: 582.7423119802176\n",
      "Distrito: Staten Island\n",
      "RMSE: 65.3782189844328\n",
      "Ponderacion: inv\n",
      "110/110 [==============================] - 0s 3ms/step\n",
      "Distrito: Bronx\n",
      "RMSE: 409.21628789336097\n",
      "Distrito: Brooklyn\n",
      "RMSE: 915.3774304843159\n",
      "Distrito: Manhattan\n",
      "RMSE: 1743.095912315583\n",
      "Distrito: Queens\n",
      "RMSE: 695.9074612525981\n",
      "Distrito: Staten Island\n",
      "RMSE: 66.81628419102016\n",
      "Finalizado el testeo del ensemble\n",
      "Mejor ponderación: inv\n",
      "Mejor alpha: 0.001\n",
      "Errores {'Bronx': {'MSE': 167457.97027722208, 'RMSE': 409.21628789336097, 'NRMSE': 0.14094417548183474}, 'Brooklyn': {'MSE': 837915.8402400686, 'RMSE': 915.3774304843159, 'NRMSE': 0.13844247793076822}, 'Manhattan': {'MSE': 3038383.3595312946, 'RMSE': 1743.095912315583, 'NRMSE': 0.13671026693069477}, 'Queens': {'MSE': 484287.1946270363, 'RMSE': 695.9074612525981, 'NRMSE': 0.12818931187906796}, 'Staten Island': {'MSE': 4464.4158330951705, 'RMSE': 66.81628419102016, 'NRMSE': 0.18786264589246504}}\n"
     ]
    }
   ],
   "source": [
    "ensemble, ensemble_predictions, ensemble_errors, ponderacion = train_ensemble(data=training_data, verbose=1, file='ensemble_2.joblib')"
   ]
  },
  {
   "cell_type": "code",
   "execution_count": 5,
   "metadata": {},
   "outputs": [
    {
     "name": "stdout",
     "output_type": "stream",
     "text": [
      "INFO:tensorflow:Assets written to: C:\\Users\\alter\\AppData\\Local\\Temp\\tmp7drx7_yv\\assets\n"
     ]
    },
    {
     "name": "stderr",
     "output_type": "stream",
     "text": [
      "INFO:tensorflow:Assets written to: C:\\Users\\alter\\AppData\\Local\\Temp\\tmp7drx7_yv\\assets\n"
     ]
    },
    {
     "name": "stdout",
     "output_type": "stream",
     "text": [
      "Modelo exportado: ensemble_2_complete.joblib\n"
     ]
    }
   ],
   "source": [
    "exportar_modelo(ensemble, ensemble_predictions, ensemble_errors, ponderacion, archivo='ensemble_2_complete.joblib')"
   ]
  }
 ],
 "metadata": {
  "kernelspec": {
   "display_name": "Python 3",
   "language": "python",
   "name": "python3"
  },
  "language_info": {
   "codemirror_mode": {
    "name": "ipython",
    "version": 3
   },
   "file_extension": ".py",
   "mimetype": "text/x-python",
   "name": "python",
   "nbconvert_exporter": "python",
   "pygments_lexer": "ipython3",
   "version": "3.11.5"
  }
 },
 "nbformat": 4,
 "nbformat_minor": 2
}
