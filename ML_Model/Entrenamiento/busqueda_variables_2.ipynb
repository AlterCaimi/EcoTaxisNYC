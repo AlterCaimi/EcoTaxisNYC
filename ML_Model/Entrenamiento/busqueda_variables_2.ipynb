{
 "cells": [
  {
   "cell_type": "code",
   "execution_count": 4,
   "metadata": {},
   "outputs": [],
   "source": [
    "from ensemble_functions import *\n",
    "import h5py\n",
    "import copy"
   ]
  },
  {
   "cell_type": "code",
   "execution_count": 2,
   "metadata": {},
   "outputs": [
    {
     "name": "stdout",
     "output_type": "stream",
     "text": [
      "WARNING:tensorflow:From c:\\Users\\alter\\AppData\\Local\\Programs\\Python\\Python311\\Lib\\site-packages\\keras\\src\\saving\\legacy\\saved_model\\load.py:107: The name tf.gfile.Exists is deprecated. Please use tf.io.gfile.exists instead.\n",
      "\n",
      "WARNING:tensorflow:From c:\\Users\\alter\\AppData\\Local\\Programs\\Python\\Python311\\Lib\\site-packages\\keras\\src\\layers\\rnn\\lstm.py:148: The name tf.executing_eagerly_outside_functions is deprecated. Please use tf.compat.v1.executing_eagerly_outside_functions instead.\n",
      "\n",
      "WARNING:tensorflow:From c:\\Users\\alter\\AppData\\Local\\Programs\\Python\\Python311\\Lib\\site-packages\\keras\\src\\saving\\legacy\\save.py:538: The name tf.train.NewCheckpointReader is deprecated. Please use tf.compat.v1.train.NewCheckpointReader instead.\n",
      "\n"
     ]
    }
   ],
   "source": [
    "ensemble_data = load(\"ensemble_2_complete.joblib\")"
   ]
  },
  {
   "cell_type": "code",
   "execution_count": 3,
   "metadata": {},
   "outputs": [],
   "source": [
    "lstm_model = ensemble_data['ensemble']['models']['lstm']\n",
    "lstm_model.save('lstm_model_2.h5')"
   ]
  },
  {
   "cell_type": "code",
   "execution_count": 5,
   "metadata": {},
   "outputs": [
    {
     "name": "stdout",
     "output_type": "stream",
     "text": [
      "INFO:tensorflow:Assets written to: C:\\Users\\alter\\AppData\\Local\\Temp\\tmpfadtf2_m\\assets\n"
     ]
    },
    {
     "name": "stderr",
     "output_type": "stream",
     "text": [
      "INFO:tensorflow:Assets written to: C:\\Users\\alter\\AppData\\Local\\Temp\\tmpfadtf2_m\\assets\n"
     ]
    }
   ],
   "source": [
    "nuevo_ensemble = copy.deepcopy(ensemble_data)"
   ]
  },
  {
   "cell_type": "code",
   "execution_count": 6,
   "metadata": {},
   "outputs": [
    {
     "name": "stdout",
     "output_type": "stream",
     "text": [
      "INFO:tensorflow:Assets written to: C:\\Users\\alter\\AppData\\Local\\Temp\\tmpehow5d1o\\assets\n"
     ]
    },
    {
     "name": "stderr",
     "output_type": "stream",
     "text": [
      "INFO:tensorflow:Assets written to: C:\\Users\\alter\\AppData\\Local\\Temp\\tmpehow5d1o\\assets\n"
     ]
    }
   ],
   "source": [
    "ensemble_sin_lstm = copy.deepcopy(nuevo_ensemble)\n",
    "del ensemble_sin_lstm['ensemble']['models']['lstm']\n",
    "del ensemble_sin_lstm['ensemble_predictions']\n",
    "del ensemble_sin_lstm['ensemble']['errors']\n",
    "del ensemble_sin_lstm['ensemble']['lstm_data']['history']\n",
    "del ensemble_sin_lstm['ensemble']['test_predictions']"
   ]
  },
  {
   "cell_type": "code",
   "execution_count": 7,
   "metadata": {},
   "outputs": [
    {
     "data": {
      "text/plain": [
       "{'lin': {'Bronx': {'MSE': 167356.33066590453,\n",
       "   'RMSE': 409.0920809132151,\n",
       "   'NRMSE': 0.14090139553654987},\n",
       "  'Brooklyn': {'MSE': 840934.7965132896,\n",
       "   'RMSE': 917.0249704960545,\n",
       "   'NRMSE': 0.13869165331364225},\n",
       "  'Manhattan': {'MSE': 3005704.4629894258,\n",
       "   'RMSE': 1733.696762121169,\n",
       "   'NRMSE': 0.13597309560069432},\n",
       "  'Queens': {'MSE': 491297.09717062017,\n",
       "   'RMSE': 700.92588564742,\n",
       "   'NRMSE': 0.12911372842251387},\n",
       "  'Staten Island': {'MSE': 4482.9648470991715,\n",
       "   'RMSE': 66.95494639755282,\n",
       "   'NRMSE': 0.1882525126640149}},\n",
       " 'exp': {0.001: {'Bronx': {'MSE': 167345.24664189768,\n",
       "    'RMSE': 409.0785335872535,\n",
       "    'NRMSE': 0.1408967295035885},\n",
       "   'Brooklyn': {'MSE': 838819.4195484424,\n",
       "    'RMSE': 915.8708530947157,\n",
       "    'NRMSE': 0.13851710359508537},\n",
       "   'Manhattan': {'MSE': 3076752.5995998858,\n",
       "    'RMSE': 1754.0674444273475,\n",
       "    'NRMSE': 0.13757075950201028},\n",
       "   'Queens': {'MSE': 489075.23463846813,\n",
       "    'RMSE': 699.3391413602332,\n",
       "    'NRMSE': 0.12882144292533526},\n",
       "   'Staten Island': {'MSE': 4492.795370105745,\n",
       "    'RMSE': 67.02831767324722,\n",
       "    'NRMSE': 0.1884588055183893}},\n",
       "  0.01: {'Bronx': {'MSE': 167934.29779937124,\n",
       "    'RMSE': 409.79787432266073,\n",
       "    'NRMSE': 0.14114448818241435},\n",
       "   'Brooklyn': {'MSE': 839391.4652757931,\n",
       "    'RMSE': 916.1830959343188,\n",
       "    'NRMSE': 0.1385643274734455},\n",
       "   'Manhattan': {'MSE': 3597355.4492712202,\n",
       "    'RMSE': 1896.6695677611376,\n",
       "    'NRMSE': 0.14875498304823404},\n",
       "   'Queens': {'MSE': 444653.352957988,\n",
       "    'RMSE': 666.8233296443578,\n",
       "    'NRMSE': 0.12283188287442721},\n",
       "   'Staten Island': {'MSE': 4476.559588453844,\n",
       "    'RMSE': 66.90709669724015,\n",
       "    'NRMSE': 0.18811797702775895}},\n",
       "  0.1: {'Bronx': {'MSE': 174012.69648470992,\n",
       "    'RMSE': 417.1482907608635,\n",
       "    'NRMSE': 0.14367615276904142},\n",
       "   'Brooklyn': {'MSE': 964079.6896256073,\n",
       "    'RMSE': 981.8755978359006,\n",
       "    'NRMSE': 0.14849971853930868},\n",
       "   'Manhattan': {'MSE': 4703231.158616748,\n",
       "    'RMSE': 2168.6934219978507,\n",
       "    'NRMSE': 0.1700896975992051},\n",
       "   'Queens': {'MSE': 346442.5230065733,\n",
       "    'RMSE': 588.5936824385506,\n",
       "    'NRMSE': 0.10842162691050289},\n",
       "   'Staten Island': {'MSE': 4366.803372392112,\n",
       "    'RMSE': 66.08179304764748,\n",
       "    'NRMSE': 0.18579752881435735}},\n",
       "  0.5: {'Bronx': {'MSE': 171342.95655901686,\n",
       "    'RMSE': 413.93593291597296,\n",
       "    'NRMSE': 0.14256973755245383},\n",
       "   'Brooklyn': {'MSE': 973671.7299228351,\n",
       "    'RMSE': 986.7480579777368,\n",
       "    'NRMSE': 0.14923663364469622},\n",
       "   'Manhattan': {'MSE': 4709001.672477851,\n",
       "    'RMSE': 2170.0234267117603,\n",
       "    'NRMSE': 0.17019400930011208},\n",
       "   'Queens': {'MSE': 339588.60217204917,\n",
       "    'RMSE': 582.7423119802176,\n",
       "    'NRMSE': 0.10734377792286148},\n",
       "   'Staten Island': {'MSE': 4274.311517576451,\n",
       "    'RMSE': 65.3782189844328,\n",
       "    'NRMSE': 0.18381933911558648}}},\n",
       " 'inv': {'Bronx': {'MSE': 167457.97027722208,\n",
       "   'RMSE': 409.21628789336097,\n",
       "   'NRMSE': 0.14094417548183474},\n",
       "  'Brooklyn': {'MSE': 837915.8402400686,\n",
       "   'RMSE': 915.3774304843159,\n",
       "   'NRMSE': 0.13844247793076822},\n",
       "  'Manhattan': {'MSE': 3038383.3595312946,\n",
       "   'RMSE': 1743.095912315583,\n",
       "   'NRMSE': 0.13671026693069477},\n",
       "  'Queens': {'MSE': 484287.1946270363,\n",
       "   'RMSE': 695.9074612525981,\n",
       "   'NRMSE': 0.12818931187906796},\n",
       "  'Staten Island': {'MSE': 4464.4158330951705,\n",
       "   'RMSE': 66.81628419102016,\n",
       "   'NRMSE': 0.18786264589246504}}}"
      ]
     },
     "execution_count": 7,
     "metadata": {},
     "output_type": "execute_result"
    }
   ],
   "source": [
    "ensemble_sin_lstm['ensemble_errors']"
   ]
  },
  {
   "cell_type": "code",
   "execution_count": 8,
   "metadata": {},
   "outputs": [
    {
     "data": {
      "text/plain": [
       "['ensemble_2_sin_lstm.joblib']"
      ]
     },
     "execution_count": 8,
     "metadata": {},
     "output_type": "execute_result"
    }
   ],
   "source": [
    "archivo = 'ensemble_2_sin_lstm.joblib'\n",
    "dump(ensemble_sin_lstm, archivo)"
   ]
  },
  {
   "cell_type": "code",
   "execution_count": 9,
   "metadata": {},
   "outputs": [
    {
     "name": "stdout",
     "output_type": "stream",
     "text": [
      "Archivo ensemble_2_sin_lstm.joblib comprimido como ../../Streamlit/data/ensemble_2_sin_lstm.tar.gz\n"
     ]
    }
   ],
   "source": [
    "import tarfile\n",
    "\n",
    "# Nombre del archivo a comprimir\n",
    "nombre_archivo_joblib = \"ensemble_2_sin_lstm.joblib\"\n",
    "\n",
    "# Nombre del archivo tar.gz comprimido\n",
    "nombre_archivo_comprimido = \"../../Streamlit/data/ensemble_2_sin_lstm.tar.gz\"\n",
    "\n",
    "# Abrir el archivo tar.gz en modo de escritura con compresión gzip\n",
    "with tarfile.open(nombre_archivo_comprimido, \"w:gz\") as tar:\n",
    "    # Agregar el archivo .joblib al archivo tar.gz\n",
    "    tar.add(nombre_archivo_joblib)\n",
    "\n",
    "\n",
    "print(f\"Archivo {nombre_archivo_joblib} comprimido como {nombre_archivo_comprimido}\")"
   ]
  }
 ],
 "metadata": {
  "kernelspec": {
   "display_name": "Python 3",
   "language": "python",
   "name": "python3"
  },
  "language_info": {
   "codemirror_mode": {
    "name": "ipython",
    "version": 3
   },
   "file_extension": ".py",
   "mimetype": "text/x-python",
   "name": "python",
   "nbconvert_exporter": "python",
   "pygments_lexer": "ipython3",
   "version": "3.11.5"
  }
 },
 "nbformat": 4,
 "nbformat_minor": 2
}
